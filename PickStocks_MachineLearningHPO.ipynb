{
 "cells": [
  {
   "cell_type": "markdown",
   "metadata": {},
   "source": [
    "### ------------------------------------------------------------------------------------------------------------"
   ]
  },
  {
   "cell_type": "code",
   "execution_count": null,
   "metadata": {
    "id": "LTSDSXZTURm5",
    "ExecuteTime": {
     "start_time": "2023-04-01T15:31:18.701386Z",
     "end_time": "2023-04-01T15:31:19.236907Z"
    }
   },
   "outputs": [],
   "source": [
    "import os\n",
    "\n",
    "if 'COLAB_GPU' in os.environ:\n",
    "    !git clone https://github.com/impulsecorp/PickStocks.git\n",
    "    !mv PickStocks/*.py .\n",
    "    !mv PickStocks/data .\n",
    "    !pip install -U -qq -r PickStocks/requirements.txt"
   ]
  },
  {
   "cell_type": "code",
   "execution_count": null,
   "metadata": {
    "id": "rqKDcXZB4tNG",
    "ExecuteTime": {
     "start_time": "2023-04-01T15:31:18.749259Z",
     "end_time": "2023-04-01T15:31:21.067146Z"
    }
   },
   "outputs": [],
   "source": [
    "import warnings\n",
    "warnings.filterwarnings(\"ignore\")\n",
    "import system\n",
    "from system import *\n",
    "# small hack to prevent Colab error\n",
    "try:\n",
    "    from datablock import *\n",
    "except:\n",
    "    from datablock import *\n",
    "seed"
   ]
  },
  {
   "cell_type": "code",
   "execution_count": null,
   "metadata": {
    "ExecuteTime": {
     "start_time": "2023-04-01T15:31:21.068155Z",
     "end_time": "2023-04-01T15:31:21.113399Z"
    }
   },
   "outputs": [],
   "source": [
    "%pylab inline"
   ]
  },
  {
   "cell_type": "markdown",
   "metadata": {},
   "source": [
    "### Setup"
   ]
  },
  {
   "cell_type": "code",
   "execution_count": null,
   "metadata": {
    "ExecuteTime": {
     "start_time": "2023-04-01T15:31:21.083503Z",
     "end_time": "2023-04-01T15:31:21.604270Z"
    }
   },
   "outputs": [],
   "source": [
    "data_timeperiod = 'D'\n",
    "data = get_data('SPY', period=data_timeperiod, nrows=None)\n",
    "data = procdata_lite(data)"
   ]
  },
  {
   "cell_type": "code",
   "execution_count": null,
   "metadata": {
    "ExecuteTime": {
     "start_time": "2023-04-01T15:31:21.605265Z",
     "end_time": "2023-04-01T15:31:21.667118Z"
    }
   },
   "outputs": [],
   "source": [
    "# for inspectiion\n",
    "print(data.shape)\n",
    "data.head()"
   ]
  },
  {
   "cell_type": "code",
   "execution_count": null,
   "metadata": {
    "ExecuteTime": {
     "start_time": "2023-04-01T15:31:21.668068Z",
     "end_time": "2023-04-01T15:31:21.712054Z"
    }
   },
   "outputs": [],
   "source": [
    "system.train_set_end = 0.7 # percentage point specifying the training set end point (1.0 means all data is training set)\n",
    "system.val_set_end = 1.0    # percentage point specifying the validation set end point (1.0 means no test set)\n",
    "system.balance_data = 1\n",
    "system.scale_data = 1"
   ]
  },
  {
   "cell_type": "markdown",
   "metadata": {},
   "source": [
    "### ------------------------------------------------------------------------------------------------------------"
   ]
  },
  {
   "cell_type": "markdown",
   "metadata": {},
   "source": [
    "### LogisticRegression"
   ]
  },
  {
   "cell_type": "code",
   "execution_count": null,
   "metadata": {
    "ExecuteTime": {
     "start_time": "2023-04-01T15:31:21.684130Z",
     "end_time": "2023-04-01T15:31:21.985324Z"
    }
   },
   "outputs": [],
   "source": [
    "# Train LogisticRegression classifier on train data\n",
    "clf, scaler = train_ensemble(LogisticRegression, data, ensemble_size=10)"
   ]
  },
  {
   "cell_type": "code",
   "execution_count": null,
   "metadata": {
    "ExecuteTime": {
     "start_time": "2023-04-01T15:31:21.918503Z",
     "end_time": "2023-04-01T15:31:22.734322Z"
    }
   },
   "outputs": [],
   "source": [
    "# Test on val data\n",
    "equity, pf, trades = qbacktest(clf, scaler, data)"
   ]
  },
  {
   "cell_type": "code",
   "execution_count": null,
   "metadata": {
    "ExecuteTime": {
     "start_time": "2023-04-01T15:31:22.735347Z",
     "end_time": "2023-04-01T15:31:22.749323Z"
    }
   },
   "outputs": [],
   "source": [
    "trades.head()"
   ]
  },
  {
   "cell_type": "markdown",
   "metadata": {},
   "source": [
    "### LogisticRegression + HPO"
   ]
  },
  {
   "cell_type": "code",
   "execution_count": null,
   "metadata": {
    "ExecuteTime": {
     "start_time": "2023-04-01T15:31:22.809123Z",
     "end_time": "2023-04-01T15:31:29.263395Z"
    }
   },
   "outputs": [],
   "source": [
    "# Train LogisticRegression classifier on train data, but optimize it with HPO first\n",
    "\n",
    "X_train, y_train = get_clean_Xy(data.iloc[0:int(data.shape[0] * system.train_set_end)])\n",
    "scaler = StandardScaler()\n",
    "X_train = scaler.fit_transform(X_train)\n",
    "if system.balance_data:\n",
    "    # Apply SMOTE oversampling to balance the training data\n",
    "    sm = SMOTE(random_state=newseed())\n",
    "    X_train, y_train = sm.fit_resample(X_train, y_train)\n",
    "best_hyperparams = optimize_model(LogisticRegression, 'LogisticRegression', {\"C\": hp.loguniform(\"C\", -5, 2),\n",
    "                                                                               \"max_iter\": hp.choice(\"max_iter\", range(5, 501)),\n",
    "                                                                               \"dual\": hp.choice(\"dual\", (True, False)),\n",
    "                                                                               \"fit_intercept\": hp.choice(\"fit_intercept\", (True, False))},\n",
    "                                  X_train, y_train, max_evals=100)\n",
    "clf, scaler = train_classifier(LogisticRegression, data, **best_hyperparams)"
   ]
  },
  {
   "cell_type": "code",
   "execution_count": null,
   "metadata": {
    "ExecuteTime": {
     "start_time": "2023-04-01T15:31:29.264394Z",
     "end_time": "2023-04-01T15:31:30.016579Z"
    }
   },
   "outputs": [],
   "source": [
    "# Test on val data\n",
    "equity, pf, trades = qbacktest(clf, scaler, data)"
   ]
  },
  {
   "cell_type": "code",
   "execution_count": null,
   "metadata": {
    "ExecuteTime": {
     "start_time": "2023-04-01T15:31:30.020551Z",
     "end_time": "2023-04-01T15:31:30.030192Z"
    }
   },
   "outputs": [],
   "source": [
    "trades.head()"
   ]
  },
  {
   "cell_type": "markdown",
   "metadata": {},
   "source": [
    "### ------------------------------------------------------------------------------------------------------------"
   ]
  },
  {
   "cell_type": "markdown",
   "metadata": {},
   "source": [
    "### XGBClassifier"
   ]
  },
  {
   "cell_type": "code",
   "execution_count": null,
   "metadata": {
    "ExecuteTime": {
     "start_time": "2023-04-01T15:31:30.031192Z",
     "end_time": "2023-04-01T15:31:30.831053Z"
    }
   },
   "outputs": [],
   "source": [
    "# Train XGBClassifier classifier on train data\n",
    "clf, scaler = train_ensemble(XGBClassifier, data, ensemble_size=10)"
   ]
  },
  {
   "cell_type": "code",
   "execution_count": null,
   "metadata": {
    "ExecuteTime": {
     "start_time": "2023-04-01T15:31:30.834044Z",
     "end_time": "2023-04-01T15:31:32.797857Z"
    }
   },
   "outputs": [],
   "source": [
    "# Test on val data\n",
    "equity, pf, trades = qbacktest(clf, scaler, data)"
   ]
  },
  {
   "cell_type": "code",
   "execution_count": null,
   "metadata": {
    "ExecuteTime": {
     "start_time": "2023-04-01T15:31:32.798848Z",
     "end_time": "2023-04-01T15:31:32.858686Z"
    }
   },
   "outputs": [],
   "source": [
    "trades.head()"
   ]
  },
  {
   "cell_type": "markdown",
   "metadata": {},
   "source": [
    "### XGBClassifier + HPO"
   ]
  },
  {
   "cell_type": "code",
   "execution_count": null,
   "metadata": {
    "ExecuteTime": {
     "start_time": "2023-04-01T15:31:32.815801Z",
     "end_time": "2023-04-01T15:34:04.158172Z"
    }
   },
   "outputs": [],
   "source": [
    "# Train XGBClassifier classifier on train data, but optimize it with HPO first\n",
    "\n",
    "X_train, y_train = get_clean_Xy(data.iloc[0:int(data.shape[0] * system.train_set_end)])\n",
    "scaler = StandardScaler()\n",
    "X_train = scaler.fit_transform(X_train)\n",
    "if system.balance_data:\n",
    "    # Apply SMOTE oversampling to balance the training data\n",
    "    sm = SMOTE(random_state=newseed())\n",
    "    X_train, y_train = sm.fit_resample(X_train, y_train)\n",
    "best_hyperparams = optimize_model(XGBClassifier, 'XGBClassifier',\n",
    "                                  {\n",
    "                                        \"max_depth\": hp.quniform(\"max_depth\", 2, 12, 1),\n",
    "                                        \"learning_rate\": hp.uniform(\"learning_rate\", 0.001, 0.2),\n",
    "                                        \"n_estimators\": hp.quniform(\"n_estimators\", 5, 1000, 1),\n",
    "                                        \"min_child_weight\": hp.quniform(\"min_child_weight\", 1, 10, 1),\n",
    "                                        \"gamma\": hp.uniform(\"gamma\", 0, 1),\n",
    "                                        \"subsample\": hp.uniform(\"subsample\", 0.1, 1),\n",
    "                                        \"colsample_bytree\": hp.uniform(\"colsample_bytree\", 0.1, 1),\n",
    "                                        \"reg_alpha\": hp.uniform(\"reg_alpha\", 0, 1),\n",
    "                                        \"reg_lambda\": hp.uniform(\"reg_lambda\", 0, 1),\n",
    "                                  },\n",
    "                                  X_train, y_train, max_evals=100, test_size=0.25)\n",
    "clf, scaler = train_classifier(XGBClassifier, data, **best_hyperparams)"
   ]
  },
  {
   "cell_type": "code",
   "execution_count": null,
   "metadata": {
    "ExecuteTime": {
     "start_time": "2023-04-01T15:34:04.159170Z",
     "end_time": "2023-04-01T15:34:06.281702Z"
    }
   },
   "outputs": [],
   "source": [
    "# Test on val data\n",
    "equity, pf, trades = qbacktest(clf, scaler, data)"
   ]
  },
  {
   "cell_type": "code",
   "execution_count": null,
   "metadata": {
    "ExecuteTime": {
     "start_time": "2023-04-01T15:34:06.281702Z",
     "end_time": "2023-04-01T15:34:06.342586Z"
    }
   },
   "outputs": [],
   "source": [
    "trades.head()"
   ]
  },
  {
   "cell_type": "markdown",
   "metadata": {},
   "source": [
    "### ------------------------------------------------------------------------------------------------------------"
   ]
  },
  {
   "cell_type": "markdown",
   "metadata": {},
   "source": [
    "### LGBMClassifier"
   ]
  },
  {
   "cell_type": "code",
   "execution_count": null,
   "metadata": {
    "ExecuteTime": {
     "start_time": "2023-04-01T15:34:06.297706Z",
     "end_time": "2023-04-01T15:34:06.572970Z"
    }
   },
   "outputs": [],
   "source": [
    "# Train LGBMClassifier classifier on train data\n",
    "clf, scaler = train_ensemble(LGBMClassifier, data, ensemble_size=10)"
   ]
  },
  {
   "cell_type": "code",
   "execution_count": null,
   "metadata": {
    "ExecuteTime": {
     "start_time": "2023-04-01T15:34:06.574965Z",
     "end_time": "2023-04-01T15:34:07.844571Z"
    }
   },
   "outputs": [],
   "source": [
    "# Test on val data\n",
    "equity, pf, trades = qbacktest(clf, scaler, data)"
   ]
  },
  {
   "cell_type": "code",
   "execution_count": null,
   "metadata": {
    "ExecuteTime": {
     "start_time": "2023-04-01T15:34:07.846566Z",
     "end_time": "2023-04-01T15:34:07.860639Z"
    }
   },
   "outputs": [],
   "source": [
    "trades.head()"
   ]
  },
  {
   "cell_type": "markdown",
   "metadata": {},
   "source": [
    "### LGBMClassifier + HPO"
   ]
  },
  {
   "cell_type": "code",
   "execution_count": null,
   "metadata": {
    "ExecuteTime": {
     "start_time": "2023-04-01T15:34:07.863643Z",
     "end_time": "2023-04-01T15:34:12.086324Z"
    }
   },
   "outputs": [],
   "source": [
    "# Train LGBMClassifier classifier on train data, but optimize it with HPO first\n",
    "\n",
    "X_train, y_train = get_clean_Xy(data.iloc[0:int(data.shape[0] * system.train_set_end)])\n",
    "scaler = StandardScaler()\n",
    "X_train = scaler.fit_transform(X_train)\n",
    "if system.balance_data:\n",
    "    # Apply SMOTE oversampling to balance the training data\n",
    "    sm = SMOTE(random_state=newseed())\n",
    "    X_train, y_train = sm.fit_resample(X_train, y_train)\n",
    "best_hyperparams = optimize_model(LGBMClassifier, 'LGBMClassifier',\n",
    "                                  {\n",
    "                                        \"num_leaves\": hp.quniform(\"num_leaves\", 10, 150, 1),\n",
    "                                        \"max_depth\": hp.quniform(\"max_depth\", 5, 50, 1),\n",
    "                                        \"learning_rate\": hp.uniform(\"learning_rate\", 0.01, 0.2),\n",
    "                                        \"n_estimators\": hp.quniform(\"n_estimators\", 50, 1000, 1),\n",
    "                                        \"min_split_gain\": hp.uniform(\"min_split_gain\", 0.0, 1.0),\n",
    "                                        \"min_child_weight\": hp.uniform(\"min_child_weight\", 0.001, 0.1),\n",
    "                                        \"min_child_samples\": hp.quniform(\"min_child_samples\", 5, 100, 1),\n",
    "                                        \"subsample\": hp.uniform(\"subsample\", 0.5, 1),\n",
    "                                        \"colsample_bytree\": hp.uniform(\"colsample_bytree\", 0.5, 1),\n",
    "                                        \"reg_alpha\": hp.uniform(\"reg_alpha\", 0, 1),\n",
    "                                        \"reg_lambda\": hp.uniform(\"reg_lambda\", 0, 1),\n",
    "                                  },\n",
    "                                  X_train, y_train, max_evals=10, test_size=0.25)\n",
    "clf, scaler = train_classifier(LGBMClassifier, data, **best_hyperparams)"
   ]
  },
  {
   "cell_type": "code",
   "execution_count": null,
   "metadata": {
    "ExecuteTime": {
     "start_time": "2023-04-01T15:34:12.087321Z",
     "end_time": "2023-04-01T15:34:13.373002Z"
    }
   },
   "outputs": [],
   "source": [
    "# Test on val data\n",
    "equity, pf, trades = qbacktest(clf, scaler, data)"
   ]
  },
  {
   "cell_type": "code",
   "execution_count": null,
   "metadata": {
    "ExecuteTime": {
     "start_time": "2023-04-01T15:34:13.368014Z",
     "end_time": "2023-04-01T15:34:13.428853Z"
    }
   },
   "outputs": [],
   "source": [
    "trades.head()"
   ]
  },
  {
   "cell_type": "markdown",
   "metadata": {},
   "source": [
    "### ------------------------------------------------------------------------------------------------------------"
   ]
  },
  {
   "cell_type": "markdown",
   "metadata": {},
   "source": [
    "### RandomForestClassifier"
   ]
  },
  {
   "cell_type": "code",
   "execution_count": null,
   "metadata": {
    "ExecuteTime": {
     "start_time": "2023-04-01T15:34:13.382975Z",
     "end_time": "2023-04-01T15:34:14.047199Z"
    }
   },
   "outputs": [],
   "source": [
    "# Train RandomForestClassifier classifier on train data\n",
    "clf, scaler = train_ensemble(RandomForestClassifier, data, ensemble_size=10)"
   ]
  },
  {
   "cell_type": "code",
   "execution_count": null,
   "metadata": {
    "ExecuteTime": {
     "start_time": "2023-04-01T15:34:14.032239Z",
     "end_time": "2023-04-01T15:34:35.408025Z"
    }
   },
   "outputs": [],
   "source": [
    "# Test on val data\n",
    "equity, pf, trades = qbacktest(clf, scaler, data)"
   ]
  },
  {
   "cell_type": "code",
   "execution_count": null,
   "metadata": {
    "ExecuteTime": {
     "start_time": "2023-04-01T15:34:35.409023Z",
     "end_time": "2023-04-01T15:34:35.469964Z"
    }
   },
   "outputs": [],
   "source": [
    "trades.head()"
   ]
  },
  {
   "cell_type": "markdown",
   "metadata": {},
   "source": [
    "### RandomForestClassifier + HPO"
   ]
  },
  {
   "cell_type": "code",
   "execution_count": null,
   "metadata": {
    "ExecuteTime": {
     "start_time": "2023-04-01T15:34:35.425084Z",
     "end_time": "2023-04-01T15:34:45.211777Z"
    }
   },
   "outputs": [],
   "source": [
    "# Train RandomForestClassifier classifier on train data, but optimize it with HPO first\n",
    "\n",
    "X_train, y_train = get_clean_Xy(data.iloc[0:int(data.shape[0] * system.train_set_end)])\n",
    "scaler = StandardScaler()\n",
    "X_train = scaler.fit_transform(X_train)\n",
    "if system.balance_data:\n",
    "    # Apply SMOTE oversampling to balance the training data\n",
    "    sm = SMOTE(random_state=newseed())\n",
    "    X_train, y_train = sm.fit_resample(X_train, y_train)\n",
    "best_hyperparams = optimize_model(RandomForestClassifier, 'RandomForestClassifier',\n",
    "                                  {\"n_estimators\": hp.choice(\"n_estimators\", range(5, 201)),\n",
    "                                   \"max_depth\": hp.choice(\"max_depth\", range(2, 21))},\n",
    "                                  X_train, y_train, max_evals=10, test_size=0.25,\n",
    "                                  n_jobs=-1)\n",
    "clf, scaler = train_classifier(RandomForestClassifier, data, **best_hyperparams)"
   ]
  },
  {
   "cell_type": "code",
   "execution_count": null,
   "metadata": {
    "ExecuteTime": {
     "start_time": "2023-04-01T15:34:45.211777Z",
     "end_time": "2023-04-01T15:35:06.053864Z"
    }
   },
   "outputs": [],
   "source": [
    "# Test on val data\n",
    "equity, pf, trades = qbacktest(clf, scaler, data)"
   ]
  },
  {
   "cell_type": "code",
   "execution_count": null,
   "metadata": {
    "ExecuteTime": {
     "start_time": "2023-04-01T15:35:06.053864Z",
     "end_time": "2023-04-01T15:35:06.114795Z"
    }
   },
   "outputs": [],
   "source": [
    "trades.head()"
   ]
  },
  {
   "cell_type": "markdown",
   "metadata": {},
   "source": [
    "### ------------------------------------------------------------------------------------------------------------"
   ]
  },
  {
   "cell_type": "markdown",
   "metadata": {},
   "source": [
    "### ExtraTreesClassifier"
   ]
  },
  {
   "cell_type": "code",
   "execution_count": null,
   "metadata": {
    "ExecuteTime": {
     "start_time": "2023-04-01T15:35:06.069915Z",
     "end_time": "2023-04-01T15:35:06.964523Z"
    }
   },
   "outputs": [],
   "source": [
    "# Train ExtraTreesClassifier classifier on train data\n",
    "clf, scaler = train_ensemble(ExtraTreesClassifier, data, ensemble_size=10)"
   ]
  },
  {
   "cell_type": "code",
   "execution_count": null,
   "metadata": {
    "ExecuteTime": {
     "start_time": "2023-04-01T14:44:06.707308Z",
     "end_time": "2023-04-01T14:44:18.438065Z"
    }
   },
   "outputs": [],
   "source": [
    "# Test on val data\n",
    "equity, pf, trades = qbacktest(clf, scaler, data)"
   ]
  },
  {
   "cell_type": "code",
   "execution_count": null,
   "metadata": {
    "ExecuteTime": {
     "start_time": "2023-04-01T14:44:18.439062Z",
     "end_time": "2023-04-01T14:44:18.498915Z"
    }
   },
   "outputs": [],
   "source": [
    "trades.head()"
   ]
  },
  {
   "cell_type": "markdown",
   "metadata": {},
   "source": [
    "### ExtraTreesClassifier + HPO"
   ]
  },
  {
   "cell_type": "code",
   "execution_count": null,
   "metadata": {
    "ExecuteTime": {
     "start_time": "2023-04-01T14:44:18.457026Z",
     "end_time": "2023-04-01T14:44:21.135577Z"
    }
   },
   "outputs": [],
   "source": [
    "# Train ExtraTreesClassifier classifier on train data, but optimize it with HPO first\n",
    "\n",
    "X_train, y_train = get_clean_Xy(data.iloc[0:int(data.shape[0] * system.train_set_end)])\n",
    "scaler = StandardScaler()\n",
    "X_train = scaler.fit_transform(X_train)\n",
    "if system.balance_data:\n",
    "    # Apply SMOTE oversampling to balance the training data\n",
    "    sm = SMOTE(random_state=newseed())\n",
    "    X_train, y_train = sm.fit_resample(X_train, y_train)\n",
    "best_hyperparams = optimize_model(ExtraTreesClassifier, 'ExtraTreesClassifier',\n",
    "                                  {\"n_estimators\": hp.choice(\"n_estimators\", range(5, 201)),\n",
    "                                   \"max_depth\": hp.choice(\"max_depth\", range(2, 21))},\n",
    "                                  X_train, y_train, max_evals=10, test_size=0.25,\n",
    "                                  n_jobs=-1)\n",
    "clf, scaler = train_classifier(ExtraTreesClassifier, data, **best_hyperparams)"
   ]
  },
  {
   "cell_type": "code",
   "execution_count": null,
   "metadata": {
    "ExecuteTime": {
     "start_time": "2023-04-01T14:44:21.136574Z",
     "end_time": "2023-04-01T14:44:39.385780Z"
    }
   },
   "outputs": [],
   "source": [
    "# Test on val data\n",
    "equity, pf, trades = qbacktest(clf, scaler, data)"
   ]
  },
  {
   "cell_type": "code",
   "execution_count": null,
   "metadata": {
    "ExecuteTime": {
     "start_time": "2023-04-01T14:44:39.385780Z",
     "end_time": "2023-04-01T14:44:39.400726Z"
    }
   },
   "outputs": [],
   "source": [
    "trades.head()"
   ]
  },
  {
   "cell_type": "markdown",
   "metadata": {},
   "source": [
    "### ------------------------------------------------------------------------------------------------------------"
   ]
  },
  {
   "cell_type": "markdown",
   "metadata": {},
   "source": [
    "### CatBoostClassifier"
   ]
  },
  {
   "cell_type": "code",
   "execution_count": null,
   "metadata": {
    "ExecuteTime": {
     "start_time": "2023-04-01T14:44:39.401723Z",
     "end_time": "2023-04-01T14:44:45.816722Z"
    }
   },
   "outputs": [],
   "source": [
    "# Train CatBoostClassifier classifier on train data\n",
    "clf, scaler = train_ensemble(CatBoostClassifier, data, ensemble_size=10)"
   ]
  },
  {
   "cell_type": "code",
   "execution_count": null,
   "metadata": {
    "ExecuteTime": {
     "start_time": "2023-04-01T14:44:45.817720Z",
     "end_time": "2023-04-01T14:44:47.923537Z"
    }
   },
   "outputs": [],
   "source": [
    "# Test on val data\n",
    "equity, pf, trades = qbacktest(clf, scaler, data)"
   ]
  },
  {
   "cell_type": "code",
   "execution_count": null,
   "metadata": {
    "ExecuteTime": {
     "start_time": "2023-04-01T14:44:47.924537Z",
     "end_time": "2023-04-01T14:44:47.969415Z"
    }
   },
   "outputs": [],
   "source": [
    "trades.head()"
   ]
  },
  {
   "cell_type": "markdown",
   "metadata": {},
   "source": [
    "### CatBoostClassifier + HPO"
   ]
  },
  {
   "cell_type": "code",
   "execution_count": null,
   "metadata": {
    "ExecuteTime": {
     "start_time": "2023-04-01T14:44:47.942486Z",
     "end_time": "2023-04-01T14:47:04.763268Z"
    }
   },
   "outputs": [],
   "source": [
    "# Train CatBoostClassifier classifier on train data, but optimize it with HPO first\n",
    "\n",
    "X_train, y_train = get_clean_Xy(data.iloc[0:int(data.shape[0] * system.train_set_end)])\n",
    "scaler = StandardScaler()\n",
    "X_train = scaler.fit_transform(X_train)\n",
    "if system.balance_data:\n",
    "    # Apply SMOTE oversampling to balance the training data\n",
    "    sm = SMOTE(random_state=newseed())\n",
    "    X_train, y_train = sm.fit_resample(X_train, y_train)\n",
    "best_hyperparams = optimize_model(CatBoostClassifier, 'CatBoostClassifier',\n",
    "                                  {\n",
    "                                    \"iterations\": hp.quniform(\"iterations\", 50, 1200, 1),\n",
    "                                    \"learning_rate\": hp.uniform(\"learning_rate\", 0.01, 0.2),\n",
    "                                    \"depth\": hp.quniform(\"depth\", 4, 10, 1),\n",
    "                                    \"l2_leaf_reg\": hp.uniform(\"l2_leaf_reg\", 1, 10),\n",
    "                                    \"border_count\": hp.quniform(\"border_count\", 128, 256, 1),\n",
    "                                    \"random_strength\": hp.uniform(\"random_strength\", 0.5, 2),\n",
    "                                    \"bagging_temperature\": hp.uniform(\"bagging_temperature\", 0.5, 2),\n",
    "                                },\n",
    "                                  X_train, y_train, max_evals=10, test_size=0.25, verbose=False)\n",
    "best_hyperparams['verbose'] = False\n",
    "clf, scaler = train_classifier(CatBoostClassifier, data, **best_hyperparams)"
   ]
  },
  {
   "cell_type": "code",
   "execution_count": null,
   "metadata": {
    "ExecuteTime": {
     "start_time": "2023-04-01T14:47:04.764265Z",
     "end_time": "2023-04-01T14:47:06.579382Z"
    }
   },
   "outputs": [],
   "source": [
    "# Test on val data\n",
    "equity, pf, trades = qbacktest(clf, scaler, data)"
   ]
  },
  {
   "cell_type": "code",
   "execution_count": null,
   "metadata": {
    "ExecuteTime": {
     "start_time": "2023-04-01T14:47:06.580380Z",
     "end_time": "2023-04-01T14:47:06.640585Z"
    }
   },
   "outputs": [],
   "source": [
    "trades.head()"
   ]
  },
  {
   "cell_type": "markdown",
   "metadata": {},
   "source": [
    "### ------------------------------------------------------------------------------------------------------------"
   ]
  },
  {
   "cell_type": "code",
   "execution_count": null,
   "metadata": {
    "ExecuteTime": {
     "start_time": "2023-04-01T14:47:06.596404Z",
     "end_time": "2023-04-01T14:47:06.643588Z"
    }
   },
   "outputs": [],
   "source": []
  },
  {
   "cell_type": "code",
   "execution_count": null,
   "metadata": {
    "ExecuteTime": {
     "start_time": "2023-04-01T14:47:06.612362Z",
     "end_time": "2023-04-01T14:47:06.670991Z"
    }
   },
   "outputs": [],
   "source": []
  },
  {
   "cell_type": "code",
   "execution_count": null,
   "metadata": {
    "ExecuteTime": {
     "start_time": "2023-04-01T14:47:06.627321Z",
     "end_time": "2023-04-01T14:47:06.686979Z"
    }
   },
   "outputs": [],
   "source": []
  },
  {
   "cell_type": "code",
   "execution_count": null,
   "metadata": {
    "ExecuteTime": {
     "start_time": "2023-04-01T14:47:06.642582Z",
     "end_time": "2023-04-01T14:47:06.707922Z"
    }
   },
   "outputs": [],
   "source": []
  },
  {
   "cell_type": "code",
   "execution_count": null,
   "metadata": {
    "ExecuteTime": {
     "start_time": "2023-04-01T14:47:06.657996Z",
     "end_time": "2023-04-01T14:47:06.732704Z"
    }
   },
   "outputs": [],
   "source": []
  },
  {
   "cell_type": "code",
   "execution_count": null,
   "metadata": {
    "ExecuteTime": {
     "start_time": "2023-04-01T14:47:06.672986Z",
     "end_time": "2023-04-01T14:47:06.746318Z"
    }
   },
   "outputs": [],
   "source": []
  }
 ],
 "metadata": {
  "colab": {
   "provenance": []
  },
  "kernelspec": {
   "display_name": "Python 3 (ipykernel)",
   "language": "python",
   "name": "python3"
  },
  "language_info": {
   "codemirror_mode": {
    "name": "ipython",
    "version": 3
   },
   "file_extension": ".py",
   "mimetype": "text/x-python",
   "name": "python",
   "nbconvert_exporter": "python",
   "pygments_lexer": "ipython3",
   "version": "3.8.10"
  },
  "pycharm": {
   "stem_cell": {
    "cell_type": "raw",
    "metadata": {
     "collapsed": false
    },
    "source": []
   }
  },
  "toc": {
   "base_numbering": 1,
   "nav_menu": {},
   "number_sections": true,
   "sideBar": true,
   "skip_h1_title": false,
   "title_cell": "Table of Contents",
   "title_sidebar": "Contents",
   "toc_cell": false,
   "toc_position": {
    "height": "calc(100% - 180px)",
    "left": "10px",
    "top": "150px",
    "width": "165px"
   },
   "toc_section_display": true,
   "toc_window_display": true
  }
 },
 "nbformat": 4,
 "nbformat_minor": 1
}
