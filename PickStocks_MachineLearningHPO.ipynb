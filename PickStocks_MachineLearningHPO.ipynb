{
 "cells": [
  {
   "cell_type": "markdown",
   "metadata": {},
   "source": [
    "### ------------------------------------------------------------------------------------------------------------"
   ]
  },
  {
   "cell_type": "code",
   "execution_count": null,
   "metadata": {
    "id": "LTSDSXZTURm5",
    "ExecuteTime": {
     "start_time": "2023-04-01T14:40:15.677453Z",
     "end_time": "2023-04-01T14:40:16.048461Z"
    }
   },
   "outputs": [],
   "source": [
    "import os\n",
    "\n",
    "if 'COLAB_GPU' in os.environ:\n",
    "    !git clone https://github.com/impulsecorp/PickStocks.git\n",
    "    !mv PickStocks/*.py .\n",
    "    !mv PickStocks/data .\n",
    "    !pip install -U -qq -r PickStocks/requirements.txt"
   ]
  },
  {
   "cell_type": "code",
   "execution_count": null,
   "metadata": {
    "id": "rqKDcXZB4tNG",
    "ExecuteTime": {
     "start_time": "2023-04-01T14:40:15.694407Z",
     "end_time": "2023-04-01T14:40:18.326140Z"
    }
   },
   "outputs": [],
   "source": [
    "import warnings\n",
    "warnings.filterwarnings(\"ignore\")\n",
    "import system\n",
    "from system import *\n",
    "# small hack to prevent Colab error\n",
    "try:\n",
    "    from datablock import *\n",
    "except:\n",
    "    from datablock import *\n",
    "seed"
   ]
  },
  {
   "cell_type": "code",
   "execution_count": null,
   "metadata": {
    "ExecuteTime": {
     "start_time": "2023-04-01T14:40:18.327110Z",
     "end_time": "2023-04-01T14:40:18.357056Z"
    }
   },
   "outputs": [],
   "source": [
    "%pylab inline"
   ]
  },
  {
   "cell_type": "markdown",
   "metadata": {},
   "source": [
    "### Setup"
   ]
  },
  {
   "cell_type": "code",
   "execution_count": null,
   "metadata": {
    "ExecuteTime": {
     "start_time": "2023-04-01T14:40:18.343090Z",
     "end_time": "2023-04-01T14:40:18.871989Z"
    }
   },
   "outputs": [],
   "source": [
    "data_timeperiod = 'D'\n",
    "data = get_data('SPY', period=data_timeperiod, nrows=None)\n",
    "data = procdata_lite(data)"
   ]
  },
  {
   "cell_type": "code",
   "execution_count": null,
   "metadata": {
    "ExecuteTime": {
     "start_time": "2023-04-01T14:40:18.872987Z",
     "end_time": "2023-04-01T14:40:18.935612Z"
    }
   },
   "outputs": [],
   "source": [
    "# for inspectiion\n",
    "print(data.shape)\n",
    "data.head()"
   ]
  },
  {
   "cell_type": "code",
   "execution_count": null,
   "metadata": {
    "ExecuteTime": {
     "start_time": "2023-04-01T14:40:18.935612Z",
     "end_time": "2023-04-01T14:40:18.964620Z"
    }
   },
   "outputs": [],
   "source": [
    "system.train_set_end = 0.7 # percentage point specifying the training set end point (1.0 means all data is training set)\n",
    "system.val_set_end = 1.0    # percentage point specifying the validation set end point (1.0 means no test set)\n",
    "system.balance_data = 1\n",
    "system.scale_data = 1"
   ]
  },
  {
   "cell_type": "markdown",
   "metadata": {},
   "source": [
    "### ------------------------------------------------------------------------------------------------------------"
   ]
  },
  {
   "cell_type": "markdown",
   "metadata": {},
   "source": [
    "### LogisticRegression"
   ]
  },
  {
   "cell_type": "code",
   "execution_count": null,
   "metadata": {
    "ExecuteTime": {
     "start_time": "2023-04-01T14:40:18.949692Z",
     "end_time": "2023-04-01T14:40:19.408435Z"
    }
   },
   "outputs": [],
   "source": [
    "# Train LogisticRegression classifier on train data\n",
    "clf, scaler = train_classifier(LogisticRegression, data)"
   ]
  },
  {
   "cell_type": "code",
   "execution_count": null,
   "metadata": {
    "ExecuteTime": {
     "start_time": "2023-04-01T14:40:19.183037Z",
     "end_time": "2023-04-01T14:40:19.923058Z"
    }
   },
   "outputs": [],
   "source": [
    "# Test on val data\n",
    "equity, pf, trades = qbacktest(clf, scaler, data)"
   ]
  },
  {
   "cell_type": "code",
   "execution_count": null,
   "metadata": {
    "ExecuteTime": {
     "start_time": "2023-04-01T14:40:19.923058Z",
     "end_time": "2023-04-01T14:40:19.982898Z"
    }
   },
   "outputs": [],
   "source": [
    "trades.head()"
   ]
  },
  {
   "cell_type": "markdown",
   "metadata": {},
   "source": [
    "### LogisticRegression + HPO"
   ]
  },
  {
   "cell_type": "code",
   "execution_count": null,
   "metadata": {
    "ExecuteTime": {
     "start_time": "2023-04-01T14:40:19.994884Z",
     "end_time": "2023-04-01T14:40:25.756997Z"
    }
   },
   "outputs": [],
   "source": [
    "# Train LogisticRegression classifier on train data, but optimize it with HPO first\n",
    "\n",
    "X_train, y_train = get_clean_Xy(data.iloc[0:int(data.shape[0] * system.train_set_end)])\n",
    "scaler = StandardScaler()\n",
    "X_train = scaler.fit_transform(X_train)\n",
    "if system.balance_data:\n",
    "    # Apply SMOTE oversampling to balance the training data\n",
    "    sm = SMOTE(random_state=newseed())\n",
    "    X_train, y_train = sm.fit_resample(X_train, y_train)\n",
    "best_hyperparams = optimize_model(LogisticRegression, 'LogisticRegression', {\"C\": hp.loguniform(\"C\", -5, 2),\n",
    "                                                                               \"max_iter\": hp.choice(\"max_iter\", range(5, 501)),\n",
    "                                                                               \"dual\": hp.choice(\"dual\", (True, False)),\n",
    "                                                                               \"fit_intercept\": hp.choice(\"fit_intercept\", (True, False))},\n",
    "                                  X_train, y_train, max_evals=100)\n",
    "clf, scaler = train_classifier(LogisticRegression, data, **best_hyperparams)"
   ]
  },
  {
   "cell_type": "code",
   "execution_count": null,
   "metadata": {
    "ExecuteTime": {
     "start_time": "2023-04-01T14:40:25.759022Z",
     "end_time": "2023-04-01T14:40:26.457183Z"
    }
   },
   "outputs": [],
   "source": [
    "# Test on val data\n",
    "equity, pf, trades = qbacktest(clf, scaler, data)"
   ]
  },
  {
   "cell_type": "code",
   "execution_count": null,
   "metadata": {
    "ExecuteTime": {
     "start_time": "2023-04-01T14:40:26.458181Z",
     "end_time": "2023-04-01T14:40:26.472861Z"
    }
   },
   "outputs": [],
   "source": [
    "trades.head()"
   ]
  },
  {
   "cell_type": "markdown",
   "metadata": {},
   "source": [
    "### ------------------------------------------------------------------------------------------------------------"
   ]
  },
  {
   "cell_type": "markdown",
   "metadata": {},
   "source": [
    "### XGBClassifier"
   ]
  },
  {
   "cell_type": "code",
   "execution_count": null,
   "metadata": {
    "ExecuteTime": {
     "start_time": "2023-04-01T14:40:26.472861Z",
     "end_time": "2023-04-01T14:40:27.299647Z"
    }
   },
   "outputs": [],
   "source": [
    "# Train XGBClassifier classifier on train data\n",
    "clf, scaler = train_classifier(XGBClassifier, data)"
   ]
  },
  {
   "cell_type": "code",
   "execution_count": null,
   "metadata": {
    "ExecuteTime": {
     "start_time": "2023-04-01T14:40:27.303636Z",
     "end_time": "2023-04-01T14:40:29.286338Z"
    }
   },
   "outputs": [],
   "source": [
    "# Test on val data\n",
    "equity, pf, trades = qbacktest(clf, scaler, data)"
   ]
  },
  {
   "cell_type": "code",
   "execution_count": null,
   "metadata": {
    "ExecuteTime": {
     "start_time": "2023-04-01T14:40:29.287333Z",
     "end_time": "2023-04-01T14:40:29.310747Z"
    }
   },
   "outputs": [],
   "source": [
    "trades.head()"
   ]
  },
  {
   "cell_type": "markdown",
   "metadata": {},
   "source": [
    "### XGBClassifier + HPO"
   ]
  },
  {
   "cell_type": "code",
   "execution_count": null,
   "metadata": {
    "ExecuteTime": {
     "start_time": "2023-04-01T14:40:29.306731Z",
     "end_time": "2023-04-01T14:43:12.217619Z"
    }
   },
   "outputs": [],
   "source": [
    "# Train XGBClassifier classifier on train data, but optimize it with HPO first\n",
    "\n",
    "X_train, y_train = get_clean_Xy(data.iloc[0:int(data.shape[0] * system.train_set_end)])\n",
    "scaler = StandardScaler()\n",
    "X_train = scaler.fit_transform(X_train)\n",
    "if system.balance_data:\n",
    "    # Apply SMOTE oversampling to balance the training data\n",
    "    sm = SMOTE(random_state=newseed())\n",
    "    X_train, y_train = sm.fit_resample(X_train, y_train)\n",
    "best_hyperparams = optimize_model(XGBClassifier, 'XGBClassifier',\n",
    "                                  {\n",
    "                                        \"max_depth\": hp.quniform(\"max_depth\", 2, 12, 1),\n",
    "                                        \"learning_rate\": hp.uniform(\"learning_rate\", 0.001, 0.2),\n",
    "                                        \"n_estimators\": hp.quniform(\"n_estimators\", 5, 1000, 1),\n",
    "                                        \"min_child_weight\": hp.quniform(\"min_child_weight\", 1, 10, 1),\n",
    "                                        \"gamma\": hp.uniform(\"gamma\", 0, 1),\n",
    "                                        \"subsample\": hp.uniform(\"subsample\", 0.1, 1),\n",
    "                                        \"colsample_bytree\": hp.uniform(\"colsample_bytree\", 0.1, 1),\n",
    "                                        \"reg_alpha\": hp.uniform(\"reg_alpha\", 0, 1),\n",
    "                                        \"reg_lambda\": hp.uniform(\"reg_lambda\", 0, 1),\n",
    "                                  },\n",
    "                                  X_train, y_train, max_evals=100)\n",
    "clf, scaler = train_classifier(XGBClassifier, data, **best_hyperparams)"
   ]
  },
  {
   "cell_type": "code",
   "execution_count": null,
   "metadata": {
    "ExecuteTime": {
     "start_time": "2023-04-01T14:43:12.218617Z",
     "end_time": "2023-04-01T14:43:14.395596Z"
    }
   },
   "outputs": [],
   "source": [
    "# Test on val data\n",
    "equity, pf, trades = qbacktest(clf, scaler, data)"
   ]
  },
  {
   "cell_type": "code",
   "execution_count": null,
   "metadata": {
    "ExecuteTime": {
     "start_time": "2023-04-01T14:43:14.396579Z",
     "end_time": "2023-04-01T14:43:14.456691Z"
    }
   },
   "outputs": [],
   "source": [
    "trades.head()"
   ]
  },
  {
   "cell_type": "markdown",
   "metadata": {},
   "source": [
    "### ------------------------------------------------------------------------------------------------------------"
   ]
  },
  {
   "cell_type": "markdown",
   "metadata": {},
   "source": [
    "### LGBMClassifier"
   ]
  },
  {
   "cell_type": "code",
   "execution_count": null,
   "metadata": {
    "ExecuteTime": {
     "start_time": "2023-04-01T14:43:14.411808Z",
     "end_time": "2023-04-01T14:43:14.737936Z"
    }
   },
   "outputs": [],
   "source": [
    "# Train LGBMClassifier classifier on train data\n",
    "clf, scaler = train_classifier(LGBMClassifier, data)"
   ]
  },
  {
   "cell_type": "code",
   "execution_count": null,
   "metadata": {
    "ExecuteTime": {
     "start_time": "2023-04-01T14:43:14.739931Z",
     "end_time": "2023-04-01T14:43:16.022556Z"
    }
   },
   "outputs": [],
   "source": [
    "# Test on val data\n",
    "equity, pf, trades = qbacktest(clf, scaler, data)"
   ]
  },
  {
   "cell_type": "code",
   "execution_count": null,
   "metadata": {
    "ExecuteTime": {
     "start_time": "2023-04-01T14:43:16.024552Z",
     "end_time": "2023-04-01T14:43:16.083444Z"
    }
   },
   "outputs": [],
   "source": [
    "trades.head()"
   ]
  },
  {
   "cell_type": "markdown",
   "metadata": {},
   "source": [
    "### LGBMClassifier + HPO"
   ]
  },
  {
   "cell_type": "code",
   "execution_count": null,
   "metadata": {
    "ExecuteTime": {
     "start_time": "2023-04-01T14:43:16.042554Z",
     "end_time": "2023-04-01T14:43:19.447451Z"
    }
   },
   "outputs": [],
   "source": [
    "# Train LGBMClassifier classifier on train data, but optimize it with HPO first\n",
    "\n",
    "X_train, y_train = get_clean_Xy(data.iloc[0:int(data.shape[0] * system.train_set_end)])\n",
    "scaler = StandardScaler()\n",
    "X_train = scaler.fit_transform(X_train)\n",
    "if system.balance_data:\n",
    "    # Apply SMOTE oversampling to balance the training data\n",
    "    sm = SMOTE(random_state=newseed())\n",
    "    X_train, y_train = sm.fit_resample(X_train, y_train)\n",
    "best_hyperparams = optimize_model(LGBMClassifier, 'LGBMClassifier',\n",
    "                                  {\n",
    "                                        \"num_leaves\": hp.quniform(\"num_leaves\", 10, 150, 1),\n",
    "                                        \"max_depth\": hp.quniform(\"max_depth\", 5, 50, 1),\n",
    "                                        \"learning_rate\": hp.uniform(\"learning_rate\", 0.01, 0.2),\n",
    "                                        \"n_estimators\": hp.quniform(\"n_estimators\", 50, 1000, 1),\n",
    "                                        \"min_split_gain\": hp.uniform(\"min_split_gain\", 0.0, 1.0),\n",
    "                                        \"min_child_weight\": hp.uniform(\"min_child_weight\", 0.001, 0.1),\n",
    "                                        \"min_child_samples\": hp.quniform(\"min_child_samples\", 5, 100, 1),\n",
    "                                        \"subsample\": hp.uniform(\"subsample\", 0.5, 1),\n",
    "                                        \"colsample_bytree\": hp.uniform(\"colsample_bytree\", 0.5, 1),\n",
    "                                        \"reg_alpha\": hp.uniform(\"reg_alpha\", 0, 1),\n",
    "                                        \"reg_lambda\": hp.uniform(\"reg_lambda\", 0, 1),\n",
    "                                  },\n",
    "                                  X_train, y_train, max_evals=10)\n",
    "clf, scaler = train_classifier(LGBMClassifier, data, **best_hyperparams)"
   ]
  },
  {
   "cell_type": "code",
   "execution_count": null,
   "metadata": {
    "ExecuteTime": {
     "start_time": "2023-04-01T14:43:19.440469Z",
     "end_time": "2023-04-01T14:43:20.663276Z"
    }
   },
   "outputs": [],
   "source": [
    "# Test on val data\n",
    "equity, pf, trades = qbacktest(clf, scaler, data)"
   ]
  },
  {
   "cell_type": "code",
   "execution_count": null,
   "metadata": {
    "ExecuteTime": {
     "start_time": "2023-04-01T14:43:20.664269Z",
     "end_time": "2023-04-01T14:43:20.678244Z"
    }
   },
   "outputs": [],
   "source": [
    "trades.head()"
   ]
  },
  {
   "cell_type": "markdown",
   "metadata": {},
   "source": [
    "### ------------------------------------------------------------------------------------------------------------"
   ]
  },
  {
   "cell_type": "markdown",
   "metadata": {},
   "source": [
    "### RandomForestClassifier"
   ]
  },
  {
   "cell_type": "code",
   "execution_count": null,
   "metadata": {
    "ExecuteTime": {
     "start_time": "2023-04-01T14:43:20.679243Z",
     "end_time": "2023-04-01T14:43:21.253706Z"
    }
   },
   "outputs": [],
   "source": [
    "# Train RandomForestClassifier classifier on train data\n",
    "clf, scaler = train_classifier(RandomForestClassifier, data, n_jobs=-1)"
   ]
  },
  {
   "cell_type": "code",
   "execution_count": null,
   "metadata": {
    "ExecuteTime": {
     "start_time": "2023-04-01T14:43:21.256697Z",
     "end_time": "2023-04-01T14:43:42.676155Z"
    }
   },
   "outputs": [],
   "source": [
    "# Test on val data\n",
    "equity, pf, trades = qbacktest(clf, scaler, data)"
   ]
  },
  {
   "cell_type": "code",
   "execution_count": null,
   "metadata": {
    "ExecuteTime": {
     "start_time": "2023-04-01T14:43:42.677154Z",
     "end_time": "2023-04-01T14:43:42.737069Z"
    }
   },
   "outputs": [],
   "source": [
    "trades.head()"
   ]
  },
  {
   "cell_type": "markdown",
   "metadata": {},
   "source": [
    "### RandomForestClassifier + HPO"
   ]
  },
  {
   "cell_type": "code",
   "execution_count": null,
   "metadata": {
    "ExecuteTime": {
     "start_time": "2023-04-01T14:43:42.696178Z",
     "end_time": "2023-04-01T14:43:51.164253Z"
    }
   },
   "outputs": [],
   "source": [
    "# Train RandomForestClassifier classifier on train data, but optimize it with HPO first\n",
    "\n",
    "X_train, y_train = get_clean_Xy(data.iloc[0:int(data.shape[0] * system.train_set_end)])\n",
    "scaler = StandardScaler()\n",
    "X_train = scaler.fit_transform(X_train)\n",
    "if system.balance_data:\n",
    "    # Apply SMOTE oversampling to balance the training data\n",
    "    sm = SMOTE(random_state=newseed())\n",
    "    X_train, y_train = sm.fit_resample(X_train, y_train)\n",
    "best_hyperparams = optimize_model(RandomForestClassifier, 'RandomForestClassifier',\n",
    "                                  {\"n_estimators\": hp.choice(\"n_estimators\", range(5, 201)),\n",
    "                                   \"max_depth\": hp.choice(\"max_depth\", range(2, 21))},\n",
    "                                  X_train, y_train, max_evals=10,\n",
    "                                  n_jobs=-1)\n",
    "clf, scaler = train_classifier(RandomForestClassifier, data, **best_hyperparams)"
   ]
  },
  {
   "cell_type": "code",
   "execution_count": null,
   "metadata": {
    "ExecuteTime": {
     "start_time": "2023-04-01T14:43:51.165251Z",
     "end_time": "2023-04-01T14:44:05.802604Z"
    }
   },
   "outputs": [],
   "source": [
    "# Test on val data\n",
    "equity, pf, trades = qbacktest(clf, scaler, data)"
   ]
  },
  {
   "cell_type": "code",
   "execution_count": null,
   "metadata": {
    "ExecuteTime": {
     "start_time": "2023-04-01T14:44:05.803602Z",
     "end_time": "2023-04-01T14:44:05.849554Z"
    }
   },
   "outputs": [],
   "source": [
    "trades.head()"
   ]
  },
  {
   "cell_type": "markdown",
   "metadata": {},
   "source": [
    "### ------------------------------------------------------------------------------------------------------------"
   ]
  },
  {
   "cell_type": "markdown",
   "metadata": {},
   "source": [
    "### ExtraTreesClassifier"
   ]
  },
  {
   "cell_type": "code",
   "execution_count": null,
   "metadata": {
    "ExecuteTime": {
     "start_time": "2023-04-01T14:44:05.821629Z",
     "end_time": "2023-04-01T14:44:06.701325Z"
    }
   },
   "outputs": [],
   "source": [
    "# Train ExtraTreesClassifier classifier on train data\n",
    "clf, scaler = train_classifier(ExtraTreesClassifier, data)"
   ]
  },
  {
   "cell_type": "code",
   "execution_count": null,
   "metadata": {
    "ExecuteTime": {
     "start_time": "2023-04-01T14:44:06.707308Z",
     "end_time": "2023-04-01T14:44:18.438065Z"
    }
   },
   "outputs": [],
   "source": [
    "# Test on val data\n",
    "equity, pf, trades = qbacktest(clf, scaler, data)"
   ]
  },
  {
   "cell_type": "code",
   "execution_count": null,
   "metadata": {
    "ExecuteTime": {
     "start_time": "2023-04-01T14:44:18.439062Z",
     "end_time": "2023-04-01T14:44:18.498915Z"
    }
   },
   "outputs": [],
   "source": [
    "trades.head()"
   ]
  },
  {
   "cell_type": "markdown",
   "metadata": {},
   "source": [
    "### ExtraTreesClassifier + HPO"
   ]
  },
  {
   "cell_type": "code",
   "execution_count": null,
   "metadata": {
    "ExecuteTime": {
     "start_time": "2023-04-01T14:44:18.457026Z",
     "end_time": "2023-04-01T14:44:21.135577Z"
    }
   },
   "outputs": [],
   "source": [
    "# Train ExtraTreesClassifier classifier on train data, but optimize it with HPO first\n",
    "\n",
    "X_train, y_train = get_clean_Xy(data.iloc[0:int(data.shape[0] * system.train_set_end)])\n",
    "scaler = StandardScaler()\n",
    "X_train = scaler.fit_transform(X_train)\n",
    "if system.balance_data:\n",
    "    # Apply SMOTE oversampling to balance the training data\n",
    "    sm = SMOTE(random_state=newseed())\n",
    "    X_train, y_train = sm.fit_resample(X_train, y_train)\n",
    "best_hyperparams = optimize_model(ExtraTreesClassifier, 'ExtraTreesClassifier',\n",
    "                                  {\"n_estimators\": hp.choice(\"n_estimators\", range(5, 201)),\n",
    "                                   \"max_depth\": hp.choice(\"max_depth\", range(2, 21))},\n",
    "                                  X_train, y_train, max_evals=10,\n",
    "                                  n_jobs=-1)\n",
    "clf, scaler = train_classifier(ExtraTreesClassifier, data, **best_hyperparams)"
   ]
  },
  {
   "cell_type": "code",
   "execution_count": null,
   "metadata": {
    "ExecuteTime": {
     "start_time": "2023-04-01T14:44:21.136574Z",
     "end_time": "2023-04-01T14:44:39.385780Z"
    }
   },
   "outputs": [],
   "source": [
    "# Test on val data\n",
    "equity, pf, trades = qbacktest(clf, scaler, data)"
   ]
  },
  {
   "cell_type": "code",
   "execution_count": null,
   "metadata": {
    "ExecuteTime": {
     "start_time": "2023-04-01T14:44:39.385780Z",
     "end_time": "2023-04-01T14:44:39.400726Z"
    }
   },
   "outputs": [],
   "source": [
    "trades.head()"
   ]
  },
  {
   "cell_type": "markdown",
   "metadata": {},
   "source": [
    "### ------------------------------------------------------------------------------------------------------------"
   ]
  },
  {
   "cell_type": "markdown",
   "metadata": {},
   "source": [
    "### CatBoostClassifier"
   ]
  },
  {
   "cell_type": "code",
   "execution_count": null,
   "metadata": {
    "ExecuteTime": {
     "start_time": "2023-04-01T14:44:39.401723Z",
     "end_time": "2023-04-01T14:44:45.816722Z"
    }
   },
   "outputs": [],
   "source": [
    "# Train CatBoostClassifier classifier on train data\n",
    "clf, scaler = train_classifier(CatBoostClassifier, data, verbose=False)"
   ]
  },
  {
   "cell_type": "code",
   "execution_count": null,
   "metadata": {
    "ExecuteTime": {
     "start_time": "2023-04-01T14:44:45.817720Z",
     "end_time": "2023-04-01T14:44:47.923537Z"
    }
   },
   "outputs": [],
   "source": [
    "# Test on val data\n",
    "equity, pf, trades = qbacktest(clf, scaler, data)"
   ]
  },
  {
   "cell_type": "code",
   "execution_count": null,
   "metadata": {
    "ExecuteTime": {
     "start_time": "2023-04-01T14:44:47.924537Z",
     "end_time": "2023-04-01T14:44:47.969415Z"
    }
   },
   "outputs": [],
   "source": [
    "trades.head()"
   ]
  },
  {
   "cell_type": "markdown",
   "metadata": {},
   "source": [
    "### CatBoostClassifier + HPO"
   ]
  },
  {
   "cell_type": "code",
   "execution_count": null,
   "metadata": {
    "ExecuteTime": {
     "start_time": "2023-04-01T14:44:47.942486Z",
     "end_time": "2023-04-01T14:47:04.763268Z"
    }
   },
   "outputs": [],
   "source": [
    "# Train CatBoostClassifier classifier on train data, but optimize it with HPO first\n",
    "\n",
    "X_train, y_train = get_clean_Xy(data.iloc[0:int(data.shape[0] * system.train_set_end)])\n",
    "scaler = StandardScaler()\n",
    "X_train = scaler.fit_transform(X_train)\n",
    "if system.balance_data:\n",
    "    # Apply SMOTE oversampling to balance the training data\n",
    "    sm = SMOTE(random_state=newseed())\n",
    "    X_train, y_train = sm.fit_resample(X_train, y_train)\n",
    "best_hyperparams = optimize_model(CatBoostClassifier, 'CatBoostClassifier',\n",
    "                                  {\n",
    "                                    \"iterations\": hp.quniform(\"iterations\", 50, 1200, 1),\n",
    "                                    \"learning_rate\": hp.uniform(\"learning_rate\", 0.01, 0.2),\n",
    "                                    \"depth\": hp.quniform(\"depth\", 4, 10, 1),\n",
    "                                    \"l2_leaf_reg\": hp.uniform(\"l2_leaf_reg\", 1, 10),\n",
    "                                    \"border_count\": hp.quniform(\"border_count\", 128, 256, 1),\n",
    "                                    \"random_strength\": hp.uniform(\"random_strength\", 0.5, 2),\n",
    "                                    \"bagging_temperature\": hp.uniform(\"bagging_temperature\", 0.5, 2),\n",
    "                                },\n",
    "                                  X_train, y_train, max_evals=10, verbose=False)\n",
    "best_hyperparams['verbose'] = False\n",
    "clf, scaler = train_classifier(CatBoostClassifier, data, **best_hyperparams)"
   ]
  },
  {
   "cell_type": "code",
   "execution_count": null,
   "metadata": {
    "ExecuteTime": {
     "start_time": "2023-04-01T14:47:04.764265Z",
     "end_time": "2023-04-01T14:47:06.579382Z"
    }
   },
   "outputs": [],
   "source": [
    "# Test on val data\n",
    "equity, pf, trades = qbacktest(clf, scaler, data)"
   ]
  },
  {
   "cell_type": "code",
   "execution_count": null,
   "metadata": {
    "ExecuteTime": {
     "start_time": "2023-04-01T14:47:06.580380Z",
     "end_time": "2023-04-01T14:47:06.640585Z"
    }
   },
   "outputs": [],
   "source": [
    "trades.head()"
   ]
  },
  {
   "cell_type": "markdown",
   "metadata": {},
   "source": [
    "### ------------------------------------------------------------------------------------------------------------"
   ]
  },
  {
   "cell_type": "code",
   "execution_count": null,
   "metadata": {
    "ExecuteTime": {
     "start_time": "2023-04-01T14:47:06.596404Z",
     "end_time": "2023-04-01T14:47:06.643588Z"
    }
   },
   "outputs": [],
   "source": []
  },
  {
   "cell_type": "code",
   "execution_count": null,
   "metadata": {
    "ExecuteTime": {
     "start_time": "2023-04-01T14:47:06.612362Z",
     "end_time": "2023-04-01T14:47:06.670991Z"
    }
   },
   "outputs": [],
   "source": []
  },
  {
   "cell_type": "code",
   "execution_count": null,
   "metadata": {
    "ExecuteTime": {
     "start_time": "2023-04-01T14:47:06.627321Z",
     "end_time": "2023-04-01T14:47:06.686979Z"
    }
   },
   "outputs": [],
   "source": []
  },
  {
   "cell_type": "code",
   "execution_count": null,
   "metadata": {
    "ExecuteTime": {
     "start_time": "2023-04-01T14:47:06.642582Z",
     "end_time": "2023-04-01T14:47:06.707922Z"
    }
   },
   "outputs": [],
   "source": []
  },
  {
   "cell_type": "code",
   "execution_count": null,
   "metadata": {
    "ExecuteTime": {
     "start_time": "2023-04-01T14:47:06.657996Z",
     "end_time": "2023-04-01T14:47:06.732704Z"
    }
   },
   "outputs": [],
   "source": []
  },
  {
   "cell_type": "code",
   "execution_count": null,
   "metadata": {
    "ExecuteTime": {
     "start_time": "2023-04-01T14:47:06.672986Z",
     "end_time": "2023-04-01T14:47:06.746318Z"
    }
   },
   "outputs": [],
   "source": []
  }
 ],
 "metadata": {
  "colab": {
   "provenance": []
  },
  "kernelspec": {
   "display_name": "Python 3 (ipykernel)",
   "language": "python",
   "name": "python3"
  },
  "language_info": {
   "codemirror_mode": {
    "name": "ipython",
    "version": 3
   },
   "file_extension": ".py",
   "mimetype": "text/x-python",
   "name": "python",
   "nbconvert_exporter": "python",
   "pygments_lexer": "ipython3",
   "version": "3.8.10"
  },
  "pycharm": {
   "stem_cell": {
    "cell_type": "raw",
    "metadata": {
     "collapsed": false
    },
    "source": []
   }
  },
  "toc": {
   "base_numbering": 1,
   "nav_menu": {},
   "number_sections": true,
   "sideBar": true,
   "skip_h1_title": false,
   "title_cell": "Table of Contents",
   "title_sidebar": "Contents",
   "toc_cell": false,
   "toc_position": {
    "height": "calc(100% - 180px)",
    "left": "10px",
    "top": "150px",
    "width": "165px"
   },
   "toc_section_display": true,
   "toc_window_display": true
  }
 },
 "nbformat": 4,
 "nbformat_minor": 1
}
