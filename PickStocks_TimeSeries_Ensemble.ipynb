{
 "cells": [
  {
   "cell_type": "markdown",
   "metadata": {},
   "source": [
    "### ------------------------------------------------------------------------------------------------------------"
   ]
  },
  {
   "cell_type": "code",
   "execution_count": null,
   "metadata": {
    "ExecuteTime": {
     "start_time": "2023-04-02T16:23:45.444280Z",
     "end_time": "2023-04-02T16:23:45.768119Z"
    },
    "id": "LTSDSXZTURm5"
   },
   "outputs": [],
   "source": [
    "import os\n",
    "\n",
    "import pandas as pd\n",
    "\n",
    "if 'COLAB_GPU' in os.environ:\n",
    "    !git clone https://github.com/impulsecorp/PickStocks.git\n",
    "    !mv PickStocks/*.py .\n",
    "    !mv PickStocks/data .\n",
    "    !pip install -U -qq -r PickStocks/requirements.txt\n",
    "    device = 'cpu'\n",
    "else:\n",
    "    device = 'cuda'"
   ]
  },
  {
   "cell_type": "code",
   "execution_count": null,
   "metadata": {
    "ExecuteTime": {
     "start_time": "2023-04-02T16:23:45.769115Z",
     "end_time": "2023-04-02T16:23:47.552138Z"
    },
    "id": "rqKDcXZB4tNG"
   },
   "outputs": [],
   "source": [
    "import warnings\n",
    "warnings.filterwarnings(\"ignore\")\n",
    "import system\n",
    "from system import *\n",
    "# small hack to prevent Colab error\n",
    "try:\n",
    "    from datablock import *\n",
    "except:\n",
    "    from datablock import *\n",
    "seed"
   ]
  },
  {
   "cell_type": "code",
   "execution_count": null,
   "metadata": {
    "ExecuteTime": {
     "start_time": "2023-04-02T16:23:47.553136Z",
     "end_time": "2023-04-02T16:23:47.567232Z"
    }
   },
   "outputs": [],
   "source": [
    "%pylab inline"
   ]
  },
  {
   "cell_type": "markdown",
   "metadata": {},
   "source": [
    "### Setup"
   ]
  },
  {
   "cell_type": "code",
   "execution_count": null,
   "metadata": {
    "ExecuteTime": {
     "start_time": "2023-04-02T16:23:47.568230Z",
     "end_time": "2023-04-02T16:23:48.529596Z"
    }
   },
   "outputs": [],
   "source": [
    "data_timeperiod = 'D'\n",
    "data = get_data('SPY', period=data_timeperiod, nrows=None)\n",
    "data = procdata_lite(data)"
   ]
  },
  {
   "cell_type": "code",
   "execution_count": null,
   "metadata": {
    "ExecuteTime": {
     "start_time": "2023-04-02T16:23:48.530594Z",
     "end_time": "2023-04-02T16:23:48.623825Z"
    }
   },
   "outputs": [],
   "source": [
    "# for inspectiion\n",
    "print(data.shape)\n",
    "data.head()"
   ]
  },
  {
   "cell_type": "code",
   "execution_count": null,
   "metadata": {
    "ExecuteTime": {
     "start_time": "2023-04-02T16:23:48.624823Z",
     "end_time": "2023-04-02T16:23:48.639753Z"
    }
   },
   "outputs": [],
   "source": [
    "system.train_set_end = 0.6 # percentage point specifying the training set end point (1.0 means all data is training set)\n",
    "system.val_set_end = 1.0   # percentage point specifying the validation set end point (1.0 means no test set)\n",
    "system.balance_data = 1\n",
    "system.scale_data = 1"
   ]
  },
  {
   "cell_type": "markdown",
   "metadata": {},
   "source": [
    "### ------------------------------------------------------------------------------------------------------------"
   ]
  },
  {
   "cell_type": "markdown",
   "metadata": {},
   "source": [
    "### Base classifier test"
   ]
  },
  {
   "cell_type": "code",
   "execution_count": null,
   "metadata": {
    "ExecuteTime": {
     "start_time": "2023-04-02T16:23:48.640784Z",
     "end_time": "2023-04-02T16:23:49.410707Z"
    }
   },
   "outputs": [],
   "source": [
    "# Train LogisticRegression classifier on train data\n",
    "clf, scaler = train_classifier(LogisticRegression, data)"
   ]
  },
  {
   "cell_type": "code",
   "execution_count": null,
   "metadata": {
    "ExecuteTime": {
     "start_time": "2023-04-02T16:23:48.877118Z",
     "end_time": "2023-04-02T16:23:50.056906Z"
    }
   },
   "outputs": [],
   "source": [
    "# Test on val data\n",
    "equity, pf, trades = qbacktest(clf, scaler, data)"
   ]
  },
  {
   "cell_type": "code",
   "execution_count": null,
   "metadata": {
    "ExecuteTime": {
     "start_time": "2023-04-02T16:23:49.793689Z",
     "end_time": "2023-04-02T16:23:50.056906Z"
    }
   },
   "outputs": [],
   "source": [
    "trades.head()"
   ]
  },
  {
   "cell_type": "markdown",
   "metadata": {},
   "source": [
    "### ------------------------------------------------------------------------------------------------------------"
   ]
  },
  {
   "cell_type": "code",
   "execution_count": null,
   "outputs": [],
   "source": [
    "n_classifiers = 15\n",
    "num_layers = 1\n",
    "dropout = 0.25\n",
    "hidden_dim = 8\n",
    "n_epochs = 20"
   ],
   "metadata": {
    "collapsed": false,
    "ExecuteTime": {
     "start_time": "2023-04-02T16:23:49.809646Z",
     "end_time": "2023-04-02T16:23:50.056906Z"
    }
   }
  },
  {
   "cell_type": "markdown",
   "source": [
    "### ------------------------------------------------------------------------------------------------------------"
   ],
   "metadata": {
    "collapsed": false
   }
  },
  {
   "cell_type": "markdown",
   "metadata": {},
   "source": [
    "### LSTM Ensemble Training"
   ]
  },
  {
   "cell_type": "code",
   "execution_count": null,
   "metadata": {
    "ExecuteTime": {
     "start_time": "2023-04-02T16:23:49.826602Z",
     "end_time": "2023-04-02T16:23:50.056906Z"
    }
   },
   "outputs": [],
   "source": [
    "# This is only to get the data shapes\n",
    "X_train, y_train = get_clean_Xy_3d(data.iloc[0:int(data.shape[0] * system.train_set_end)], window_size=20)\n",
    "X_train.shape, y_train.shape"
   ]
  },
  {
   "cell_type": "code",
   "execution_count": null,
   "metadata": {
    "ExecuteTime": {
     "start_time": "2023-04-02T16:23:49.887256Z",
     "end_time": "2023-04-02T16:25:17.246576Z"
    },
    "scrolled": true
   },
   "outputs": [],
   "source": [
    "clf, scaler = train_classifier(RecurrentNetEnsemble, data, type='lstm', n_classifiers=n_classifiers, time_window_size=X_train.shape[1], # trainer params\n",
    "                               input_dim=X_train.shape[2], window_size=X_train.shape[1], quiet=1,\n",
    "                               num_layers=num_layers, dropout=dropout, device=device,\n",
    "                               hidden_dim=hidden_dim, n_epochs=n_epochs, # LSTM params\n",
    "                              )"
   ]
  },
  {
   "cell_type": "code",
   "execution_count": null,
   "metadata": {
    "ExecuteTime": {
     "start_time": "2023-04-02T16:25:17.247568Z",
     "end_time": "2023-04-02T16:25:38.842096Z"
    }
   },
   "outputs": [],
   "source": [
    "# Test on val data\n",
    "*_, trades = qbacktest(clf, scaler, data, window_size=X_train.shape[1])"
   ]
  },
  {
   "cell_type": "code",
   "execution_count": null,
   "metadata": {
    "ExecuteTime": {
     "start_time": "2023-04-02T16:25:38.849078Z",
     "end_time": "2023-04-02T16:25:38.889021Z"
    }
   },
   "outputs": [],
   "source": [
    "trades.head()"
   ]
  },
  {
   "cell_type": "markdown",
   "metadata": {},
   "source": [
    "### ------------------------------------------------------------------------------------------------------------"
   ]
  },
  {
   "cell_type": "markdown",
   "metadata": {},
   "source": [
    "### GRU Ensemble Training"
   ]
  },
  {
   "cell_type": "code",
   "execution_count": null,
   "metadata": {
    "ExecuteTime": {
     "start_time": "2023-04-02T16:25:38.859084Z",
     "end_time": "2023-04-02T16:27:04.721353Z"
    }
   },
   "outputs": [],
   "source": [
    "clf, scaler = train_classifier(RecurrentNetEnsemble, data, type='gru', n_classifiers=n_classifiers, time_window_size=X_train.shape[1], # trainer params\n",
    "                               input_dim=X_train.shape[2], window_size=X_train.shape[1], quiet=1,\n",
    "                               num_layers=num_layers, dropout=dropout, device=device,\n",
    "                               hidden_dim=hidden_dim, n_epochs=n_epochs, # GRU params\n",
    "                              )"
   ]
  },
  {
   "cell_type": "code",
   "execution_count": null,
   "metadata": {
    "ExecuteTime": {
     "start_time": "2023-04-02T16:27:04.722350Z",
     "end_time": "2023-04-02T16:27:24.797180Z"
    }
   },
   "outputs": [],
   "source": [
    "# Test on val data\n",
    "*_, trades = qbacktest(clf, scaler, data, window_size=X_train.shape[1])"
   ]
  },
  {
   "cell_type": "code",
   "execution_count": null,
   "metadata": {
    "ExecuteTime": {
     "start_time": "2023-04-02T16:27:24.736342Z",
     "end_time": "2023-04-02T16:27:24.797180Z"
    }
   },
   "outputs": [],
   "source": [
    "trades.head()"
   ]
  },
  {
   "cell_type": "markdown",
   "metadata": {},
   "source": [
    "### ------------------------------------------------------------------------------------------------------------"
   ]
  },
  {
   "cell_type": "markdown",
   "metadata": {},
   "source": [
    "### RNN Ensemble Training"
   ]
  },
  {
   "cell_type": "code",
   "execution_count": null,
   "metadata": {
    "ExecuteTime": {
     "start_time": "2023-04-02T16:23:07.460568Z",
     "end_time": "2023-04-02T16:23:30.038133Z"
    }
   },
   "outputs": [],
   "source": [
    "clf, scaler = train_classifier(RecurrentNetEnsemble, data, type='rnn', n_classifiers=n_classifiers, time_window_size=X_train.shape[1], # trainer params\n",
    "                               input_dim=X_train.shape[2], window_size=X_train.shape[1], quiet=1,\n",
    "                               num_layers=num_layers, dropout=dropout, device=device,\n",
    "                               hidden_dim=hidden_dim, n_epochs=n_epochs,  # RNN params\n",
    "                              )"
   ]
  },
  {
   "cell_type": "code",
   "execution_count": null,
   "metadata": {
    "ExecuteTime": {
     "start_time": "2023-04-02T15:57:16.123109Z",
     "end_time": "2023-04-02T15:57:25.353544Z"
    }
   },
   "outputs": [],
   "source": [
    "# Test on val data\n",
    "*_, trades = qbacktest(clf, scaler, data, window_size=X_train.shape[1])"
   ]
  },
  {
   "cell_type": "code",
   "execution_count": null,
   "metadata": {
    "ExecuteTime": {
     "start_time": "2023-04-02T15:57:25.354545Z",
     "end_time": "2023-04-02T15:57:25.415922Z"
    }
   },
   "outputs": [],
   "source": [
    "trades.head()"
   ]
  },
  {
   "cell_type": "markdown",
   "metadata": {},
   "source": [
    "### ------------------------------------------------------------------------------------------------------------"
   ]
  },
  {
   "cell_type": "code",
   "execution_count": null,
   "metadata": {
    "ExecuteTime": {
     "start_time": "2023-04-02T15:57:25.370501Z",
     "end_time": "2023-04-02T15:57:25.419794Z"
    }
   },
   "outputs": [],
   "source": []
  },
  {
   "cell_type": "code",
   "execution_count": null,
   "metadata": {
    "ExecuteTime": {
     "start_time": "2023-04-02T15:57:25.385697Z",
     "end_time": "2023-04-02T15:57:25.446890Z"
    }
   },
   "outputs": [],
   "source": []
  },
  {
   "cell_type": "code",
   "execution_count": null,
   "metadata": {
    "ExecuteTime": {
     "start_time": "2023-04-02T15:57:25.401689Z",
     "end_time": "2023-04-02T15:57:25.458777Z"
    }
   },
   "outputs": [],
   "source": []
  },
  {
   "cell_type": "code",
   "execution_count": null,
   "metadata": {
    "ExecuteTime": {
     "start_time": "2023-04-02T15:57:25.417800Z",
     "end_time": "2023-04-02T15:57:25.472713Z"
    }
   },
   "outputs": [],
   "source": []
  },
  {
   "cell_type": "code",
   "execution_count": null,
   "metadata": {
    "ExecuteTime": {
     "start_time": "2023-04-02T15:57:25.433173Z",
     "end_time": "2023-04-02T15:57:25.494047Z"
    }
   },
   "outputs": [],
   "source": []
  }
 ],
 "metadata": {
  "colab": {
   "provenance": []
  },
  "kernelspec": {
   "display_name": "Python 3 (ipykernel)",
   "language": "python",
   "name": "python3"
  },
  "language_info": {
   "codemirror_mode": {
    "name": "ipython",
    "version": 3
   },
   "file_extension": ".py",
   "mimetype": "text/x-python",
   "name": "python",
   "nbconvert_exporter": "python",
   "pygments_lexer": "ipython3",
   "version": "3.8.10"
  },
  "pycharm": {
   "stem_cell": {
    "cell_type": "raw",
    "metadata": {
     "collapsed": false
    },
    "source": []
   }
  },
  "toc": {
   "base_numbering": 1,
   "nav_menu": {},
   "number_sections": true,
   "sideBar": true,
   "skip_h1_title": false,
   "title_cell": "Table of Contents",
   "title_sidebar": "Contents",
   "toc_cell": false,
   "toc_position": {
    "height": "calc(100% - 180px)",
    "left": "10px",
    "top": "150px",
    "width": "165px"
   },
   "toc_section_display": true,
   "toc_window_display": true
  }
 },
 "nbformat": 4,
 "nbformat_minor": 1
}
