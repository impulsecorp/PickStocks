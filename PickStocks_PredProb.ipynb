{
 "cells": [
  {
   "cell_type": "markdown",
   "metadata": {},
   "source": [
    "### ------------------------------------------------------------------------------------------------------------"
   ]
  },
  {
   "cell_type": "code",
   "execution_count": null,
   "metadata": {
    "id": "LTSDSXZTURm5"
   },
   "outputs": [],
   "source": [
    "import os\n",
    "\n",
    "if 'COLAB_GPU' in os.environ:\n",
    "    !git clone https://github.com/impulsecorp/PickStocks.git\n",
    "    !mv PickStocks/*.py .\n",
    "    !mv PickStocks/data .\n",
    "    !pip install -U -qq -r PickStocks/requirements.txt"
   ]
  },
  {
   "cell_type": "code",
   "execution_count": null,
   "metadata": {
    "id": "rqKDcXZB4tNG"
   },
   "outputs": [],
   "source": [
    "import warnings\n",
    "warnings.filterwarnings(\"ignore\")\n",
    "import system\n",
    "from system import *\n",
    "# small hack to prevent Colab error\n",
    "try:\n",
    "    from datablock import *\n",
    "except:\n",
    "    from datablock import *\n",
    "from backtesting import Backtest\n",
    "from backtesting.lib import compute_stats\n",
    "seed"
   ]
  },
  {
   "cell_type": "code",
   "execution_count": null,
   "metadata": {},
   "outputs": [],
   "source": [
    "%pylab inline"
   ]
  },
  {
   "cell_type": "markdown",
   "metadata": {},
   "source": [
    "### ------------------------------------------------------------------------------------------------------------"
   ]
  },
  {
   "cell_type": "code",
   "execution_count": null,
   "metadata": {
    "id": "UgAjeNOl4tNK"
   },
   "outputs": [],
   "source": [
    "%%time\n",
    "\n",
    "data_timeperiod = '5min'\n",
    "data = get_data('SPY', period=data_timeperiod)\n",
    "data = procdata_lite(data, use_tsfel=0)"
   ]
  },
  {
   "cell_type": "code",
   "execution_count": null,
   "metadata": {},
   "outputs": [],
   "source": [
    "# print(get_data_features(data))\n",
    "print(data.shape)\n",
    "data.head()"
   ]
  },
  {
   "cell_type": "code",
   "execution_count": null,
   "metadata": {},
   "outputs": [],
   "source": [
    "system.train_set_end = 0.4 # percentage point specifying the training set end point (1.0 means all data is training set)\n",
    "system.val_set_end = 0.7 # percentage point specifying the validation set end point (1.0 means no test set)\n",
    "# basically this is the data with the values above, which are like sliders determining the layout\n",
    "# [|0.0| ...... train ........ |0.4| ............ val ............ |0.7| .............. test ............... |1.0|]"
   ]
  },
  {
   "cell_type": "code",
   "execution_count": null,
   "metadata": {},
   "outputs": [],
   "source": [
    "%%time\n",
    "\n",
    "# mode is 'opt' because we'll attempt to find the best confidence value for this period\n",
    "consts = dict(mode=['opt'], clf_class=[LogisticRegression], period=[data_timeperiod])\n",
    "bt = Backtest(data, MLEnsembleStrategy, **btkw)\n",
    "stats = bt.run(**{x:consts[x][0] for x in consts.keys()},\n",
    "               num_clfs=50)\n",
    "display(stats)"
   ]
  },
  {
   "cell_type": "code",
   "execution_count": null,
   "metadata": {},
   "outputs": [],
   "source": [
    "plot_result(bt, [stats])"
   ]
  },
  {
   "cell_type": "code",
   "execution_count": null,
   "metadata": {},
   "outputs": [],
   "source": [
    "trades = stats['_trades']\n",
    "print(trades.head())"
   ]
  },
  {
   "cell_type": "code",
   "execution_count": null,
   "outputs": [],
   "source": [
    "plot(stats['_trades']['PnL'].cumsum()); # base classifier-only curve"
   ],
   "metadata": {
    "collapsed": false
   }
  },
  {
   "cell_type": "code",
   "execution_count": null,
   "metadata": {},
   "outputs": [],
   "source": [
    "def filter_trades_by_prediction(trades, predictions, threshold=0.0):\n",
    "    # Create a copy of the trades DataFrame\n",
    "    filtered_trades = trades.copy()\n",
    "\n",
    "    # Get the relevant portion of the predictions indicator that corresponds to the trades\n",
    "    relevant_predictions = predictions.df.iloc[filtered_trades['EntryBar']]\n",
    "\n",
    "    # Add the rescaled predictions as a new column to the trades DataFrame\n",
    "    filtered_trades['PredictionValue'] = np.abs(relevant_predictions.values - 0.5) * 2.0\n",
    "\n",
    "    # Filter the trades by the prediction value\n",
    "    filtered_trades = filtered_trades.loc[filtered_trades['PredictionValue'] > threshold]\n",
    "\n",
    "    return filtered_trades"
   ]
  },
  {
   "cell_type": "code",
   "execution_count": null,
   "outputs": [],
   "source": [
    "from hyperopt import fmin, tpe, hp\n",
    "\n",
    "def objective(threshold):\n",
    "    # Filter trades by the threshold\n",
    "    filtered_trades = filter_trades_by_prediction(trades, stats._strategy.predictions, threshold=threshold)\n",
    "\n",
    "    # Compute the new statistics\n",
    "    new_stats = compute_stats(stats=stats, data=data, trades=filtered_trades)\n",
    "\n",
    "    # Return the profit factor as the objective\n",
    "    return -new_stats['Win Rate [%]']\n",
    "\n",
    "# Define the hyperparameter space\n",
    "space = hp.uniform('threshold', 0.001, 0.999)"
   ],
   "metadata": {
    "collapsed": false
   }
  },
  {
   "cell_type": "code",
   "execution_count": null,
   "outputs": [],
   "source": [
    "# Run the hyperparameter optimization\n",
    "best = fmin(fn=objective, space=space, algo=tpe.suggest, max_evals=20)\n",
    "\n",
    "# Get the best threshold value found\n",
    "best_threshold = best['threshold']\n",
    "best_threshold"
   ],
   "metadata": {
    "collapsed": false
   }
  },
  {
   "cell_type": "code",
   "execution_count": null,
   "outputs": [],
   "source": [
    "filter_trades_by_prediction(trades, stats._strategy.predictions, best_threshold).head()"
   ],
   "metadata": {
    "collapsed": false
   }
  },
  {
   "cell_type": "code",
   "execution_count": null,
   "outputs": [],
   "source": [
    "best_stats = compute_stats(stats=stats, data=data, trades=filter_trades_by_prediction(trades, stats._strategy.predictions, best_threshold))\n",
    "best_stats"
   ],
   "metadata": {
    "collapsed": false
   }
  },
  {
   "cell_type": "code",
   "execution_count": null,
   "outputs": [],
   "source": [
    "best_stats['_trades'].head()"
   ],
   "metadata": {
    "collapsed": false
   }
  },
  {
   "cell_type": "code",
   "execution_count": null,
   "outputs": [],
   "source": [
    "plot(best_stats['_trades']['PnL'].cumsum());"
   ],
   "metadata": {
    "collapsed": false
   }
  },
  {
   "cell_type": "markdown",
   "metadata": {},
   "source": [
    "### ------------------------------------------------------------------------------------------------------------"
   ]
  },
  {
   "cell_type": "code",
   "execution_count": null,
   "outputs": [],
   "source": [
    "# test on unseen data\n",
    "# mode is 'test'\n",
    "consts = dict(mode=['test'], clf_class=[LogisticRegression], period=[data_timeperiod])\n",
    "bt = Backtest(data, MLEnsembleStrategy, **btkw)\n",
    "test_stats = bt.run(**{x:consts[x][0] for x in consts.keys()},\n",
    "               num_clfs=50, min_confidence=best_threshold) # this uses the built-in confidence logic in the strategy so it applies the best filter in real-time\n",
    "test_trades = test_stats['_trades']\n",
    "test_stats"
   ],
   "metadata": {
    "collapsed": false
   }
  },
  {
   "cell_type": "code",
   "execution_count": null,
   "outputs": [],
   "source": [
    "test_trades.head()"
   ],
   "metadata": {
    "collapsed": false
   }
  },
  {
   "cell_type": "code",
   "execution_count": null,
   "outputs": [],
   "source": [
    "plot(test_stats['_trades']['PnL'].cumsum());"
   ],
   "metadata": {
    "collapsed": false
   }
  },
  {
   "cell_type": "markdown",
   "source": [
    "### ------------------------------------------------------------------------------------------------------------"
   ],
   "metadata": {
    "collapsed": false
   }
  },
  {
   "cell_type": "code",
   "execution_count": null,
   "metadata": {},
   "outputs": [],
   "source": []
  },
  {
   "cell_type": "code",
   "execution_count": null,
   "metadata": {},
   "outputs": [],
   "source": []
  },
  {
   "cell_type": "code",
   "execution_count": null,
   "metadata": {},
   "outputs": [],
   "source": []
  },
  {
   "cell_type": "code",
   "execution_count": null,
   "metadata": {},
   "outputs": [],
   "source": []
  },
  {
   "cell_type": "code",
   "execution_count": null,
   "metadata": {},
   "outputs": [],
   "source": []
  },
  {
   "cell_type": "code",
   "execution_count": null,
   "metadata": {},
   "outputs": [],
   "source": []
  },
  {
   "cell_type": "code",
   "execution_count": null,
   "metadata": {},
   "outputs": [],
   "source": []
  },
  {
   "cell_type": "code",
   "execution_count": null,
   "metadata": {},
   "outputs": [],
   "source": []
  },
  {
   "cell_type": "code",
   "execution_count": null,
   "metadata": {},
   "outputs": [],
   "source": []
  },
  {
   "cell_type": "code",
   "execution_count": null,
   "metadata": {},
   "outputs": [],
   "source": []
  },
  {
   "cell_type": "code",
   "execution_count": null,
   "metadata": {},
   "outputs": [],
   "source": []
  },
  {
   "cell_type": "code",
   "execution_count": null,
   "metadata": {},
   "outputs": [],
   "source": []
  },
  {
   "cell_type": "code",
   "execution_count": null,
   "metadata": {},
   "outputs": [],
   "source": []
  },
  {
   "cell_type": "code",
   "execution_count": null,
   "metadata": {},
   "outputs": [],
   "source": []
  }
 ],
 "metadata": {
  "colab": {
   "provenance": []
  },
  "kernelspec": {
   "display_name": "Python 3 (ipykernel)",
   "language": "python",
   "name": "python3"
  },
  "language_info": {
   "codemirror_mode": {
    "name": "ipython",
    "version": 3
   },
   "file_extension": ".py",
   "mimetype": "text/x-python",
   "name": "python",
   "nbconvert_exporter": "python",
   "pygments_lexer": "ipython3",
   "version": "3.8.10"
  },
  "pycharm": {
   "stem_cell": {
    "cell_type": "raw",
    "metadata": {
     "collapsed": false
    },
    "source": []
   }
  },
  "toc": {
   "base_numbering": 1,
   "nav_menu": {},
   "number_sections": true,
   "sideBar": true,
   "skip_h1_title": false,
   "title_cell": "Table of Contents",
   "title_sidebar": "Contents",
   "toc_cell": false,
   "toc_position": {
    "height": "calc(100% - 180px)",
    "left": "10px",
    "top": "150px",
    "width": "165px"
   },
   "toc_section_display": true,
   "toc_window_display": true
  }
 },
 "nbformat": 4,
 "nbformat_minor": 1
}
