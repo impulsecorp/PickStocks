{
 "cells": [
  {
   "cell_type": "code",
   "execution_count": null,
   "metadata": {
    "id": "sTngFFa5gQdy"
   },
   "outputs": [],
   "source": [
    "%pylab inline"
   ]
  },
  {
   "cell_type": "code",
   "execution_count": null,
   "metadata": {
    "id": "LTSDSXZTURm5"
   },
   "outputs": [],
   "source": [
    "import os\n",
    "\n",
    "if 'COLAB_GPU' in os.environ:\n",
    "    !git clone https: // github.com / impulsecorp / PickStocks.git\n",
    "    !mv PickStocks / *.py.\n",
    "    !mv PickStocks / data.\n",
    "    !pip install -qq -r PickStocks / requirements.txt"
   ]
  },
  {
   "cell_type": "code",
   "execution_count": null,
   "metadata": {
    "id": "rqKDcXZB4tNG"
   },
   "outputs": [],
   "source": [
    "import warnings\n",
    "warnings.filterwarnings(\"ignore\")\n",
    "import system\n",
    "from system import *\n",
    "from datablock import *\n",
    "from backtesting import Backtest\n",
    "from sklearn.linear_model import LogisticRegression\n",
    "seed"
   ]
  },
  {
   "cell_type": "code",
   "execution_count": null,
   "metadata": {
    "id": "UgAjeNOl4tNK"
   },
   "outputs": [],
   "source": [
    "%%time\n",
    "\n",
    "data_timeperiod = '60min'\n",
    "data = get_data('SPY', period=data_timeperiod)\n",
    "data = procdata_lite(data, use_tsfel=0)"
   ]
  },
  {
   "cell_type": "code",
   "execution_count": null,
   "metadata": {},
   "outputs": [],
   "source": [
    "# print(get_data_features(data))\n",
    "data.shape"
   ]
  },
  {
   "cell_type": "code",
   "execution_count": null,
   "metadata": {},
   "outputs": [],
   "source": [
    "# fraction of data it will use for backtesting\n",
    "system.test_size = 0.5"
   ]
  },
  {
   "cell_type": "code",
   "execution_count": null,
   "metadata": {
    "id": "2BL6mupR2PVX"
   },
   "outputs": [],
   "source": [
    "%%time\n",
    "\n",
    "# search space boundaries\n",
    "sp_min = 0.0\n",
    "sp_max = 1.0\n",
    "points = 50\n",
    "\n",
    "MLEnsembleStrategy.num_clfs = 100\n",
    "MLEnsembleStrategy.dropout = 0.05\n",
    "\n",
    "bt = Backtest(data, MLEnsembleStrategy, **btkw)\n",
    "consts = dict(clf_class=[LogisticRegression], period=[data_timeperiod])\n",
    "results = bt.optimize(**consts, **optkw,\n",
    "                      min_confidence=np.linspace(sp_min, sp_max, points).tolist())\n",
    "plot_optresult(get_optdata(results, consts), 'confidence');"
   ]
  },
  {
   "cell_type": "code",
   "execution_count": null,
   "metadata": {
    "id": "1TdVBRofTrX2"
   },
   "outputs": [],
   "source": [
    "stats = results[0]\n",
    "stats"
   ]
  },
  {
   "cell_type": "code",
   "execution_count": null,
   "metadata": {
    "id": "VNJaevier_eY"
   },
   "outputs": [],
   "source": [
    "trades = stats['_trades']\n",
    "trades.head()"
   ]
  },
  {
   "cell_type": "code",
   "execution_count": null,
   "metadata": {
    "id": "Yqj_QdwNTrX2"
   },
   "outputs": [],
   "source": [
    "bt.plot(plot_width=1200, plot_volume=False, plot_pl=False);"
   ]
  },
  {
   "cell_type": "code",
   "execution_count": null,
   "metadata": {
    "id": "8EEt-H2hmigu"
   },
   "outputs": [],
   "source": [
    "gr = get_optdata(results, consts)\n",
    "best_min_confidence = gr.index[np.argmax(gr['objective'].values)]\n",
    "best_min_confidence"
   ]
  },
  {
   "cell_type": "code",
   "execution_count": null,
   "metadata": {},
   "outputs": [],
   "source": []
  },
  {
   "cell_type": "code",
   "execution_count": null,
   "metadata": {},
   "outputs": [],
   "source": []
  },
  {
   "cell_type": "code",
   "execution_count": null,
   "metadata": {},
   "outputs": [],
   "source": [
    "# Search for best ensemble"
   ]
  },
  {
   "cell_type": "code",
   "execution_count": null,
   "metadata": {},
   "outputs": [],
   "source": [
    "# search space boundaries\n",
    "sp_min = 5\n",
    "sp_max = 500\n",
    "system.max_tries = 0.05\n",
    "\n",
    "MLEnsembleStrategy.dropout = 0.05\n",
    "MLEnsembleStrategy.min_confidence = best_min_confidence\n",
    "\n",
    "bt = Backtest(data, MLEnsembleStrategy, **btkw)\n",
    "consts = dict(clf_class=[LogisticRegression], period=[data_timeperiod])\n",
    "results = bt.optimize(**consts, **optkw,\n",
    "                      num_clfs=np.arange(sp_min, sp_max).tolist())\n",
    "plot_optresult(get_optdata(results, consts), 'num_clfs');"
   ]
  },
  {
   "cell_type": "code",
   "execution_count": null,
   "metadata": {},
   "outputs": [],
   "source": [
    "stats = results[0]\n",
    "stats"
   ]
  },
  {
   "cell_type": "code",
   "execution_count": null,
   "metadata": {},
   "outputs": [],
   "source": [
    "bt.plot(plot_width=1200, plot_volume=False, plot_pl=False);"
   ]
  },
  {
   "cell_type": "code",
   "execution_count": null,
   "metadata": {},
   "outputs": [],
   "source": []
  },
  {
   "cell_type": "code",
   "execution_count": null,
   "metadata": {},
   "outputs": [],
   "source": []
  },
  {
   "cell_type": "code",
   "execution_count": null,
   "metadata": {},
   "outputs": [],
   "source": []
  }
 ],
 "metadata": {
  "colab": {
   "provenance": []
  },
  "kernelspec": {
   "display_name": "Python 3 (ipykernel)",
   "language": "python",
   "name": "python3"
  },
  "language_info": {
   "codemirror_mode": {
    "name": "ipython",
    "version": 3
   },
   "file_extension": ".py",
   "mimetype": "text/x-python",
   "name": "python",
   "nbconvert_exporter": "python",
   "pygments_lexer": "ipython3",
   "version": "3.8.10"
  },
  "pycharm": {
   "stem_cell": {
    "cell_type": "raw",
    "metadata": {
     "collapsed": false
    },
    "source": []
   }
  },
  "toc": {
   "base_numbering": 1,
   "nav_menu": {},
   "number_sections": true,
   "sideBar": true,
   "skip_h1_title": false,
   "title_cell": "Table of Contents",
   "title_sidebar": "Contents",
   "toc_cell": false,
   "toc_position": {
    "height": "calc(100% - 180px)",
    "left": "10px",
    "top": "150px",
    "width": "165px"
   },
   "toc_section_display": true,
   "toc_window_display": true
  }
 },
 "nbformat": 4,
 "nbformat_minor": 1
}
