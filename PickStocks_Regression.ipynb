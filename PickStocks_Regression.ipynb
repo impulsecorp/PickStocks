{
 "cells": [
  {
   "cell_type": "markdown",
   "metadata": {},
   "source": [
    "### ------------------------------------------------------------------------------------------------------------"
   ]
  },
  {
   "cell_type": "code",
   "execution_count": null,
   "metadata": {
    "id": "LTSDSXZTURm5",
    "ExecuteTime": {
     "start_time": "2023-04-08T13:19:19.657592Z",
     "end_time": "2023-04-08T13:19:19.666568Z"
    }
   },
   "outputs": [],
   "source": [
    "import os\n",
    "\n",
    "if 'COLAB_GPU' in os.environ:\n",
    "    !git clone https://github.com/impulsecorp/PickStocks.git\n",
    "    !mv PickStocks/*.py .\n",
    "    !mv PickStocks/data .\n",
    "    !pip install -U -qq -r PickStocks/requirements.txt"
   ]
  },
  {
   "cell_type": "code",
   "execution_count": null,
   "metadata": {
    "id": "rqKDcXZB4tNG",
    "ExecuteTime": {
     "start_time": "2023-04-08T13:19:19.667565Z",
     "end_time": "2023-04-08T13:19:27.877242Z"
    }
   },
   "outputs": [],
   "source": [
    "import warnings\n",
    "warnings.filterwarnings(\"ignore\")\n",
    "import system\n",
    "from system import *\n",
    "# small hack to prevent Colab error\n",
    "try:\n",
    "    from datablock import *\n",
    "except:\n",
    "    from datablock import *\n",
    "seed"
   ]
  },
  {
   "cell_type": "code",
   "execution_count": null,
   "metadata": {
    "ExecuteTime": {
     "start_time": "2023-04-08T13:19:27.879236Z",
     "end_time": "2023-04-08T13:19:27.929103Z"
    }
   },
   "outputs": [],
   "source": [
    "%pylab inline"
   ]
  },
  {
   "cell_type": "markdown",
   "metadata": {},
   "source": [
    "### Setup"
   ]
  },
  {
   "cell_type": "code",
   "execution_count": null,
   "metadata": {
    "ExecuteTime": {
     "start_time": "2023-04-08T13:19:27.909158Z",
     "end_time": "2023-04-08T13:19:28.925439Z"
    }
   },
   "outputs": [],
   "source": [
    "data_timeperiod = 'D'\n",
    "data = get_data('SPY', period=data_timeperiod, nrows=None)\n",
    "data = procdata_lite(data)"
   ]
  },
  {
   "cell_type": "code",
   "execution_count": null,
   "metadata": {
    "ExecuteTime": {
     "start_time": "2023-04-08T13:19:28.924442Z",
     "end_time": "2023-04-08T13:19:29.037141Z"
    }
   },
   "outputs": [],
   "source": [
    "# for inspectiion\n",
    "print(data.shape)\n",
    "data.head()"
   ]
  },
  {
   "cell_type": "code",
   "execution_count": null,
   "outputs": [],
   "source": [
    "system.regression = 1 # don't change this"
   ],
   "metadata": {
    "collapsed": false,
    "ExecuteTime": {
     "start_time": "2023-04-08T13:19:29.035145Z",
     "end_time": "2023-04-08T13:19:29.049109Z"
    }
   }
  },
  {
   "cell_type": "code",
   "execution_count": null,
   "metadata": {
    "ExecuteTime": {
     "start_time": "2023-04-08T13:19:29.051104Z",
     "end_time": "2023-04-08T13:19:29.094986Z"
    }
   },
   "outputs": [],
   "source": [
    "system.train_set_end = 0.7 # percentage point specifying the training set end point (1.0 means all data is training set)\n",
    "system.val_set_end = 1.0    # percentage point specifying the validation set end point (1.0 means no test set)\n",
    "system.regression_move_threshold = 0.2 # emits a trade order if the predicted move is bigger than this\n",
    "system.scale_data = 1"
   ]
  },
  {
   "cell_type": "markdown",
   "metadata": {},
   "source": [
    "### ------------------------------------------------------------------------------------------------------------"
   ]
  },
  {
   "cell_type": "markdown",
   "metadata": {},
   "source": [
    "### LinearRegression"
   ]
  },
  {
   "cell_type": "code",
   "execution_count": null,
   "metadata": {
    "ExecuteTime": {
     "start_time": "2023-04-08T13:19:29.065065Z",
     "end_time": "2023-04-08T13:19:30.825357Z"
    }
   },
   "outputs": [],
   "source": [
    "# Train LogisticRegression classifier on train data\n",
    "reg, scaler = train_reg_ensemble(LinearRegression, data, ensemble_size=10)"
   ]
  },
  {
   "cell_type": "code",
   "execution_count": null,
   "outputs": [],
   "source": [
    "# Test once on train data, to ensure nothing is reversed and the regressor learned\n",
    "*_, trades = rbacktest(reg, scaler, data, skip_train=0, skip_val=1, skip_test=1,)"
   ],
   "metadata": {
    "collapsed": false,
    "ExecuteTime": {
     "start_time": "2023-04-08T13:19:30.667779Z",
     "end_time": "2023-04-08T13:19:33.942022Z"
    }
   }
  },
  {
   "cell_type": "code",
   "execution_count": null,
   "metadata": {
    "ExecuteTime": {
     "start_time": "2023-04-08T13:19:33.945015Z",
     "end_time": "2023-04-08T13:19:35.477580Z"
    }
   },
   "outputs": [],
   "source": [
    "# Test on val data\n",
    "*_, trades = rbacktest(reg, scaler, data)"
   ]
  },
  {
   "cell_type": "code",
   "execution_count": null,
   "metadata": {
    "ExecuteTime": {
     "start_time": "2023-04-08T13:19:35.478578Z",
     "end_time": "2023-04-08T13:19:35.555410Z"
    }
   },
   "outputs": [],
   "source": [
    "trades.head()"
   ]
  },
  {
   "cell_type": "markdown",
   "metadata": {},
   "source": [
    "### XGBRegressor"
   ]
  },
  {
   "cell_type": "code",
   "execution_count": null,
   "metadata": {
    "ExecuteTime": {
     "start_time": "2023-04-08T13:19:35.492579Z",
     "end_time": "2023-04-08T13:19:49.739523Z"
    }
   },
   "outputs": [],
   "source": [
    "# Train XGBClassifier classifier on train data\n",
    "reg, scaler = train_reg_ensemble(XGBRegressor, data, ensemble_size=10)"
   ]
  },
  {
   "cell_type": "code",
   "execution_count": null,
   "metadata": {
    "ExecuteTime": {
     "start_time": "2023-04-08T13:19:49.739523Z",
     "end_time": "2023-04-08T13:20:00.008061Z"
    }
   },
   "outputs": [],
   "source": [
    "# Test on val data\n",
    "*_, trades = rbacktest(reg, scaler, data)"
   ]
  },
  {
   "cell_type": "code",
   "execution_count": null,
   "metadata": {
    "ExecuteTime": {
     "start_time": "2023-04-08T13:20:00.007063Z",
     "end_time": "2023-04-08T13:20:00.021304Z"
    }
   },
   "outputs": [],
   "source": [
    "trades.head()"
   ]
  },
  {
   "cell_type": "markdown",
   "metadata": {},
   "source": [
    "### LGBMRegressor"
   ]
  },
  {
   "cell_type": "code",
   "execution_count": null,
   "metadata": {
    "ExecuteTime": {
     "start_time": "2023-04-08T13:20:00.022301Z",
     "end_time": "2023-04-08T13:20:03.618683Z"
    }
   },
   "outputs": [],
   "source": [
    "# Train LGBMClassifier classifier on train data\n",
    "reg, scaler = train_reg_ensemble(LGBMRegressor, data, ensemble_size=10)"
   ]
  },
  {
   "cell_type": "code",
   "execution_count": null,
   "metadata": {
    "ExecuteTime": {
     "start_time": "2023-04-08T13:20:03.618683Z",
     "end_time": "2023-04-08T13:20:06.923647Z"
    }
   },
   "outputs": [],
   "source": [
    "# Test on val data\n",
    "*_, trades = rbacktest(reg, scaler, data)"
   ]
  },
  {
   "cell_type": "code",
   "execution_count": null,
   "metadata": {
    "ExecuteTime": {
     "start_time": "2023-04-08T13:20:06.928633Z",
     "end_time": "2023-04-08T13:20:06.937624Z"
    }
   },
   "outputs": [],
   "source": [
    "trades.head()"
   ]
  },
  {
   "cell_type": "markdown",
   "metadata": {},
   "source": [
    "### RandomForestRegressor"
   ]
  },
  {
   "cell_type": "code",
   "execution_count": null,
   "metadata": {
    "ExecuteTime": {
     "start_time": "2023-04-08T13:20:06.937624Z",
     "end_time": "2023-04-08T13:23:20.899842Z"
    }
   },
   "outputs": [],
   "source": [
    "# Train RandomForestClassifier classifier on train data\n",
    "reg, scaler = train_reg_ensemble(RandomForestRegressor, data, n_jobs=-1, ensemble_size=10)"
   ]
  },
  {
   "cell_type": "code",
   "execution_count": null,
   "metadata": {
    "ExecuteTime": {
     "start_time": "2023-04-08T13:23:20.906796Z",
     "end_time": "2023-04-08T13:24:57.040790Z"
    }
   },
   "outputs": [],
   "source": [
    "# Test on val data\n",
    "*_, trades = rbacktest(reg, scaler, data)"
   ]
  },
  {
   "cell_type": "code",
   "execution_count": null,
   "metadata": {
    "ExecuteTime": {
     "start_time": "2023-04-08T13:24:57.041791Z",
     "end_time": "2023-04-08T13:24:57.132307Z"
    }
   },
   "outputs": [],
   "source": [
    "trades.head()"
   ]
  },
  {
   "cell_type": "markdown",
   "metadata": {},
   "source": [
    "### ExtraTreesRegressor"
   ]
  },
  {
   "cell_type": "code",
   "execution_count": null,
   "metadata": {
    "ExecuteTime": {
     "start_time": "2023-04-08T13:24:57.059501Z",
     "end_time": "2023-04-08T13:25:29.648431Z"
    }
   },
   "outputs": [],
   "source": [
    "# Train ExtraTreesClassifier classifier on train data\n",
    "reg, scaler = train_reg_ensemble(ExtraTreesRegressor, data, ensemble_size=10)"
   ]
  },
  {
   "cell_type": "code",
   "execution_count": null,
   "metadata": {
    "ExecuteTime": {
     "start_time": "2023-04-08T13:25:29.649428Z",
     "end_time": "2023-04-08T13:27:07.868557Z"
    }
   },
   "outputs": [],
   "source": [
    "# Test on val data\n",
    "*_, trades = rbacktest(reg, scaler, data)"
   ]
  },
  {
   "cell_type": "code",
   "execution_count": null,
   "metadata": {
    "ExecuteTime": {
     "start_time": "2023-04-08T13:27:07.870552Z",
     "end_time": "2023-04-08T13:27:07.960312Z"
    }
   },
   "outputs": [],
   "source": [
    "trades.head()"
   ]
  },
  {
   "cell_type": "markdown",
   "metadata": {},
   "source": [
    "### CatBoostRegressor"
   ]
  },
  {
   "cell_type": "code",
   "execution_count": null,
   "metadata": {
    "ExecuteTime": {
     "start_time": "2023-04-08T13:27:07.885511Z",
     "end_time": "2023-04-08T13:28:11.446529Z"
    }
   },
   "outputs": [],
   "source": [
    "# Train CatBoostClassifier classifier on train data\n",
    "reg, scaler = train_reg_ensemble(CatBoostRegressor, data, verbose=False, ensemble_size=10)"
   ]
  },
  {
   "cell_type": "code",
   "execution_count": null,
   "metadata": {
    "ExecuteTime": {
     "start_time": "2023-04-08T13:28:11.446529Z",
     "end_time": "2023-04-08T13:28:37.412088Z"
    }
   },
   "outputs": [],
   "source": [
    "# Test on val data\n",
    "*_, trades = rbacktest(reg, scaler, data)"
   ]
  },
  {
   "cell_type": "code",
   "execution_count": null,
   "metadata": {
    "ExecuteTime": {
     "start_time": "2023-04-08T13:28:37.418072Z",
     "end_time": "2023-04-08T13:28:37.487886Z"
    }
   },
   "outputs": [],
   "source": [
    "trades.head()"
   ]
  },
  {
   "cell_type": "markdown",
   "metadata": {},
   "source": [
    "### ------------------------------------------------------------------------------------------------------------"
   ]
  },
  {
   "cell_type": "markdown",
   "source": [
    "### Ensemble of all"
   ],
   "metadata": {
    "collapsed": false
   }
  },
  {
   "cell_type": "code",
   "execution_count": null,
   "outputs": [],
   "source": [
    "# Train ensemble on train data\n",
    "clf, scaler = train_reg_ensemble([LinearRegression, XGBRegressor, LGBMRegressor, RandomForestRegressor, ExtraTreesRegressor, CatBoostRegressor],\n",
    "                                 data, ensemble_size=1)"
   ],
   "metadata": {
    "collapsed": false,
    "ExecuteTime": {
     "start_time": "2023-04-08T13:28:37.427048Z",
     "end_time": "2023-04-08T13:30:58.023048Z"
    }
   }
  },
  {
   "cell_type": "code",
   "execution_count": null,
   "outputs": [],
   "source": [
    "# Test on val data\n",
    "equity, pf, trades = rbacktest(clf, scaler, data)"
   ],
   "metadata": {
    "collapsed": false,
    "ExecuteTime": {
     "start_time": "2023-04-08T13:30:58.027037Z",
     "end_time": "2023-04-08T13:31:38.197607Z"
    }
   }
  },
  {
   "cell_type": "code",
   "execution_count": null,
   "outputs": [],
   "source": [
    "trades.head()"
   ],
   "metadata": {
    "collapsed": false,
    "ExecuteTime": {
     "start_time": "2023-04-08T13:31:38.198605Z",
     "end_time": "2023-04-08T13:31:38.213565Z"
    }
   }
  },
  {
   "cell_type": "code",
   "execution_count": null,
   "metadata": {
    "ExecuteTime": {
     "start_time": "2023-04-08T13:31:38.213565Z",
     "end_time": "2023-04-08T13:31:38.290359Z"
    }
   },
   "outputs": [],
   "source": []
  },
  {
   "cell_type": "code",
   "execution_count": null,
   "metadata": {
    "ExecuteTime": {
     "start_time": "2023-04-08T13:31:38.230519Z",
     "end_time": "2023-04-08T13:31:38.301329Z"
    }
   },
   "outputs": [],
   "source": []
  },
  {
   "cell_type": "code",
   "execution_count": null,
   "metadata": {
    "ExecuteTime": {
     "start_time": "2023-04-08T13:31:38.247474Z",
     "end_time": "2023-04-08T13:31:38.301329Z"
    }
   },
   "outputs": [],
   "source": []
  },
  {
   "cell_type": "code",
   "execution_count": null,
   "metadata": {
    "ExecuteTime": {
     "start_time": "2023-04-08T13:31:38.262435Z",
     "end_time": "2023-04-08T13:31:38.322274Z"
    }
   },
   "outputs": [],
   "source": []
  },
  {
   "cell_type": "code",
   "execution_count": null,
   "metadata": {
    "ExecuteTime": {
     "start_time": "2023-04-08T13:31:38.275398Z",
     "end_time": "2023-04-08T13:31:38.337233Z"
    }
   },
   "outputs": [],
   "source": []
  },
  {
   "cell_type": "code",
   "execution_count": null,
   "metadata": {
    "ExecuteTime": {
     "start_time": "2023-04-08T13:31:38.293352Z",
     "end_time": "2023-04-08T13:31:38.356183Z"
    }
   },
   "outputs": [],
   "source": []
  }
 ],
 "metadata": {
  "colab": {
   "provenance": []
  },
  "kernelspec": {
   "display_name": "Python 3 (ipykernel)",
   "language": "python",
   "name": "python3"
  },
  "language_info": {
   "codemirror_mode": {
    "name": "ipython",
    "version": 3
   },
   "file_extension": ".py",
   "mimetype": "text/x-python",
   "name": "python",
   "nbconvert_exporter": "python",
   "pygments_lexer": "ipython3",
   "version": "3.8.10"
  },
  "pycharm": {
   "stem_cell": {
    "cell_type": "raw",
    "metadata": {
     "collapsed": false
    },
    "source": []
   }
  },
  "toc": {
   "base_numbering": 1,
   "nav_menu": {},
   "number_sections": true,
   "sideBar": true,
   "skip_h1_title": false,
   "title_cell": "Table of Contents",
   "title_sidebar": "Contents",
   "toc_cell": false,
   "toc_position": {
    "height": "calc(100% - 180px)",
    "left": "10px",
    "top": "150px",
    "width": "165px"
   },
   "toc_section_display": true,
   "toc_window_display": true
  }
 },
 "nbformat": 4,
 "nbformat_minor": 1
}
