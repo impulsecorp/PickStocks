{
 "cells": [
  {
   "cell_type": "markdown",
   "metadata": {},
   "source": [
    "### ------------------------------------------------------------------------------------------------------------"
   ]
  },
  {
   "cell_type": "code",
   "execution_count": null,
   "metadata": {
    "ExecuteTime": {
     "start_time": "2023-04-02T14:25:06.966012Z",
     "end_time": "2023-04-02T14:25:07.279252Z"
    },
    "id": "LTSDSXZTURm5"
   },
   "outputs": [],
   "source": [
    "import os\n",
    "\n",
    "import pandas as pd\n",
    "\n",
    "if 'COLAB_GPU' in os.environ:\n",
    "    !git clone https://github.com/impulsecorp/PickStocks.git\n",
    "    !mv PickStocks/*.py .\n",
    "    !mv PickStocks/data .\n",
    "    !pip install -U -qq -r PickStocks/requirements.txt"
   ]
  },
  {
   "cell_type": "code",
   "execution_count": null,
   "metadata": {
    "ExecuteTime": {
     "start_time": "2023-04-02T14:25:07.280249Z",
     "end_time": "2023-04-02T14:25:09.100983Z"
    },
    "id": "rqKDcXZB4tNG"
   },
   "outputs": [],
   "source": [
    "import warnings\n",
    "warnings.filterwarnings(\"ignore\")\n",
    "import system\n",
    "from system import *\n",
    "# small hack to prevent Colab error\n",
    "try:\n",
    "    from datablock import *\n",
    "except:\n",
    "    from datablock import *\n",
    "seed"
   ]
  },
  {
   "cell_type": "code",
   "execution_count": null,
   "metadata": {
    "ExecuteTime": {
     "start_time": "2023-04-02T14:25:09.102008Z",
     "end_time": "2023-04-02T14:25:09.146907Z"
    }
   },
   "outputs": [],
   "source": [
    "%pylab inline"
   ]
  },
  {
   "cell_type": "markdown",
   "metadata": {},
   "source": [
    "### Setup"
   ]
  },
  {
   "cell_type": "code",
   "execution_count": null,
   "metadata": {
    "ExecuteTime": {
     "start_time": "2023-04-02T14:25:09.117984Z",
     "end_time": "2023-04-02T14:25:10.156607Z"
    }
   },
   "outputs": [],
   "source": [
    "data_timeperiod = 'D'\n",
    "data = get_data('SPY', period=data_timeperiod, nrows=None)\n",
    "data = procdata_lite(data)"
   ]
  },
  {
   "cell_type": "code",
   "execution_count": null,
   "metadata": {
    "ExecuteTime": {
     "start_time": "2023-04-02T14:25:10.158602Z",
     "end_time": "2023-04-02T14:25:10.265155Z"
    }
   },
   "outputs": [],
   "source": [
    "# for inspectiion\n",
    "print(data.shape)\n",
    "data.head()"
   ]
  },
  {
   "cell_type": "code",
   "execution_count": null,
   "metadata": {
    "ExecuteTime": {
     "start_time": "2023-04-02T14:25:10.266154Z",
     "end_time": "2023-04-02T14:25:10.312330Z"
    }
   },
   "outputs": [],
   "source": [
    "system.train_set_end = 0.6 # percentage point specifying the training set end point (1.0 means all data is training set)\n",
    "system.val_set_end = 1.0   # percentage point specifying the validation set end point (1.0 means no test set)\n",
    "system.balance_data = 1\n",
    "system.scale_data = 1"
   ]
  },
  {
   "cell_type": "markdown",
   "metadata": {},
   "source": [
    "### ------------------------------------------------------------------------------------------------------------"
   ]
  },
  {
   "cell_type": "markdown",
   "metadata": {},
   "source": [
    "### Base classifier test"
   ]
  },
  {
   "cell_type": "code",
   "execution_count": null,
   "metadata": {
    "ExecuteTime": {
     "start_time": "2023-04-02T14:25:10.282411Z",
     "end_time": "2023-04-02T14:25:10.881807Z"
    }
   },
   "outputs": [],
   "source": [
    "# Train LogisticRegression classifier on train data\n",
    "clf, scaler = train_classifier(LogisticRegression, data)"
   ]
  },
  {
   "cell_type": "code",
   "execution_count": null,
   "metadata": {
    "ExecuteTime": {
     "start_time": "2023-04-02T14:25:10.516784Z",
     "end_time": "2023-04-02T14:25:11.483200Z"
    }
   },
   "outputs": [],
   "source": [
    "# Test on val data\n",
    "equity, pf, trades = qbacktest(clf, scaler, data)"
   ]
  },
  {
   "cell_type": "code",
   "execution_count": null,
   "metadata": {
    "ExecuteTime": {
     "start_time": "2023-04-02T14:25:11.484197Z",
     "end_time": "2023-04-02T14:25:11.528080Z"
    }
   },
   "outputs": [],
   "source": [
    "trades.head()"
   ]
  },
  {
   "cell_type": "markdown",
   "metadata": {},
   "source": [
    "### ------------------------------------------------------------------------------------------------------------"
   ]
  },
  {
   "cell_type": "markdown",
   "metadata": {},
   "source": [
    "### LSTM Training"
   ]
  },
  {
   "cell_type": "code",
   "execution_count": null,
   "metadata": {
    "ExecuteTime": {
     "start_time": "2023-04-02T14:25:11.499156Z",
     "end_time": "2023-04-02T14:25:11.579940Z"
    }
   },
   "outputs": [],
   "source": [
    "# This is only to get the data shapes\n",
    "X_train, y_train = get_clean_Xy_3d(data.iloc[0:int(data.shape[0] * system.train_set_end)], window_size=16)\n",
    "X_train.shape, y_train.shape"
   ]
  },
  {
   "cell_type": "code",
   "execution_count": null,
   "metadata": {
    "ExecuteTime": {
     "start_time": "2023-04-02T14:25:11.545034Z",
     "end_time": "2023-04-02T14:25:30.122168Z"
    }
   },
   "outputs": [],
   "source": [
    "clf, scaler = train_classifier(RecurrentNetWrapper, data, time_window_size=X_train.shape[1], # trainer params\n",
    "                               type='lstm', input_dim=X_train.shape[2], window_size=X_train.shape[1],\n",
    "                               num_layers=1, dropout=0.5,\n",
    "                               hidden_dim=32, n_epochs=30, # LSTM params\n",
    "                              )"
   ]
  },
  {
   "cell_type": "code",
   "execution_count": null,
   "metadata": {
    "ExecuteTime": {
     "start_time": "2023-04-02T14:25:30.123165Z",
     "end_time": "2023-04-02T14:25:32.813229Z"
    }
   },
   "outputs": [],
   "source": [
    "# Test on val data\n",
    "*_, trades = qbacktest(clf, scaler, data, window_size=X_train.shape[1])"
   ]
  },
  {
   "cell_type": "code",
   "execution_count": null,
   "metadata": {
    "ExecuteTime": {
     "start_time": "2023-04-02T14:25:32.814226Z",
     "end_time": "2023-04-02T14:25:32.859480Z"
    }
   },
   "outputs": [],
   "source": [
    "trades.head()"
   ]
  },
  {
   "cell_type": "markdown",
   "metadata": {},
   "source": [
    "### ------------------------------------------------------------------------------------------------------------"
   ]
  },
  {
   "cell_type": "markdown",
   "metadata": {},
   "source": [
    "### GRU Training"
   ]
  },
  {
   "cell_type": "code",
   "execution_count": null,
   "metadata": {
    "ExecuteTime": {
     "start_time": "2023-04-02T14:25:32.830557Z",
     "end_time": "2023-04-02T14:25:50.461449Z"
    }
   },
   "outputs": [],
   "source": [
    "clf, scaler = train_classifier(RecurrentNetWrapper, data, time_window_size=X_train.shape[1], # trainer params\n",
    "                               type='gru', input_dim=X_train.shape[2], window_size=X_train.shape[1],\n",
    "                               num_layers=1, dropout=0.5,\n",
    "                               hidden_dim=32, n_epochs=30, # GRU params\n",
    "                              )"
   ]
  },
  {
   "cell_type": "code",
   "execution_count": null,
   "metadata": {
    "ExecuteTime": {
     "start_time": "2023-04-02T14:25:50.463445Z",
     "end_time": "2023-04-02T14:25:53.108918Z"
    }
   },
   "outputs": [],
   "source": [
    "# Test on val data\n",
    "*_, trades = qbacktest(clf, scaler, data, window_size=X_train.shape[1])"
   ]
  },
  {
   "cell_type": "code",
   "execution_count": null,
   "metadata": {
    "ExecuteTime": {
     "start_time": "2023-04-02T14:25:53.107925Z",
     "end_time": "2023-04-02T14:25:53.121883Z"
    }
   },
   "outputs": [],
   "source": [
    "trades.head()"
   ]
  },
  {
   "cell_type": "markdown",
   "metadata": {},
   "source": [
    "### ------------------------------------------------------------------------------------------------------------"
   ]
  },
  {
   "cell_type": "markdown",
   "source": [
    "### RNN Training"
   ],
   "metadata": {
    "collapsed": false
   }
  },
  {
   "cell_type": "code",
   "execution_count": null,
   "outputs": [],
   "source": [
    "clf, scaler = train_classifier(RecurrentNetWrapper, data, time_window_size=X_train.shape[1], # trainer params\n",
    "                               type='rnn', input_dim=X_train.shape[2], window_size=X_train.shape[1],\n",
    "                               num_layers=1, dropout=0.5,\n",
    "                               hidden_dim=32, n_epochs=30, # RNN params\n",
    "                              )"
   ],
   "metadata": {
    "collapsed": false
   }
  },
  {
   "cell_type": "code",
   "execution_count": null,
   "outputs": [],
   "source": [
    "# Test on val data\n",
    "*_, trades = qbacktest(clf, scaler, data, window_size=X_train.shape[1])"
   ],
   "metadata": {
    "collapsed": false,
    "ExecuteTime": {
     "start_time": "2023-04-02T14:26:01.969278Z",
     "end_time": "2023-04-02T14:26:03.761328Z"
    }
   }
  },
  {
   "cell_type": "code",
   "execution_count": null,
   "outputs": [],
   "source": [
    "trades.head()"
   ],
   "metadata": {
    "collapsed": false,
    "ExecuteTime": {
     "start_time": "2023-04-02T14:26:03.746805Z",
     "end_time": "2023-04-02T14:26:03.763366Z"
    }
   }
  },
  {
   "cell_type": "markdown",
   "source": [
    "### ------------------------------------------------------------------------------------------------------------"
   ],
   "metadata": {
    "collapsed": false
   }
  },
  {
   "cell_type": "code",
   "execution_count": null,
   "metadata": {
    "ExecuteTime": {
     "start_time": "2023-04-02T14:26:03.762363Z",
     "end_time": "2023-04-02T14:26:03.777387Z"
    }
   },
   "outputs": [],
   "source": []
  },
  {
   "cell_type": "code",
   "execution_count": null,
   "metadata": {
    "ExecuteTime": {
     "start_time": "2023-04-02T14:26:03.777387Z",
     "end_time": "2023-04-02T14:26:03.837343Z"
    }
   },
   "outputs": [],
   "source": []
  },
  {
   "cell_type": "code",
   "execution_count": null,
   "metadata": {
    "ExecuteTime": {
     "start_time": "2023-04-02T14:26:03.793266Z",
     "end_time": "2023-04-02T14:26:03.840321Z"
    }
   },
   "outputs": [],
   "source": []
  },
  {
   "cell_type": "code",
   "execution_count": null,
   "metadata": {
    "ExecuteTime": {
     "start_time": "2023-04-02T14:26:03.809293Z",
     "end_time": "2023-04-02T14:26:03.853285Z"
    }
   },
   "outputs": [],
   "source": []
  },
  {
   "cell_type": "code",
   "execution_count": null,
   "metadata": {
    "ExecuteTime": {
     "start_time": "2023-04-02T14:26:03.824051Z",
     "end_time": "2023-04-02T14:26:03.853285Z"
    }
   },
   "outputs": [],
   "source": []
  }
 ],
 "metadata": {
  "colab": {
   "provenance": []
  },
  "kernelspec": {
   "display_name": "Python 3 (ipykernel)",
   "language": "python",
   "name": "python3"
  },
  "language_info": {
   "codemirror_mode": {
    "name": "ipython",
    "version": 3
   },
   "file_extension": ".py",
   "mimetype": "text/x-python",
   "name": "python",
   "nbconvert_exporter": "python",
   "pygments_lexer": "ipython3",
   "version": "3.8.10"
  },
  "pycharm": {
   "stem_cell": {
    "cell_type": "raw",
    "metadata": {
     "collapsed": false
    },
    "source": []
   }
  },
  "toc": {
   "base_numbering": 1,
   "nav_menu": {},
   "number_sections": true,
   "sideBar": true,
   "skip_h1_title": false,
   "title_cell": "Table of Contents",
   "title_sidebar": "Contents",
   "toc_cell": false,
   "toc_position": {
    "height": "calc(100% - 180px)",
    "left": "10px",
    "top": "150px",
    "width": "165px"
   },
   "toc_section_display": true,
   "toc_window_display": true
  }
 },
 "nbformat": 4,
 "nbformat_minor": 1
}
