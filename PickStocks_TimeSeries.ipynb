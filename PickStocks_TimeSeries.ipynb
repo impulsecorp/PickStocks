{
 "cells": [
  {
   "cell_type": "markdown",
   "metadata": {},
   "source": [
    "### ------------------------------------------------------------------------------------------------------------"
   ]
  },
  {
   "cell_type": "code",
   "execution_count": null,
   "metadata": {
    "ExecuteTime": {
     "start_time": "2023-04-02T13:37:56.967938Z",
     "end_time": "2023-04-02T13:37:57.297136Z"
    },
    "id": "LTSDSXZTURm5"
   },
   "outputs": [],
   "source": [
    "import os\n",
    "\n",
    "import pandas as pd\n",
    "\n",
    "if 'COLAB_GPU' in os.environ:\n",
    "    !git clone https://github.com/impulsecorp/PickStocks.git\n",
    "    !mv PickStocks/*.py .\n",
    "    !mv PickStocks/data .\n",
    "    !pip install -U -qq -r PickStocks/requirements.txt"
   ]
  },
  {
   "cell_type": "code",
   "execution_count": null,
   "metadata": {
    "ExecuteTime": {
     "start_time": "2023-04-02T13:37:57.298134Z",
     "end_time": "2023-04-02T13:37:59.097709Z"
    },
    "id": "rqKDcXZB4tNG"
   },
   "outputs": [],
   "source": [
    "import warnings\n",
    "warnings.filterwarnings(\"ignore\")\n",
    "import system\n",
    "from system import *\n",
    "# small hack to prevent Colab error\n",
    "try:\n",
    "    from datablock import *\n",
    "except:\n",
    "    from datablock import *\n",
    "seed"
   ]
  },
  {
   "cell_type": "code",
   "execution_count": null,
   "metadata": {
    "ExecuteTime": {
     "start_time": "2023-04-02T13:37:59.098706Z",
     "end_time": "2023-04-02T13:37:59.143615Z"
    }
   },
   "outputs": [],
   "source": [
    "%pylab inline"
   ]
  },
  {
   "cell_type": "markdown",
   "metadata": {},
   "source": [
    "### Setup"
   ]
  },
  {
   "cell_type": "code",
   "execution_count": null,
   "metadata": {
    "ExecuteTime": {
     "start_time": "2023-04-02T13:37:59.114664Z",
     "end_time": "2023-04-02T13:38:00.111000Z"
    }
   },
   "outputs": [],
   "source": [
    "data_timeperiod = 'D'\n",
    "data = get_data('SPY', period=data_timeperiod, nrows=None)\n",
    "data = procdata_lite(data)"
   ]
  },
  {
   "cell_type": "code",
   "execution_count": null,
   "metadata": {
    "ExecuteTime": {
     "start_time": "2023-04-02T13:38:00.107010Z",
     "end_time": "2023-04-02T13:38:00.214722Z"
    }
   },
   "outputs": [],
   "source": [
    "# for inspectiion\n",
    "print(data.shape)\n",
    "data.head()"
   ]
  },
  {
   "cell_type": "code",
   "execution_count": null,
   "metadata": {
    "ExecuteTime": {
     "start_time": "2023-04-02T13:38:00.215719Z",
     "end_time": "2023-04-02T13:38:00.260600Z"
    }
   },
   "outputs": [],
   "source": [
    "system.train_set_end = 0.6 # percentage point specifying the training set end point (1.0 means all data is training set)\n",
    "system.val_set_end = 1.0   # percentage point specifying the validation set end point (1.0 means no test set)\n",
    "system.balance_data = 1\n",
    "system.scale_data = 1"
   ]
  },
  {
   "cell_type": "markdown",
   "metadata": {},
   "source": [
    "### ------------------------------------------------------------------------------------------------------------"
   ]
  },
  {
   "cell_type": "markdown",
   "metadata": {},
   "source": [
    "### Base classifier test"
   ]
  },
  {
   "cell_type": "code",
   "execution_count": null,
   "metadata": {
    "ExecuteTime": {
     "start_time": "2023-04-02T13:38:00.231676Z",
     "end_time": "2023-04-02T13:38:01.354545Z"
    }
   },
   "outputs": [],
   "source": [
    "# Train LogisticRegression classifier on train data\n",
    "clf, scaler = train_classifier(LogisticRegression, data)"
   ]
  },
  {
   "cell_type": "code",
   "execution_count": null,
   "metadata": {
    "ExecuteTime": {
     "start_time": "2023-04-02T13:38:00.466050Z",
     "end_time": "2023-04-02T13:38:01.401426Z"
    }
   },
   "outputs": [],
   "source": [
    "# Test on val data\n",
    "equity, pf, trades = qbacktest(clf, scaler, data)"
   ]
  },
  {
   "cell_type": "code",
   "execution_count": null,
   "metadata": {
    "ExecuteTime": {
     "start_time": "2023-04-02T13:38:01.406413Z",
     "end_time": "2023-04-02T13:38:01.461393Z"
    }
   },
   "outputs": [],
   "source": [
    "trades.head()"
   ]
  },
  {
   "cell_type": "markdown",
   "metadata": {},
   "source": [
    "### ------------------------------------------------------------------------------------------------------------"
   ]
  },
  {
   "cell_type": "markdown",
   "metadata": {},
   "source": [
    "### LSTM Training"
   ]
  },
  {
   "cell_type": "code",
   "execution_count": null,
   "metadata": {
    "ExecuteTime": {
     "start_time": "2023-04-02T13:38:01.416386Z",
     "end_time": "2023-04-02T13:38:01.521233Z"
    }
   },
   "outputs": [],
   "source": [
    "# This is only to get the data shapes\n",
    "X_train, y_train = get_clean_Xy_3d(data.iloc[0:int(data.shape[0] * system.train_set_end)], window_size=16)\n",
    "X_train.shape, y_train.shape"
   ]
  },
  {
   "cell_type": "code",
   "execution_count": null,
   "metadata": {
    "ExecuteTime": {
     "start_time": "2023-04-02T13:38:01.463388Z",
     "end_time": "2023-04-02T13:38:34.148279Z"
    }
   },
   "outputs": [],
   "source": [
    "clf, scaler = train_classifier(RecurrentNetWrapper, data, time_window_size=X_train.shape[1], # trainer params\n",
    "                               type='lstm', input_dim=X_train.shape[2], window_size=X_train.shape[1], hidden_dim=32, n_epochs=30, # LSTM params\n",
    "                              )"
   ]
  },
  {
   "cell_type": "code",
   "execution_count": null,
   "metadata": {
    "ExecuteTime": {
     "start_time": "2023-04-02T13:38:34.149278Z",
     "end_time": "2023-04-02T13:38:37.976767Z"
    }
   },
   "outputs": [],
   "source": [
    "# Test on val data\n",
    "*_, trades = qbacktest(clf, scaler, data, window_size=X_train.shape[1])"
   ]
  },
  {
   "cell_type": "code",
   "execution_count": null,
   "metadata": {
    "ExecuteTime": {
     "start_time": "2023-04-02T13:38:37.976767Z",
     "end_time": "2023-04-02T13:38:38.037763Z"
    }
   },
   "outputs": [],
   "source": [
    "trades.head()"
   ]
  },
  {
   "cell_type": "markdown",
   "metadata": {},
   "source": [
    "### ------------------------------------------------------------------------------------------------------------"
   ]
  },
  {
   "cell_type": "markdown",
   "metadata": {},
   "source": [
    "### GRU Training"
   ]
  },
  {
   "cell_type": "code",
   "execution_count": null,
   "metadata": {
    "ExecuteTime": {
     "start_time": "2023-04-02T13:38:37.994721Z",
     "end_time": "2023-04-02T13:39:09.420542Z"
    }
   },
   "outputs": [],
   "source": [
    "clf, scaler = train_classifier(RecurrentNetWrapper, data, time_window_size=X_train.shape[1], # trainer params\n",
    "                               type='gru', input_dim=X_train.shape[2], window_size=X_train.shape[1], hidden_dim=32, n_epochs=30, # GRU params\n",
    "                              )"
   ]
  },
  {
   "cell_type": "code",
   "execution_count": null,
   "metadata": {
    "ExecuteTime": {
     "start_time": "2023-04-02T13:39:09.421541Z",
     "end_time": "2023-04-02T13:39:13.340595Z"
    }
   },
   "outputs": [],
   "source": [
    "# Test on val data\n",
    "*_, trades = qbacktest(clf, scaler, data, window_size=X_train.shape[1])"
   ]
  },
  {
   "cell_type": "code",
   "execution_count": null,
   "metadata": {
    "ExecuteTime": {
     "start_time": "2023-04-02T13:39:13.346580Z",
     "end_time": "2023-04-02T13:39:13.399441Z"
    }
   },
   "outputs": [],
   "source": [
    "trades.head()"
   ]
  },
  {
   "cell_type": "markdown",
   "metadata": {},
   "source": [
    "### ------------------------------------------------------------------------------------------------------------"
   ]
  },
  {
   "cell_type": "markdown",
   "source": [
    "### RNN Training"
   ],
   "metadata": {
    "collapsed": false
   }
  },
  {
   "cell_type": "code",
   "execution_count": null,
   "outputs": [],
   "source": [
    "clf, scaler = train_classifier(RecurrentNetWrapper, data, time_window_size=X_train.shape[1], # trainer params\n",
    "                               type='rnn', input_dim=X_train.shape[2], window_size=X_train.shape[1], hidden_dim=32, n_epochs=30, # RNN params\n",
    "                              )"
   ],
   "metadata": {
    "collapsed": false,
    "ExecuteTime": {
     "start_time": "2023-04-02T13:39:13.356555Z",
     "end_time": "2023-04-02T13:39:27.635589Z"
    }
   }
  },
  {
   "cell_type": "code",
   "execution_count": null,
   "outputs": [],
   "source": [
    "# Test on val data\n",
    "*_, trades = qbacktest(clf, scaler, data, window_size=X_train.shape[1])"
   ],
   "metadata": {
    "collapsed": false,
    "ExecuteTime": {
     "start_time": "2023-04-02T13:39:27.636587Z",
     "end_time": "2023-04-02T13:39:29.839772Z"
    }
   }
  },
  {
   "cell_type": "code",
   "execution_count": null,
   "outputs": [],
   "source": [
    "trades.head()"
   ],
   "metadata": {
    "collapsed": false,
    "ExecuteTime": {
     "start_time": "2023-04-02T13:39:47.288581Z",
     "end_time": "2023-04-02T13:39:47.316534Z"
    }
   }
  },
  {
   "cell_type": "markdown",
   "source": [
    "### ------------------------------------------------------------------------------------------------------------"
   ],
   "metadata": {
    "collapsed": false
   }
  },
  {
   "cell_type": "code",
   "execution_count": null,
   "metadata": {
    "ExecuteTime": {
     "start_time": "2023-04-02T13:39:29.855764Z",
     "end_time": "2023-04-02T13:39:29.893770Z"
    }
   },
   "outputs": [],
   "source": []
  },
  {
   "cell_type": "code",
   "execution_count": null,
   "metadata": {
    "ExecuteTime": {
     "start_time": "2023-04-02T13:39:29.870724Z",
     "end_time": "2023-04-02T13:39:29.916022Z"
    }
   },
   "outputs": [],
   "source": []
  },
  {
   "cell_type": "code",
   "execution_count": null,
   "metadata": {
    "ExecuteTime": {
     "start_time": "2023-04-02T13:39:29.887757Z",
     "end_time": "2023-04-02T13:39:29.937995Z"
    }
   },
   "outputs": [],
   "source": []
  },
  {
   "cell_type": "code",
   "execution_count": null,
   "metadata": {
    "ExecuteTime": {
     "start_time": "2023-04-02T13:39:29.902748Z",
     "end_time": "2023-04-02T13:39:29.963958Z"
    }
   },
   "outputs": [],
   "source": []
  },
  {
   "cell_type": "code",
   "execution_count": null,
   "metadata": {
    "ExecuteTime": {
     "start_time": "2023-04-02T13:39:29.918046Z",
     "end_time": "2023-04-02T13:39:29.972905Z"
    }
   },
   "outputs": [],
   "source": []
  }
 ],
 "metadata": {
  "colab": {
   "provenance": []
  },
  "kernelspec": {
   "display_name": "Python 3 (ipykernel)",
   "language": "python",
   "name": "python3"
  },
  "language_info": {
   "codemirror_mode": {
    "name": "ipython",
    "version": 3
   },
   "file_extension": ".py",
   "mimetype": "text/x-python",
   "name": "python",
   "nbconvert_exporter": "python",
   "pygments_lexer": "ipython3",
   "version": "3.8.10"
  },
  "pycharm": {
   "stem_cell": {
    "cell_type": "raw",
    "metadata": {
     "collapsed": false
    },
    "source": []
   }
  },
  "toc": {
   "base_numbering": 1,
   "nav_menu": {},
   "number_sections": true,
   "sideBar": true,
   "skip_h1_title": false,
   "title_cell": "Table of Contents",
   "title_sidebar": "Contents",
   "toc_cell": false,
   "toc_position": {
    "height": "calc(100% - 180px)",
    "left": "10px",
    "top": "150px",
    "width": "165px"
   },
   "toc_section_display": true,
   "toc_window_display": true
  }
 },
 "nbformat": 4,
 "nbformat_minor": 1
}
