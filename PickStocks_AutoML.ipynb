{
 "cells": [
  {
   "cell_type": "markdown",
   "metadata": {},
   "source": [
    "### ------------------------------------------------------------------------------------------------------------"
   ]
  },
  {
   "cell_type": "code",
   "execution_count": null,
   "metadata": {
    "id": "LTSDSXZTURm5",
    "ExecuteTime": {
     "start_time": "2023-04-08T12:35:54.655469Z",
     "end_time": "2023-04-08T12:35:55.007523Z"
    }
   },
   "outputs": [],
   "source": [
    "import os\n",
    "\n",
    "import pandas as pd\n",
    "\n",
    "if 'COLAB_GPU' in os.environ:\n",
    "    !git clone https://github.com/impulsecorp/PickStocks.git\n",
    "    !mv PickStocks/*.py .\n",
    "    !mv PickStocks/data .\n",
    "    !pip install -U -qq -r PickStocks/requirements.txt\n",
    "    !pip install -qq autogluon\n",
    "    !pip install Pillow==9.0.0"
   ]
  },
  {
   "cell_type": "code",
   "execution_count": null,
   "metadata": {
    "id": "rqKDcXZB4tNG",
    "ExecuteTime": {
     "start_time": "2023-04-08T12:35:55.008520Z",
     "end_time": "2023-04-08T12:35:57.854797Z"
    }
   },
   "outputs": [],
   "source": [
    "import warnings\n",
    "warnings.filterwarnings(\"ignore\")\n",
    "import system\n",
    "from system import *\n",
    "# small hack to prevent Colab error\n",
    "try:\n",
    "    from datablock import *\n",
    "except:\n",
    "    from datablock import *\n",
    "from autogluon.tabular import TabularDataset, TabularPredictor\n",
    "seed"
   ]
  },
  {
   "cell_type": "code",
   "execution_count": null,
   "metadata": {
    "ExecuteTime": {
     "start_time": "2023-04-08T12:35:57.854797Z",
     "end_time": "2023-04-08T12:35:57.869758Z"
    }
   },
   "outputs": [],
   "source": [
    "%pylab inline"
   ]
  },
  {
   "cell_type": "markdown",
   "metadata": {},
   "source": [
    "### Setup"
   ]
  },
  {
   "cell_type": "code",
   "execution_count": null,
   "metadata": {
    "ExecuteTime": {
     "start_time": "2023-04-08T12:35:57.870756Z",
     "end_time": "2023-04-08T12:35:58.877064Z"
    }
   },
   "outputs": [],
   "source": [
    "data_timeperiod = 'D'\n",
    "data = get_data('SPY', period=data_timeperiod, nrows=None)\n",
    "data = procdata_lite(data)"
   ]
  },
  {
   "cell_type": "code",
   "execution_count": null,
   "metadata": {
    "ExecuteTime": {
     "start_time": "2023-04-08T12:35:58.877064Z",
     "end_time": "2023-04-08T12:35:58.984776Z"
    }
   },
   "outputs": [],
   "source": [
    "# for inspectiion\n",
    "print(data.shape)\n",
    "data.head()"
   ]
  },
  {
   "cell_type": "code",
   "execution_count": null,
   "metadata": {
    "ExecuteTime": {
     "start_time": "2023-04-08T12:35:58.984776Z",
     "end_time": "2023-04-08T12:35:59.030653Z"
    }
   },
   "outputs": [],
   "source": [
    "system.train_set_end = 0.7 # percentage point specifying the training set end point (1.0 means all data is training set)\n",
    "system.val_set_end = 1.0    # percentage point specifying the validation set end point (1.0 means no test set)\n",
    "system.balance_data = 1\n",
    "system.scale_data = 1"
   ]
  },
  {
   "cell_type": "markdown",
   "metadata": {},
   "source": [
    "### ------------------------------------------------------------------------------------------------------------"
   ]
  },
  {
   "cell_type": "markdown",
   "metadata": {},
   "source": [
    "### Base classifier test"
   ]
  },
  {
   "cell_type": "code",
   "execution_count": null,
   "metadata": {
    "ExecuteTime": {
     "start_time": "2023-04-08T12:35:59.001732Z",
     "end_time": "2023-04-08T12:35:59.779651Z"
    }
   },
   "outputs": [],
   "source": [
    "# Train LogisticRegression classifier on train data\n",
    "clf, scaler = train_classifier(LogisticRegression, data)"
   ]
  },
  {
   "cell_type": "code",
   "execution_count": null,
   "metadata": {
    "ExecuteTime": {
     "start_time": "2023-04-08T12:35:59.266025Z",
     "end_time": "2023-04-08T12:36:00.287293Z"
    }
   },
   "outputs": [],
   "source": [
    "# Test on val data\n",
    "equity, pf, trades = qbacktest(clf, scaler, data)"
   ]
  },
  {
   "cell_type": "code",
   "execution_count": null,
   "metadata": {
    "ExecuteTime": {
     "start_time": "2023-04-08T12:36:00.010034Z",
     "end_time": "2023-04-08T12:36:00.287293Z"
    }
   },
   "outputs": [],
   "source": [
    "trades.head()"
   ]
  },
  {
   "cell_type": "markdown",
   "metadata": {},
   "source": [
    "### ------------------------------------------------------------------------------------------------------------"
   ]
  },
  {
   "cell_type": "markdown",
   "metadata": {},
   "source": [
    "### AutoGluon"
   ]
  },
  {
   "cell_type": "code",
   "execution_count": null,
   "metadata": {
    "ExecuteTime": {
     "start_time": "2023-04-08T12:36:00.025992Z",
     "end_time": "2023-04-08T12:36:38.738761Z"
    }
   },
   "outputs": [],
   "source": [
    "# Train AutoGluon on train data\n",
    "X_train, y_train = get_clean_Xy(data.iloc[0:int(data.shape[0] * system.train_set_end)])\n",
    "scaler = StandardScaler()\n",
    "if system.scale_data:\n",
    "    X_train = scaler.fit_transform(X_train)\n",
    "if system.balance_data:\n",
    "    # Apply SMOTE oversampling to balance the training data\n",
    "    sm = SMOTE(random_state=newseed())\n",
    "    X_train, y_train = sm.fit_resample(X_train, y_train)\n",
    "xtd = pd.DataFrame(X_train)\n",
    "xtd['target'] = y_train\n",
    "clf = TabularPredictor(label='target').fit(xtd)"
   ]
  },
  {
   "cell_type": "code",
   "execution_count": null,
   "metadata": {
    "ExecuteTime": {
     "start_time": "2023-04-08T12:36:38.730781Z",
     "end_time": "2023-04-08T12:39:41.014959Z"
    }
   },
   "outputs": [],
   "source": [
    "# Test on val data\n",
    "equity, pf, trades = qbacktest(clf, scaler, data)"
   ]
  },
  {
   "cell_type": "code",
   "execution_count": null,
   "metadata": {
    "ExecuteTime": {
     "start_time": "2023-04-08T12:39:41.019947Z",
     "end_time": "2023-04-08T12:39:41.077791Z"
    }
   },
   "outputs": [],
   "source": [
    "trades.head()"
   ]
  },
  {
   "cell_type": "markdown",
   "metadata": {},
   "source": [
    "### ------------------------------------------------------------------------------------------------------------"
   ]
  },
  {
   "cell_type": "code",
   "execution_count": null,
   "metadata": {
    "ExecuteTime": {
     "start_time": "2023-04-08T12:39:41.031914Z",
     "end_time": "2023-04-08T12:39:41.084773Z"
    }
   },
   "outputs": [],
   "source": []
  },
  {
   "cell_type": "code",
   "execution_count": null,
   "metadata": {
    "ExecuteTime": {
     "start_time": "2023-04-08T12:39:41.046874Z",
     "end_time": "2023-04-08T12:39:41.084773Z"
    }
   },
   "outputs": [],
   "source": []
  },
  {
   "cell_type": "code",
   "execution_count": null,
   "metadata": {
    "ExecuteTime": {
     "start_time": "2023-04-08T12:39:41.063828Z",
     "end_time": "2023-04-08T12:39:41.109706Z"
    }
   },
   "outputs": [],
   "source": []
  },
  {
   "cell_type": "code",
   "execution_count": null,
   "metadata": {
    "ExecuteTime": {
     "start_time": "2023-04-08T12:39:41.079787Z",
     "end_time": "2023-04-08T12:39:41.137631Z"
    }
   },
   "outputs": [],
   "source": []
  },
  {
   "cell_type": "code",
   "execution_count": null,
   "metadata": {
    "ExecuteTime": {
     "start_time": "2023-04-08T12:39:41.095743Z",
     "end_time": "2023-04-08T12:39:41.158575Z"
    }
   },
   "outputs": [],
   "source": []
  },
  {
   "cell_type": "code",
   "execution_count": null,
   "metadata": {
    "ExecuteTime": {
     "start_time": "2023-04-08T12:39:41.111702Z",
     "end_time": "2023-04-08T12:39:41.158575Z"
    }
   },
   "outputs": [],
   "source": []
  }
 ],
 "metadata": {
  "colab": {
   "provenance": []
  },
  "kernelspec": {
   "display_name": "Python 3 (ipykernel)",
   "language": "python",
   "name": "python3"
  },
  "language_info": {
   "codemirror_mode": {
    "name": "ipython",
    "version": 3
   },
   "file_extension": ".py",
   "mimetype": "text/x-python",
   "name": "python",
   "nbconvert_exporter": "python",
   "pygments_lexer": "ipython3",
   "version": "3.8.10"
  },
  "pycharm": {
   "stem_cell": {
    "cell_type": "raw",
    "metadata": {
     "collapsed": false
    },
    "source": []
   }
  },
  "toc": {
   "base_numbering": 1,
   "nav_menu": {},
   "number_sections": true,
   "sideBar": true,
   "skip_h1_title": false,
   "title_cell": "Table of Contents",
   "title_sidebar": "Contents",
   "toc_cell": false,
   "toc_position": {
    "height": "calc(100% - 180px)",
    "left": "10px",
    "top": "150px",
    "width": "165px"
   },
   "toc_section_display": true,
   "toc_window_display": true
  }
 },
 "nbformat": 4,
 "nbformat_minor": 1
}
