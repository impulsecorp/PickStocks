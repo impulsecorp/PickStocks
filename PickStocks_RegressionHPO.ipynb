{
 "cells": [
  {
   "cell_type": "markdown",
   "metadata": {},
   "source": [
    "### ------------------------------------------------------------------------------------------------------------"
   ]
  },
  {
   "cell_type": "code",
   "execution_count": null,
   "metadata": {
    "id": "LTSDSXZTURm5",
    "ExecuteTime": {
     "start_time": "2023-04-01T12:07:58.656039Z",
     "end_time": "2023-04-01T12:08:01.219186Z"
    }
   },
   "outputs": [],
   "source": [
    "import os\n",
    "\n",
    "if 'COLAB_GPU' in os.environ:\n",
    "    !git clone https://github.com/impulsecorp/PickStocks.git\n",
    "    !mv PickStocks/*.py .\n",
    "    !mv PickStocks/data .\n",
    "    !pip install -U -qq -r PickStocks/requirements.txt"
   ]
  },
  {
   "cell_type": "code",
   "execution_count": null,
   "metadata": {
    "id": "rqKDcXZB4tNG",
    "ExecuteTime": {
     "start_time": "2023-04-01T12:07:58.665015Z",
     "end_time": "2023-04-01T12:08:06.800264Z"
    }
   },
   "outputs": [],
   "source": [
    "import warnings\n",
    "warnings.filterwarnings(\"ignore\")\n",
    "import system\n",
    "from system import *\n",
    "# small hack to prevent Colab error\n",
    "try:\n",
    "    from datablock import *\n",
    "except:\n",
    "    from datablock import *\n",
    "seed"
   ]
  },
  {
   "cell_type": "code",
   "execution_count": null,
   "metadata": {
    "ExecuteTime": {
     "start_time": "2023-04-01T12:08:06.802260Z",
     "end_time": "2023-04-01T12:08:06.870077Z"
    }
   },
   "outputs": [],
   "source": [
    "%pylab inline"
   ]
  },
  {
   "cell_type": "markdown",
   "metadata": {},
   "source": [
    "### Setup"
   ]
  },
  {
   "cell_type": "code",
   "execution_count": null,
   "metadata": {
    "ExecuteTime": {
     "start_time": "2023-04-01T12:08:06.830185Z",
     "end_time": "2023-04-01T12:08:08.394003Z"
    }
   },
   "outputs": [],
   "source": [
    "data_timeperiod = 'D'\n",
    "data = get_data('SPY', period=data_timeperiod, nrows=None)\n",
    "data = procdata_lite(data)"
   ]
  },
  {
   "cell_type": "code",
   "execution_count": null,
   "metadata": {
    "ExecuteTime": {
     "start_time": "2023-04-01T12:08:08.396995Z",
     "end_time": "2023-04-01T12:08:08.547593Z"
    }
   },
   "outputs": [],
   "source": [
    "# for inspectiion\n",
    "print(data.shape)\n",
    "data.head()"
   ]
  },
  {
   "cell_type": "code",
   "execution_count": null,
   "outputs": [],
   "source": [
    "system.regression = 1 # don't change this"
   ],
   "metadata": {
    "collapsed": false,
    "ExecuteTime": {
     "start_time": "2023-04-01T12:08:08.537620Z",
     "end_time": "2023-04-01T12:08:08.553577Z"
    }
   }
  },
  {
   "cell_type": "code",
   "execution_count": null,
   "outputs": [],
   "source": [
    "system.train_set_end = 0.7 # percentage point specifying the training set end point (1.0 means all data is training set)\n",
    "system.val_set_end = 1.0    # percentage point specifying the validation set end point (1.0 means no test set)\n",
    "system.regression_move_threshold = 2.5 # emits a trade order if the predicted move is bigger than this"
   ],
   "metadata": {
    "collapsed": false,
    "ExecuteTime": {
     "start_time": "2023-04-01T12:08:08.553577Z",
     "end_time": "2023-04-01T12:08:08.639348Z"
    }
   }
  },
  {
   "cell_type": "markdown",
   "metadata": {},
   "source": [
    "### ------------------------------------------------------------------------------------------------------------"
   ]
  },
  {
   "cell_type": "markdown",
   "metadata": {},
   "source": [
    "### LinearRegression"
   ]
  },
  {
   "cell_type": "code",
   "execution_count": null,
   "metadata": {
    "ExecuteTime": {
     "start_time": "2023-04-01T12:08:08.566542Z",
     "end_time": "2023-04-01T12:08:08.856766Z"
    }
   },
   "outputs": [],
   "source": [
    "# Train LogisticRegression classifier on train data\n",
    "reg, scaler = train_regressor(LinearRegression, data)"
   ]
  },
  {
   "cell_type": "code",
   "execution_count": null,
   "metadata": {
    "ExecuteTime": {
     "start_time": "2023-04-01T12:08:08.672259Z",
     "end_time": "2023-04-01T12:08:10.432555Z"
    }
   },
   "outputs": [],
   "source": [
    "# Test on val data\n",
    "*_, trades = rbacktest(reg, scaler, data)"
   ]
  },
  {
   "cell_type": "code",
   "execution_count": null,
   "metadata": {
    "ExecuteTime": {
     "start_time": "2023-04-01T12:08:10.433551Z",
     "end_time": "2023-04-01T12:08:10.501370Z"
    }
   },
   "outputs": [],
   "source": [
    "trades.head()"
   ]
  },
  {
   "cell_type": "markdown",
   "metadata": {},
   "source": [
    "### LinearRegression + HPO"
   ]
  },
  {
   "cell_type": "code",
   "execution_count": null,
   "metadata": {
    "ExecuteTime": {
     "start_time": "2023-04-01T12:08:10.464468Z",
     "end_time": "2023-04-01T12:08:11.509674Z"
    }
   },
   "outputs": [],
   "source": [
    "# Train LinearRegression on train data, but optimize it with HPO first\n",
    "\n",
    "X_train, y_train = get_clean_Xy(data.iloc[0:int(data.shape[0] * system.train_set_end)])\n",
    "scaler = StandardScaler()\n",
    "X_train = scaler.fit_transform(X_train)\n",
    "best_hyperparams = optimize_model(LinearRegression, 'LinearRegression', {\"fit_intercept\": hp.choice(\"fit_intercept\", (True, False))},\n",
    "                                  X_train, y_train, max_evals=100)\n",
    "reg, scaler = train_regressor(LinearRegression, data, **best_hyperparams)"
   ]
  },
  {
   "cell_type": "code",
   "execution_count": null,
   "metadata": {
    "ExecuteTime": {
     "start_time": "2023-04-01T12:08:11.505685Z",
     "end_time": "2023-04-01T12:08:12.953813Z"
    }
   },
   "outputs": [],
   "source": [
    "# Test on val data\n",
    "*_, trades = rbacktest(reg, scaler, data)"
   ]
  },
  {
   "cell_type": "code",
   "execution_count": null,
   "metadata": {
    "ExecuteTime": {
     "start_time": "2023-04-01T12:08:12.883999Z",
     "end_time": "2023-04-01T12:08:12.954809Z"
    }
   },
   "outputs": [],
   "source": [
    "trades.head()"
   ]
  },
  {
   "cell_type": "markdown",
   "metadata": {},
   "source": [
    "### ------------------------------------------------------------------------------------------------------------"
   ]
  },
  {
   "cell_type": "markdown",
   "metadata": {},
   "source": [
    "### XGBRegressor"
   ]
  },
  {
   "cell_type": "code",
   "execution_count": null,
   "metadata": {
    "ExecuteTime": {
     "start_time": "2023-04-01T12:08:12.902948Z",
     "end_time": "2023-04-01T12:08:14.214442Z"
    }
   },
   "outputs": [],
   "source": [
    "# Train XGBRegressor on train data\n",
    "reg, scaler = train_regressor(XGBRegressor, data)"
   ]
  },
  {
   "cell_type": "code",
   "execution_count": null,
   "metadata": {
    "ExecuteTime": {
     "start_time": "2023-04-01T12:08:14.212447Z",
     "end_time": "2023-04-01T12:08:16.926192Z"
    }
   },
   "outputs": [],
   "source": [
    "# Test on val data\n",
    "*_, trades = rbacktest(reg, scaler, data)"
   ]
  },
  {
   "cell_type": "code",
   "execution_count": null,
   "metadata": {
    "ExecuteTime": {
     "start_time": "2023-04-01T12:08:16.910234Z",
     "end_time": "2023-04-01T12:08:16.926192Z"
    }
   },
   "outputs": [],
   "source": [
    "trades.head()"
   ]
  },
  {
   "cell_type": "markdown",
   "metadata": {},
   "source": [
    "### XGBRegressor + HPO"
   ]
  },
  {
   "cell_type": "code",
   "execution_count": null,
   "metadata": {
    "ExecuteTime": {
     "start_time": "2023-04-01T12:08:16.929184Z",
     "end_time": "2023-04-01T12:08:49.090198Z"
    }
   },
   "outputs": [],
   "source": [
    "# Train XGBRegressor on train data, but optimize it with HPO first\n",
    "\n",
    "X_train, y_train = get_clean_Xy(data.iloc[0:int(data.shape[0] * system.train_set_end)])\n",
    "scaler = StandardScaler()\n",
    "X_train = scaler.fit_transform(X_train)\n",
    "best_hyperparams = optimize_model(XGBRegressor, 'XGBRegressor',\n",
    "                                  {\"n_estimators\": hp.choice(\"n_estimators\", range(5, 201)),\n",
    "                                   \"learning_rate\": hp.loguniform(\"learning_rate\", -5, 0), \"max_depth\": hp.choice(\"max_depth\", range(2, 11))},\n",
    "                                  X_train, y_train, max_evals=10)\n",
    "reg, scaler = train_regressor(XGBRegressor, data, **best_hyperparams)"
   ]
  },
  {
   "cell_type": "code",
   "execution_count": null,
   "metadata": {
    "ExecuteTime": {
     "start_time": "2023-04-01T12:08:49.089201Z",
     "end_time": "2023-04-01T12:08:51.279345Z"
    }
   },
   "outputs": [],
   "source": [
    "# Test on val data\n",
    "*_, trades = rbacktest(reg, scaler, data)"
   ]
  },
  {
   "cell_type": "code",
   "execution_count": null,
   "metadata": {
    "ExecuteTime": {
     "start_time": "2023-04-01T12:08:51.236460Z",
     "end_time": "2023-04-01T12:08:51.279345Z"
    }
   },
   "outputs": [],
   "source": [
    "trades.head()"
   ]
  },
  {
   "cell_type": "markdown",
   "metadata": {},
   "source": [
    "### ------------------------------------------------------------------------------------------------------------"
   ]
  },
  {
   "cell_type": "markdown",
   "metadata": {},
   "source": [
    "### LGBMRegressor"
   ]
  },
  {
   "cell_type": "code",
   "execution_count": null,
   "metadata": {
    "ExecuteTime": {
     "start_time": "2023-04-01T12:08:51.255409Z",
     "end_time": "2023-04-01T12:08:57.425912Z"
    }
   },
   "outputs": [],
   "source": [
    "# Train LGBMRegressor on train data\n",
    "reg, scaler = train_regressor(LGBMRegressor, data)"
   ]
  },
  {
   "cell_type": "code",
   "execution_count": null,
   "metadata": {
    "ExecuteTime": {
     "start_time": "2023-04-01T12:08:57.411949Z",
     "end_time": "2023-04-01T12:09:02.203145Z"
    }
   },
   "outputs": [],
   "source": [
    "# Test on val data\n",
    "*_, trades = rbacktest(reg, scaler, data)"
   ]
  },
  {
   "cell_type": "code",
   "execution_count": null,
   "metadata": {
    "ExecuteTime": {
     "start_time": "2023-04-01T12:09:02.158260Z",
     "end_time": "2023-04-01T12:09:02.203145Z"
    }
   },
   "outputs": [],
   "source": [
    "trades.head()"
   ]
  },
  {
   "cell_type": "markdown",
   "metadata": {},
   "source": [
    "### LGBMRegressor + HPO"
   ]
  },
  {
   "cell_type": "code",
   "execution_count": null,
   "metadata": {
    "ExecuteTime": {
     "start_time": "2023-04-01T12:09:02.193166Z",
     "end_time": "2023-04-01T12:11:49.088955Z"
    }
   },
   "outputs": [],
   "source": [
    "# Train LGBMRegressor on train data, but optimize it with HPO first\n",
    "\n",
    "X_train, y_train = get_clean_Xy(data.iloc[0:int(data.shape[0] * system.train_set_end)])\n",
    "scaler = StandardScaler()\n",
    "X_train = scaler.fit_transform(X_train)\n",
    "best_hyperparams = optimize_model(LGBMRegressor, 'LGBMRegressor',\n",
    "                                  {\"n_estimators\": hp.choice(\"n_estimators\", range(5, 201)),\n",
    "                                  \"learning_rate\": hp.loguniform(\"learning_rate\", -5, 0),\n",
    "                                  \"max_depth\": hp.choice(\"max_depth\", range(2, 11))},\n",
    "                                  X_train, y_train, max_evals=100)\n",
    "reg, scaler = train_regressor(LGBMRegressor, data, **best_hyperparams)"
   ]
  },
  {
   "cell_type": "code",
   "execution_count": null,
   "metadata": {
    "ExecuteTime": {
     "start_time": "2023-04-01T12:11:47.828325Z",
     "end_time": "2023-04-01T12:11:49.088955Z"
    }
   },
   "outputs": [],
   "source": [
    "# Test on val data\n",
    "*_, trades = rbacktest(reg, scaler, data)"
   ]
  },
  {
   "cell_type": "code",
   "execution_count": null,
   "metadata": {
    "ExecuteTime": {
     "start_time": "2023-04-01T12:11:48.901457Z",
     "end_time": "2023-04-01T12:11:49.088955Z"
    }
   },
   "outputs": [],
   "source": [
    "trades.head()"
   ]
  },
  {
   "cell_type": "markdown",
   "metadata": {},
   "source": [
    "### ------------------------------------------------------------------------------------------------------------"
   ]
  },
  {
   "cell_type": "markdown",
   "metadata": {},
   "source": [
    "### RandomForestRegressor"
   ]
  },
  {
   "cell_type": "code",
   "execution_count": null,
   "metadata": {
    "ExecuteTime": {
     "start_time": "2023-04-01T12:11:48.911430Z",
     "end_time": "2023-04-01T12:11:58.664354Z"
    }
   },
   "outputs": [],
   "source": [
    "# Train RandomForestRegressor on train data\n",
    "reg, scaler = train_regressor(RandomForestRegressor, data, n_jobs=-1)"
   ]
  },
  {
   "cell_type": "code",
   "execution_count": null,
   "metadata": {
    "ExecuteTime": {
     "start_time": "2023-04-01T12:11:57.803656Z",
     "end_time": "2023-04-01T12:12:19.079772Z"
    }
   },
   "outputs": [],
   "source": [
    "# Test on val data\n",
    "*_, trades = rbacktest(reg, scaler, data)"
   ]
  },
  {
   "cell_type": "code",
   "execution_count": null,
   "metadata": {
    "ExecuteTime": {
     "start_time": "2023-04-01T12:12:19.080769Z",
     "end_time": "2023-04-01T12:12:19.124652Z"
    }
   },
   "outputs": [],
   "source": [
    "trades.head()"
   ]
  },
  {
   "cell_type": "markdown",
   "metadata": {},
   "source": [
    "### RandomForestRegressor + HPO"
   ]
  },
  {
   "cell_type": "code",
   "execution_count": null,
   "metadata": {
    "ExecuteTime": {
     "start_time": "2023-04-01T12:12:19.096726Z",
     "end_time": "2023-04-01T12:12:56.942543Z"
    }
   },
   "outputs": [],
   "source": [
    "# Train RandomForestRegressor on train data, but optimize it with HPO first\n",
    "\n",
    "X_train, y_train = get_clean_Xy(data.iloc[0:int(data.shape[0] * system.train_set_end)])\n",
    "scaler = StandardScaler()\n",
    "X_train = scaler.fit_transform(X_train)\n",
    "best_hyperparams = optimize_model(RandomForestRegressor, 'RandomForestRegressor',\n",
    "                                  {\"n_estimators\": hp.choice(\"n_estimators\", range(5, 201)),\n",
    "                                   \"max_depth\": hp.choice(\"max_depth\", range(2, 21))},\n",
    "                                  X_train, y_train, max_evals=10, n_jobs=-1)\n",
    "reg, scaler = train_regressor(RandomForestRegressor, data, **best_hyperparams)"
   ]
  },
  {
   "cell_type": "code",
   "execution_count": null,
   "metadata": {
    "ExecuteTime": {
     "start_time": "2023-04-01T12:12:56.943539Z",
     "end_time": "2023-04-01T12:13:09.780221Z"
    }
   },
   "outputs": [],
   "source": [
    "# Test on val data\n",
    "*_, trades = rbacktest(reg, scaler, data)"
   ]
  },
  {
   "cell_type": "code",
   "execution_count": null,
   "metadata": {
    "ExecuteTime": {
     "start_time": "2023-04-01T12:13:09.744316Z",
     "end_time": "2023-04-01T12:13:09.781217Z"
    }
   },
   "outputs": [],
   "source": [
    "trades.head()"
   ]
  },
  {
   "cell_type": "markdown",
   "metadata": {},
   "source": [
    "### ------------------------------------------------------------------------------------------------------------"
   ]
  },
  {
   "cell_type": "markdown",
   "metadata": {},
   "source": [
    "### ExtraTreesRegressor"
   ]
  },
  {
   "cell_type": "code",
   "execution_count": null,
   "metadata": {
    "ExecuteTime": {
     "start_time": "2023-03-31T20:46:19.567242Z",
     "end_time": "2023-03-31T20:46:24.927267Z"
    }
   },
   "outputs": [],
   "source": [
    "# Train ExtraTreesRegressor on train data\n",
    "reg, scaler = train_regressor(ExtraTreesRegressor, data)"
   ]
  },
  {
   "cell_type": "code",
   "execution_count": null,
   "metadata": {
    "ExecuteTime": {
     "start_time": "2023-03-31T20:46:24.928230Z",
     "end_time": "2023-03-31T20:46:34.350457Z"
    }
   },
   "outputs": [],
   "source": [
    "# Test on val data\n",
    "*_, trades = rbacktest(reg, scaler, data)"
   ]
  },
  {
   "cell_type": "code",
   "execution_count": null,
   "metadata": {
    "ExecuteTime": {
     "start_time": "2023-03-31T20:46:34.356443Z",
     "end_time": "2023-03-31T20:46:34.412289Z"
    }
   },
   "outputs": [],
   "source": [
    "trades.head()"
   ]
  },
  {
   "cell_type": "markdown",
   "metadata": {},
   "source": [
    "### ExtraTreesRegressor + HPO"
   ]
  },
  {
   "cell_type": "code",
   "execution_count": null,
   "metadata": {
    "ExecuteTime": {
     "start_time": "2023-03-31T20:46:34.370397Z",
     "end_time": "2023-03-31T20:47:16.678157Z"
    }
   },
   "outputs": [],
   "source": [
    "# Train ExtraTreesRegressor on train data, but optimize it with HPO first\n",
    "\n",
    "X_train, y_train = get_clean_Xy(data.iloc[0:int(data.shape[0] * system.train_set_end)])\n",
    "scaler = StandardScaler()\n",
    "X_train = scaler.fit_transform(X_train)\n",
    "best_hyperparams = optimize_model(ExtraTreesRegressor, 'ExtraTreesRegressor',\n",
    "                                  {\"n_estimators\": hp.choice(\"n_estimators\", range(5, 201)),\n",
    "                                   \"max_depth\": hp.choice(\"max_depth\", range(2, 21))},\n",
    "                                  X_train, y_train, max_evals=50, n_jobs=-1)\n",
    "reg, scaler = train_regressor(ExtraTreesRegressor, data, **best_hyperparams)"
   ]
  },
  {
   "cell_type": "code",
   "execution_count": null,
   "metadata": {
    "ExecuteTime": {
     "start_time": "2023-03-31T20:47:16.679155Z",
     "end_time": "2023-03-31T20:47:35.483468Z"
    }
   },
   "outputs": [],
   "source": [
    "# Test on val data\n",
    "*_, trades = rbacktest(reg, scaler, data)"
   ]
  },
  {
   "cell_type": "code",
   "execution_count": null,
   "metadata": {
    "ExecuteTime": {
     "start_time": "2023-03-31T20:47:35.489452Z",
     "end_time": "2023-03-31T20:47:35.528909Z"
    }
   },
   "outputs": [],
   "source": [
    "trades.head()"
   ]
  },
  {
   "cell_type": "markdown",
   "metadata": {},
   "source": [
    "### ------------------------------------------------------------------------------------------------------------"
   ]
  },
  {
   "cell_type": "markdown",
   "metadata": {},
   "source": [
    "### CatBoostRegressor"
   ]
  },
  {
   "cell_type": "code",
   "execution_count": null,
   "metadata": {
    "ExecuteTime": {
     "start_time": "2023-03-31T20:47:35.501028Z",
     "end_time": "2023-03-31T20:47:39.212383Z"
    }
   },
   "outputs": [],
   "source": [
    "# Train CatBoostRegressor on train data\n",
    "reg, scaler = train_regressor(CatBoostRegressor, data, verbose=False)"
   ]
  },
  {
   "cell_type": "code",
   "execution_count": null,
   "metadata": {
    "ExecuteTime": {
     "start_time": "2023-03-31T20:47:39.213380Z",
     "end_time": "2023-03-31T20:47:41.362268Z"
    }
   },
   "outputs": [],
   "source": [
    "# Test on val data\n",
    "*_, trades = rbacktest(reg, scaler, data)"
   ]
  },
  {
   "cell_type": "code",
   "execution_count": null,
   "metadata": {
    "ExecuteTime": {
     "start_time": "2023-03-31T20:47:41.364264Z",
     "end_time": "2023-03-31T20:47:41.409256Z"
    }
   },
   "outputs": [],
   "source": [
    "trades.head()"
   ]
  },
  {
   "cell_type": "markdown",
   "metadata": {},
   "source": [
    "### CatBoostRegressor + HPO"
   ]
  },
  {
   "cell_type": "code",
   "execution_count": null,
   "metadata": {
    "ExecuteTime": {
     "start_time": "2023-03-31T20:47:41.382302Z",
     "end_time": "2023-03-31T20:48:26.480724Z"
    }
   },
   "outputs": [],
   "source": [
    "# Train CatBoostClassifier classifier on train data, but optimize it with HPO first\n",
    "\n",
    "X_train, y_train = get_clean_Xy(data.iloc[0:int(data.shape[0] * system.train_set_end)])\n",
    "scaler = StandardScaler()\n",
    "X_train = scaler.fit_transform(X_train)\n",
    "best_hyperparams = optimize_model(CatBoostRegressor, 'CatBoostRegressor',\n",
    "                                  {\n",
    "                                    \"iterations\": hp.quniform(\"iterations\", 50, 1200, 1),\n",
    "                                    \"learning_rate\": hp.uniform(\"learning_rate\", 0.01, 0.2),\n",
    "                                    \"depth\": hp.quniform(\"depth\", 4, 10, 1),\n",
    "                                    \"l2_leaf_reg\": hp.uniform(\"l2_leaf_reg\", 1, 10),\n",
    "                                    \"border_count\": hp.quniform(\"border_count\", 128, 256, 1),\n",
    "                                    \"random_strength\": hp.uniform(\"random_strength\", 0.5, 2),\n",
    "                                    \"bagging_temperature\": hp.uniform(\"bagging_temperature\", 0.5, 2),\n",
    "                                },\n",
    "                                  X_train, y_train, max_evals=10, verbose=False)\n",
    "best_hyperparams['verbose'] = False\n",
    "reg, scaler = train_regressor(CatBoostRegressor, data, **best_hyperparams)"
   ]
  },
  {
   "cell_type": "code",
   "execution_count": null,
   "metadata": {
    "ExecuteTime": {
     "start_time": "2023-03-31T20:48:26.481721Z",
     "end_time": "2023-03-31T20:48:28.435000Z"
    }
   },
   "outputs": [],
   "source": [
    "# Test on val data\n",
    "*_, trades = rbacktest(reg, scaler, data)"
   ]
  },
  {
   "cell_type": "code",
   "execution_count": null,
   "metadata": {
    "ExecuteTime": {
     "start_time": "2023-03-31T20:48:28.438012Z",
     "end_time": "2023-03-31T20:48:28.494128Z"
    }
   },
   "outputs": [],
   "source": [
    "trades.head()"
   ]
  },
  {
   "cell_type": "markdown",
   "metadata": {},
   "source": [
    "### ------------------------------------------------------------------------------------------------------------"
   ]
  },
  {
   "cell_type": "code",
   "execution_count": null,
   "metadata": {
    "ExecuteTime": {
     "start_time": "2023-03-31T20:48:28.449966Z",
     "end_time": "2023-03-31T20:48:28.497122Z"
    }
   },
   "outputs": [],
   "source": []
  },
  {
   "cell_type": "code",
   "execution_count": null,
   "metadata": {
    "ExecuteTime": {
     "start_time": "2023-03-31T20:48:28.464926Z",
     "end_time": "2023-03-31T20:48:28.525390Z"
    }
   },
   "outputs": [],
   "source": []
  },
  {
   "cell_type": "code",
   "execution_count": null,
   "metadata": {
    "ExecuteTime": {
     "start_time": "2023-03-31T20:48:28.480929Z",
     "end_time": "2023-03-31T20:48:28.538690Z"
    }
   },
   "outputs": [],
   "source": []
  },
  {
   "cell_type": "code",
   "execution_count": null,
   "metadata": {
    "ExecuteTime": {
     "start_time": "2023-03-31T20:48:28.495128Z",
     "end_time": "2023-03-31T20:48:28.552652Z"
    }
   },
   "outputs": [],
   "source": []
  },
  {
   "cell_type": "code",
   "execution_count": null,
   "metadata": {
    "ExecuteTime": {
     "start_time": "2023-03-31T20:48:28.512229Z",
     "end_time": "2023-03-31T20:48:28.565618Z"
    }
   },
   "outputs": [],
   "source": []
  },
  {
   "cell_type": "code",
   "execution_count": null,
   "metadata": {
    "ExecuteTime": {
     "start_time": "2023-03-31T20:48:28.526256Z",
     "end_time": "2023-03-31T20:48:28.565618Z"
    }
   },
   "outputs": [],
   "source": []
  }
 ],
 "metadata": {
  "colab": {
   "provenance": []
  },
  "kernelspec": {
   "display_name": "Python 3 (ipykernel)",
   "language": "python",
   "name": "python3"
  },
  "language_info": {
   "codemirror_mode": {
    "name": "ipython",
    "version": 3
   },
   "file_extension": ".py",
   "mimetype": "text/x-python",
   "name": "python",
   "nbconvert_exporter": "python",
   "pygments_lexer": "ipython3",
   "version": "3.8.10"
  },
  "pycharm": {
   "stem_cell": {
    "cell_type": "raw",
    "metadata": {
     "collapsed": false
    },
    "source": []
   }
  },
  "toc": {
   "base_numbering": 1,
   "nav_menu": {},
   "number_sections": true,
   "sideBar": true,
   "skip_h1_title": false,
   "title_cell": "Table of Contents",
   "title_sidebar": "Contents",
   "toc_cell": false,
   "toc_position": {
    "height": "calc(100% - 180px)",
    "left": "10px",
    "top": "150px",
    "width": "165px"
   },
   "toc_section_display": true,
   "toc_window_display": true
  }
 },
 "nbformat": 4,
 "nbformat_minor": 1
}
