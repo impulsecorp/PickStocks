{
 "cells": [
  {
   "cell_type": "markdown",
   "metadata": {},
   "source": [
    "### ------------------------------------------------------------------------------------------------------------"
   ]
  },
  {
   "cell_type": "code",
   "execution_count": null,
   "metadata": {
    "id": "LTSDSXZTURm5",
    "ExecuteTime": {
     "start_time": "2023-04-01T12:35:48.724840Z",
     "end_time": "2023-04-01T12:35:49.352162Z"
    }
   },
   "outputs": [],
   "source": [
    "import os\n",
    "\n",
    "if 'COLAB_GPU' in os.environ:\n",
    "    !git clone https://github.com/impulsecorp/PickStocks.git\n",
    "    !mv PickStocks/*.py .\n",
    "    !mv PickStocks/data .\n",
    "    !pip install -U -qq -r PickStocks/requirements.txt"
   ]
  },
  {
   "cell_type": "code",
   "execution_count": null,
   "metadata": {
    "id": "rqKDcXZB4tNG",
    "ExecuteTime": {
     "start_time": "2023-04-01T12:35:48.731820Z",
     "end_time": "2023-04-01T12:35:51.165311Z"
    }
   },
   "outputs": [],
   "source": [
    "import warnings\n",
    "warnings.filterwarnings(\"ignore\")\n",
    "import system\n",
    "from system import *\n",
    "# small hack to prevent Colab error\n",
    "try:\n",
    "    from datablock import *\n",
    "except:\n",
    "    from datablock import *\n",
    "seed"
   ]
  },
  {
   "cell_type": "code",
   "execution_count": null,
   "metadata": {
    "ExecuteTime": {
     "start_time": "2023-04-01T12:35:51.167306Z",
     "end_time": "2023-04-01T12:35:51.210457Z"
    }
   },
   "outputs": [],
   "source": [
    "%pylab inline"
   ]
  },
  {
   "cell_type": "markdown",
   "metadata": {},
   "source": [
    "### Setup"
   ]
  },
  {
   "cell_type": "code",
   "execution_count": null,
   "metadata": {
    "ExecuteTime": {
     "start_time": "2023-04-01T12:35:51.181534Z",
     "end_time": "2023-04-01T12:35:51.690696Z"
    }
   },
   "outputs": [],
   "source": [
    "data_timeperiod = 'D'\n",
    "data = get_data('SPY', period=data_timeperiod, nrows=None)\n",
    "data = procdata_lite(data)"
   ]
  },
  {
   "cell_type": "code",
   "execution_count": null,
   "metadata": {
    "ExecuteTime": {
     "start_time": "2023-04-01T12:35:51.692692Z",
     "end_time": "2023-04-01T12:35:51.753529Z"
    }
   },
   "outputs": [],
   "source": [
    "# for inspectiion\n",
    "print(data.shape)\n",
    "data.head()"
   ]
  },
  {
   "cell_type": "code",
   "execution_count": null,
   "outputs": [],
   "source": [
    "system.regression = 1 # don't change this"
   ],
   "metadata": {
    "collapsed": false,
    "ExecuteTime": {
     "start_time": "2023-04-01T12:35:51.754527Z",
     "end_time": "2023-04-01T12:35:51.799785Z"
    }
   }
  },
  {
   "cell_type": "code",
   "execution_count": null,
   "outputs": [],
   "source": [
    "system.train_set_end = 0.7 # percentage point specifying the training set end point (1.0 means all data is training set)\n",
    "system.val_set_end = 1.0    # percentage point specifying the validation set end point (1.0 means no test set)\n",
    "system.regression_move_threshold = 2.5 # emits a trade order if the predicted move is bigger than this\n",
    "system.scale_data = 1"
   ],
   "metadata": {
    "collapsed": false,
    "ExecuteTime": {
     "start_time": "2023-04-01T12:35:51.769866Z",
     "end_time": "2023-04-01T12:35:51.830702Z"
    }
   }
  },
  {
   "cell_type": "markdown",
   "metadata": {},
   "source": [
    "### ------------------------------------------------------------------------------------------------------------"
   ]
  },
  {
   "cell_type": "markdown",
   "metadata": {},
   "source": [
    "### LinearRegression"
   ]
  },
  {
   "cell_type": "code",
   "execution_count": null,
   "metadata": {
    "ExecuteTime": {
     "start_time": "2023-04-01T12:35:51.785823Z",
     "end_time": "2023-04-01T12:35:51.866607Z"
    }
   },
   "outputs": [],
   "source": [
    "# Train LogisticRegression classifier on train data\n",
    "reg, scaler = train_regressor(LinearRegression, data)"
   ]
  },
  {
   "cell_type": "code",
   "execution_count": null,
   "metadata": {
    "ExecuteTime": {
     "start_time": "2023-04-01T12:35:51.816740Z",
     "end_time": "2023-04-01T12:35:52.470093Z"
    }
   },
   "outputs": [],
   "source": [
    "# Test on val data\n",
    "*_, trades = rbacktest(reg, scaler, data)"
   ]
  },
  {
   "cell_type": "code",
   "execution_count": null,
   "metadata": {
    "ExecuteTime": {
     "start_time": "2023-04-01T12:35:52.471092Z",
     "end_time": "2023-04-01T12:35:52.516968Z"
    }
   },
   "outputs": [],
   "source": [
    "trades.head()"
   ]
  },
  {
   "cell_type": "markdown",
   "metadata": {},
   "source": [
    "### LinearRegression + HPO"
   ]
  },
  {
   "cell_type": "code",
   "execution_count": null,
   "metadata": {
    "ExecuteTime": {
     "start_time": "2023-04-01T12:35:52.488047Z",
     "end_time": "2023-04-01T12:35:54.434513Z"
    }
   },
   "outputs": [],
   "source": [
    "# Train LinearRegression on train data, but optimize it with HPO first\n",
    "\n",
    "X_train, y_train = get_clean_Xy(data.iloc[0:int(data.shape[0] * system.train_set_end)])\n",
    "scaler = StandardScaler()\n",
    "X_train = scaler.fit_transform(X_train)\n",
    "best_hyperparams = optimize_model(LinearRegression, 'LinearRegression', {\"fit_intercept\": hp.choice(\"fit_intercept\", (True, False))},\n",
    "                                  X_train, y_train, max_evals=100)\n",
    "reg, scaler = train_regressor(LinearRegression, data, **best_hyperparams)"
   ]
  },
  {
   "cell_type": "code",
   "execution_count": null,
   "metadata": {
    "ExecuteTime": {
     "start_time": "2023-04-01T12:35:54.427532Z",
     "end_time": "2023-04-01T12:35:55.187500Z"
    }
   },
   "outputs": [],
   "source": [
    "# Test on val data\n",
    "*_, trades = rbacktest(reg, scaler, data)"
   ]
  },
  {
   "cell_type": "code",
   "execution_count": null,
   "metadata": {
    "ExecuteTime": {
     "start_time": "2023-04-01T12:35:55.183511Z",
     "end_time": "2023-04-01T12:35:55.199468Z"
    }
   },
   "outputs": [],
   "source": [
    "trades.head()"
   ]
  },
  {
   "cell_type": "markdown",
   "metadata": {},
   "source": [
    "### ------------------------------------------------------------------------------------------------------------"
   ]
  },
  {
   "cell_type": "markdown",
   "metadata": {},
   "source": [
    "### XGBRegressor"
   ]
  },
  {
   "cell_type": "code",
   "execution_count": null,
   "metadata": {
    "ExecuteTime": {
     "start_time": "2023-04-01T12:35:55.201463Z",
     "end_time": "2023-04-01T12:35:56.016283Z"
    }
   },
   "outputs": [],
   "source": [
    "# Train XGBRegressor on train data\n",
    "reg, scaler = train_regressor(XGBRegressor, data)"
   ]
  },
  {
   "cell_type": "code",
   "execution_count": null,
   "metadata": {
    "ExecuteTime": {
     "start_time": "2023-04-01T12:35:56.003318Z",
     "end_time": "2023-04-01T12:35:57.876334Z"
    }
   },
   "outputs": [],
   "source": [
    "# Test on val data\n",
    "*_, trades = rbacktest(reg, scaler, data)"
   ]
  },
  {
   "cell_type": "code",
   "execution_count": null,
   "metadata": {
    "ExecuteTime": {
     "start_time": "2023-04-01T12:35:57.867335Z",
     "end_time": "2023-04-01T12:35:57.891275Z"
    }
   },
   "outputs": [],
   "source": [
    "trades.head()"
   ]
  },
  {
   "cell_type": "markdown",
   "metadata": {},
   "source": [
    "### XGBRegressor + HPO"
   ]
  },
  {
   "cell_type": "code",
   "execution_count": null,
   "metadata": {
    "ExecuteTime": {
     "start_time": "2023-04-01T12:35:57.885287Z",
     "end_time": "2023-04-01T12:36:04.428791Z"
    }
   },
   "outputs": [],
   "source": [
    "# Train XGBRegressor on train data, but optimize it with HPO first\n",
    "\n",
    "X_train, y_train = get_clean_Xy(data.iloc[0:int(data.shape[0] * system.train_set_end)])\n",
    "scaler = StandardScaler()\n",
    "X_train = scaler.fit_transform(X_train)\n",
    "best_hyperparams = optimize_model(XGBRegressor, 'XGBRegressor',\n",
    "                                  {\n",
    "                                        \"max_depth\": hp.quniform(\"max_depth\", 3, 12, 1),\n",
    "                                        \"learning_rate\": hp.uniform(\"learning_rate\", 0.01, 0.2),\n",
    "                                        \"n_estimators\": hp.quniform(\"n_estimators\", 50, 1000, 1),\n",
    "                                        \"min_child_weight\": hp.quniform(\"min_child_weight\", 1, 10, 1),\n",
    "                                        \"gamma\": hp.uniform(\"gamma\", 0, 1),\n",
    "                                        \"subsample\": hp.uniform(\"subsample\", 0.5, 1),\n",
    "                                        \"colsample_bytree\": hp.uniform(\"colsample_bytree\", 0.5, 1),\n",
    "                                        \"reg_alpha\": hp.uniform(\"reg_alpha\", 0, 1),\n",
    "                                        \"reg_lambda\": hp.uniform(\"reg_lambda\", 0, 1),\n",
    "                                    },\n",
    "                                  X_train, y_train, max_evals=100)\n",
    "reg, scaler = train_regressor(XGBRegressor, data, **best_hyperparams)"
   ]
  },
  {
   "cell_type": "code",
   "execution_count": null,
   "metadata": {
    "ExecuteTime": {
     "start_time": "2023-04-01T12:36:04.430786Z",
     "end_time": "2023-04-01T12:36:06.349722Z"
    }
   },
   "outputs": [],
   "source": [
    "# Test on val data\n",
    "*_, trades = rbacktest(reg, scaler, data)"
   ]
  },
  {
   "cell_type": "code",
   "execution_count": null,
   "metadata": {
    "ExecuteTime": {
     "start_time": "2023-04-01T12:36:06.350730Z",
     "end_time": "2023-04-01T12:36:06.424800Z"
    }
   },
   "outputs": [],
   "source": [
    "trades.head()"
   ]
  },
  {
   "cell_type": "markdown",
   "metadata": {},
   "source": [
    "### ------------------------------------------------------------------------------------------------------------"
   ]
  },
  {
   "cell_type": "markdown",
   "metadata": {},
   "source": [
    "### LGBMRegressor"
   ]
  },
  {
   "cell_type": "code",
   "execution_count": null,
   "metadata": {
    "ExecuteTime": {
     "start_time": "2023-04-01T12:36:06.365957Z",
     "end_time": "2023-04-01T12:36:06.614293Z"
    }
   },
   "outputs": [],
   "source": [
    "# Train LGBMRegressor on train data\n",
    "reg, scaler = train_regressor(LGBMRegressor, data)"
   ]
  },
  {
   "cell_type": "code",
   "execution_count": null,
   "metadata": {
    "ExecuteTime": {
     "start_time": "2023-04-01T12:36:06.614293Z",
     "end_time": "2023-04-01T12:36:07.771034Z"
    }
   },
   "outputs": [],
   "source": [
    "# Test on val data\n",
    "*_, trades = rbacktest(reg, scaler, data)"
   ]
  },
  {
   "cell_type": "code",
   "execution_count": null,
   "metadata": {
    "ExecuteTime": {
     "start_time": "2023-04-01T12:36:07.773030Z",
     "end_time": "2023-04-01T12:36:07.832962Z"
    }
   },
   "outputs": [],
   "source": [
    "trades.head()"
   ]
  },
  {
   "cell_type": "markdown",
   "metadata": {},
   "source": [
    "### LGBMRegressor + HPO"
   ]
  },
  {
   "cell_type": "code",
   "execution_count": null,
   "metadata": {
    "ExecuteTime": {
     "start_time": "2023-04-01T12:36:07.787086Z",
     "end_time": "2023-04-01T12:36:21.620102Z"
    }
   },
   "outputs": [],
   "source": [
    "# Train LGBMRegressor on train data, but optimize it with HPO first\n",
    "\n",
    "X_train, y_train = get_clean_Xy(data.iloc[0:int(data.shape[0] * system.train_set_end)])\n",
    "scaler = StandardScaler()\n",
    "X_train = scaler.fit_transform(X_train)\n",
    "best_hyperparams = optimize_model(LGBMRegressor, 'LGBMRegressor',\n",
    "                                  {\"n_estimators\": hp.choice(\"n_estimators\", range(5, 201)),\n",
    "                                  \"learning_rate\": hp.loguniform(\"learning_rate\", -5, 0),\n",
    "                                  \"max_depth\": hp.choice(\"max_depth\", range(2, 11))},\n",
    "                                  X_train, y_train, max_evals=100)\n",
    "reg, scaler = train_regressor(LGBMRegressor, data, **best_hyperparams)"
   ]
  },
  {
   "cell_type": "code",
   "execution_count": null,
   "metadata": {
    "ExecuteTime": {
     "start_time": "2023-04-01T12:36:21.607136Z",
     "end_time": "2023-04-01T12:36:22.702996Z"
    }
   },
   "outputs": [],
   "source": [
    "# Test on val data\n",
    "*_, trades = rbacktest(reg, scaler, data)"
   ]
  },
  {
   "cell_type": "code",
   "execution_count": null,
   "metadata": {
    "ExecuteTime": {
     "start_time": "2023-04-01T12:36:22.703981Z",
     "end_time": "2023-04-01T12:36:22.762895Z"
    }
   },
   "outputs": [],
   "source": [
    "trades.head()"
   ]
  },
  {
   "cell_type": "markdown",
   "metadata": {},
   "source": [
    "### ------------------------------------------------------------------------------------------------------------"
   ]
  },
  {
   "cell_type": "markdown",
   "metadata": {},
   "source": [
    "### RandomForestRegressor"
   ]
  },
  {
   "cell_type": "code",
   "execution_count": null,
   "metadata": {
    "ExecuteTime": {
     "start_time": "2023-04-01T12:36:22.718957Z",
     "end_time": "2023-04-01T12:36:31.316354Z"
    }
   },
   "outputs": [],
   "source": [
    "# Train RandomForestRegressor on train data\n",
    "reg, scaler = train_regressor(RandomForestRegressor, data, n_jobs=-1)"
   ]
  },
  {
   "cell_type": "code",
   "execution_count": null,
   "metadata": {
    "ExecuteTime": {
     "start_time": "2023-04-01T12:36:31.317352Z",
     "end_time": "2023-04-01T12:36:51.198997Z"
    }
   },
   "outputs": [],
   "source": [
    "# Test on val data\n",
    "*_, trades = rbacktest(reg, scaler, data)"
   ]
  },
  {
   "cell_type": "code",
   "execution_count": null,
   "metadata": {
    "ExecuteTime": {
     "start_time": "2023-04-01T12:36:51.199993Z",
     "end_time": "2023-04-01T12:36:51.245510Z"
    }
   },
   "outputs": [],
   "source": [
    "trades.head()"
   ]
  },
  {
   "cell_type": "markdown",
   "metadata": {},
   "source": [
    "### RandomForestRegressor + HPO"
   ]
  },
  {
   "cell_type": "code",
   "execution_count": null,
   "metadata": {
    "ExecuteTime": {
     "start_time": "2023-04-01T12:36:51.216588Z",
     "end_time": "2023-04-01T12:37:03.467076Z"
    }
   },
   "outputs": [],
   "source": [
    "# Train RandomForestRegressor on train data, but optimize it with HPO first\n",
    "\n",
    "X_train, y_train = get_clean_Xy(data.iloc[0:int(data.shape[0] * system.train_set_end)])\n",
    "scaler = StandardScaler()\n",
    "X_train = scaler.fit_transform(X_train)\n",
    "best_hyperparams = optimize_model(RandomForestRegressor, 'RandomForestRegressor',\n",
    "                                  {\"n_estimators\": hp.choice(\"n_estimators\", range(5, 201)),\n",
    "                                   \"max_depth\": hp.choice(\"max_depth\", range(2, 21))},\n",
    "                                  X_train, y_train, max_evals=10, n_jobs=-1)\n",
    "reg, scaler = train_regressor(RandomForestRegressor, data, **best_hyperparams)"
   ]
  },
  {
   "cell_type": "code",
   "execution_count": null,
   "metadata": {
    "ExecuteTime": {
     "start_time": "2023-04-01T12:37:03.475056Z",
     "end_time": "2023-04-01T12:37:04.505509Z"
    }
   },
   "outputs": [],
   "source": [
    "# Test on val data\n",
    "*_, trades = rbacktest(reg, scaler, data)"
   ]
  },
  {
   "cell_type": "code",
   "execution_count": null,
   "metadata": {
    "ExecuteTime": {
     "start_time": "2023-04-01T12:37:04.511525Z",
     "end_time": "2023-04-01T12:37:04.551504Z"
    }
   },
   "outputs": [],
   "source": [
    "trades.head()"
   ]
  },
  {
   "cell_type": "markdown",
   "metadata": {},
   "source": [
    "### ------------------------------------------------------------------------------------------------------------"
   ]
  },
  {
   "cell_type": "markdown",
   "metadata": {},
   "source": [
    "### ExtraTreesRegressor"
   ]
  },
  {
   "cell_type": "code",
   "execution_count": null,
   "metadata": {
    "ExecuteTime": {
     "start_time": "2023-04-01T12:37:04.524576Z",
     "end_time": "2023-04-01T12:37:14.362419Z"
    }
   },
   "outputs": [],
   "source": [
    "# Train ExtraTreesRegressor on train data\n",
    "reg, scaler = train_regressor(ExtraTreesRegressor, data)"
   ]
  },
  {
   "cell_type": "code",
   "execution_count": null,
   "metadata": {
    "ExecuteTime": {
     "start_time": "2023-04-01T12:37:14.365415Z",
     "end_time": "2023-04-01T12:37:24.401707Z"
    }
   },
   "outputs": [],
   "source": [
    "# Test on val data\n",
    "*_, trades = rbacktest(reg, scaler, data)"
   ]
  },
  {
   "cell_type": "code",
   "execution_count": null,
   "metadata": {
    "ExecuteTime": {
     "start_time": "2023-04-01T12:37:24.402703Z",
     "end_time": "2023-04-01T12:37:24.447803Z"
    }
   },
   "outputs": [],
   "source": [
    "trades.head()"
   ]
  },
  {
   "cell_type": "markdown",
   "metadata": {},
   "source": [
    "### ExtraTreesRegressor + HPO"
   ]
  },
  {
   "cell_type": "code",
   "execution_count": null,
   "metadata": {
    "ExecuteTime": {
     "start_time": "2023-04-01T12:37:24.419851Z",
     "end_time": "2023-04-01T12:37:35.787243Z"
    }
   },
   "outputs": [],
   "source": [
    "# Train ExtraTreesRegressor on train data, but optimize it with HPO first\n",
    "\n",
    "X_train, y_train = get_clean_Xy(data.iloc[0:int(data.shape[0] * system.train_set_end)])\n",
    "scaler = StandardScaler()\n",
    "X_train = scaler.fit_transform(X_train)\n",
    "best_hyperparams = optimize_model(ExtraTreesRegressor, 'ExtraTreesRegressor',\n",
    "                                  {\"n_estimators\": hp.choice(\"n_estimators\", range(5, 201)),\n",
    "                                   \"max_depth\": hp.choice(\"max_depth\", range(2, 21))},\n",
    "                                  X_train, y_train, max_evals=50, n_jobs=-1)\n",
    "reg, scaler = train_regressor(ExtraTreesRegressor, data, **best_hyperparams)"
   ]
  },
  {
   "cell_type": "code",
   "execution_count": null,
   "metadata": {
    "ExecuteTime": {
     "start_time": "2023-04-01T12:37:35.786246Z",
     "end_time": "2023-04-01T12:37:37.472856Z"
    }
   },
   "outputs": [],
   "source": [
    "# Test on val data\n",
    "*_, trades = rbacktest(reg, scaler, data)"
   ]
  },
  {
   "cell_type": "code",
   "execution_count": null,
   "metadata": {
    "ExecuteTime": {
     "start_time": "2023-04-01T12:37:37.473851Z",
     "end_time": "2023-04-01T12:37:37.519103Z"
    }
   },
   "outputs": [],
   "source": [
    "trades.head()"
   ]
  },
  {
   "cell_type": "markdown",
   "metadata": {},
   "source": [
    "### ------------------------------------------------------------------------------------------------------------"
   ]
  },
  {
   "cell_type": "markdown",
   "metadata": {},
   "source": [
    "### CatBoostRegressor"
   ]
  },
  {
   "cell_type": "code",
   "execution_count": null,
   "metadata": {
    "ExecuteTime": {
     "start_time": "2023-04-01T12:37:37.489146Z",
     "end_time": "2023-04-01T12:37:43.134844Z"
    }
   },
   "outputs": [],
   "source": [
    "# Train CatBoostRegressor on train data\n",
    "reg, scaler = train_regressor(CatBoostRegressor, data, verbose=False)"
   ]
  },
  {
   "cell_type": "code",
   "execution_count": null,
   "metadata": {
    "ExecuteTime": {
     "start_time": "2023-04-01T12:37:43.136842Z",
     "end_time": "2023-04-01T12:37:45.413914Z"
    }
   },
   "outputs": [],
   "source": [
    "# Test on val data\n",
    "*_, trades = rbacktest(reg, scaler, data)"
   ]
  },
  {
   "cell_type": "code",
   "execution_count": null,
   "metadata": {
    "ExecuteTime": {
     "start_time": "2023-04-01T12:37:45.414911Z",
     "end_time": "2023-04-01T12:37:45.459840Z"
    }
   },
   "outputs": [],
   "source": [
    "trades.head()"
   ]
  },
  {
   "cell_type": "markdown",
   "metadata": {},
   "source": [
    "### CatBoostRegressor + HPO"
   ]
  },
  {
   "cell_type": "code",
   "execution_count": null,
   "metadata": {
    "ExecuteTime": {
     "start_time": "2023-04-01T12:37:45.432913Z",
     "end_time": "2023-04-01T12:38:35.996428Z"
    }
   },
   "outputs": [],
   "source": [
    "# Train CatBoostClassifier classifier on train data, but optimize it with HPO first\n",
    "\n",
    "X_train, y_train = get_clean_Xy(data.iloc[0:int(data.shape[0] * system.train_set_end)])\n",
    "scaler = StandardScaler()\n",
    "X_train = scaler.fit_transform(X_train)\n",
    "best_hyperparams = optimize_model(CatBoostRegressor, 'CatBoostRegressor',\n",
    "                                  {\n",
    "                                    \"iterations\": hp.quniform(\"iterations\", 50, 1200, 1),\n",
    "                                    \"learning_rate\": hp.uniform(\"learning_rate\", 0.01, 0.2),\n",
    "                                    \"depth\": hp.quniform(\"depth\", 4, 10, 1),\n",
    "                                    \"l2_leaf_reg\": hp.uniform(\"l2_leaf_reg\", 1, 10),\n",
    "                                    \"border_count\": hp.quniform(\"border_count\", 128, 256, 1),\n",
    "                                    \"random_strength\": hp.uniform(\"random_strength\", 0.5, 2),\n",
    "                                    \"bagging_temperature\": hp.uniform(\"bagging_temperature\", 0.5, 2),\n",
    "                                },\n",
    "                                  X_train, y_train, max_evals=10, verbose=False)\n",
    "best_hyperparams['verbose'] = False\n",
    "reg, scaler = train_regressor(CatBoostRegressor, data, **best_hyperparams)"
   ]
  },
  {
   "cell_type": "code",
   "execution_count": null,
   "metadata": {
    "ExecuteTime": {
     "start_time": "2023-04-01T12:38:35.997425Z",
     "end_time": "2023-04-01T12:38:38.941308Z"
    }
   },
   "outputs": [],
   "source": [
    "# Test on val data\n",
    "*_, trades = rbacktest(reg, scaler, data)"
   ]
  },
  {
   "cell_type": "code",
   "execution_count": null,
   "metadata": {
    "ExecuteTime": {
     "start_time": "2023-04-01T12:38:38.942305Z",
     "end_time": "2023-04-01T12:38:39.002017Z"
    }
   },
   "outputs": [],
   "source": [
    "trades.head()"
   ]
  },
  {
   "cell_type": "markdown",
   "metadata": {},
   "source": [
    "### ------------------------------------------------------------------------------------------------------------"
   ]
  },
  {
   "cell_type": "code",
   "execution_count": null,
   "metadata": {
    "ExecuteTime": {
     "start_time": "2023-04-01T12:38:38.956699Z",
     "end_time": "2023-04-01T12:38:39.007033Z"
    }
   },
   "outputs": [],
   "source": []
  },
  {
   "cell_type": "code",
   "execution_count": null,
   "metadata": {
    "ExecuteTime": {
     "start_time": "2023-04-01T12:38:38.972656Z",
     "end_time": "2023-04-01T12:38:39.033353Z"
    }
   },
   "outputs": [],
   "source": []
  },
  {
   "cell_type": "code",
   "execution_count": null,
   "metadata": {
    "ExecuteTime": {
     "start_time": "2023-04-01T12:38:38.988570Z",
     "end_time": "2023-04-01T12:38:39.046350Z"
    }
   },
   "outputs": [],
   "source": []
  },
  {
   "cell_type": "code",
   "execution_count": null,
   "metadata": {
    "ExecuteTime": {
     "start_time": "2023-04-01T12:38:39.004040Z",
     "end_time": "2023-04-01T12:38:39.063275Z"
    }
   },
   "outputs": [],
   "source": []
  },
  {
   "cell_type": "code",
   "execution_count": null,
   "metadata": {
    "ExecuteTime": {
     "start_time": "2023-04-01T12:38:39.019825Z",
     "end_time": "2023-04-01T12:38:39.095189Z"
    }
   },
   "outputs": [],
   "source": []
  },
  {
   "cell_type": "code",
   "execution_count": null,
   "metadata": {
    "ExecuteTime": {
     "start_time": "2023-04-01T12:38:39.035349Z",
     "end_time": "2023-04-01T12:38:39.110150Z"
    }
   },
   "outputs": [],
   "source": []
  }
 ],
 "metadata": {
  "colab": {
   "provenance": []
  },
  "kernelspec": {
   "display_name": "Python 3 (ipykernel)",
   "language": "python",
   "name": "python3"
  },
  "language_info": {
   "codemirror_mode": {
    "name": "ipython",
    "version": 3
   },
   "file_extension": ".py",
   "mimetype": "text/x-python",
   "name": "python",
   "nbconvert_exporter": "python",
   "pygments_lexer": "ipython3",
   "version": "3.8.10"
  },
  "pycharm": {
   "stem_cell": {
    "cell_type": "raw",
    "metadata": {
     "collapsed": false
    },
    "source": []
   }
  },
  "toc": {
   "base_numbering": 1,
   "nav_menu": {},
   "number_sections": true,
   "sideBar": true,
   "skip_h1_title": false,
   "title_cell": "Table of Contents",
   "title_sidebar": "Contents",
   "toc_cell": false,
   "toc_position": {
    "height": "calc(100% - 180px)",
    "left": "10px",
    "top": "150px",
    "width": "165px"
   },
   "toc_section_display": true,
   "toc_window_display": true
  }
 },
 "nbformat": 4,
 "nbformat_minor": 1
}
