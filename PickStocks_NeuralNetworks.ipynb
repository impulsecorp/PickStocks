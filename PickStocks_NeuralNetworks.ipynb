{
 "cells": [
  {
   "cell_type": "markdown",
   "metadata": {},
   "source": [
    "### ------------------------------------------------------------------------------------------------------------"
   ]
  },
  {
   "cell_type": "code",
   "execution_count": null,
   "metadata": {
    "id": "LTSDSXZTURm5",
    "ExecuteTime": {
     "start_time": "2023-04-01T16:01:08.326345Z",
     "end_time": "2023-04-01T16:01:08.679402Z"
    }
   },
   "outputs": [],
   "source": [
    "import os\n",
    "\n",
    "import pandas as pd\n",
    "\n",
    "if 'COLAB_GPU' in os.environ:\n",
    "    !git clone https://github.com/impulsecorp/PickStocks.git\n",
    "    !mv PickStocks/*.py .\n",
    "    !mv PickStocks/data .\n",
    "    !pip install -U -qq -r PickStocks/requirements.txt"
   ]
  },
  {
   "cell_type": "code",
   "execution_count": null,
   "metadata": {
    "id": "rqKDcXZB4tNG",
    "ExecuteTime": {
     "start_time": "2023-04-01T16:01:08.681396Z",
     "end_time": "2023-04-01T16:01:10.651794Z"
    }
   },
   "outputs": [],
   "source": [
    "import warnings\n",
    "warnings.filterwarnings(\"ignore\")\n",
    "import system\n",
    "from system import *\n",
    "# small hack to prevent Colab error\n",
    "try:\n",
    "    from datablock import *\n",
    "except:\n",
    "    from datablock import *\n",
    "seed"
   ]
  },
  {
   "cell_type": "code",
   "execution_count": null,
   "metadata": {
    "ExecuteTime": {
     "start_time": "2023-04-01T16:01:10.652799Z",
     "end_time": "2023-04-01T16:01:10.697720Z"
    }
   },
   "outputs": [],
   "source": [
    "%pylab inline"
   ]
  },
  {
   "cell_type": "markdown",
   "metadata": {},
   "source": [
    "### Setup"
   ]
  },
  {
   "cell_type": "code",
   "execution_count": null,
   "outputs": [],
   "source": [],
   "metadata": {
    "collapsed": false,
    "ExecuteTime": {
     "start_time": "2023-04-01T16:01:10.667802Z",
     "end_time": "2023-04-01T16:01:10.705699Z"
    }
   }
  },
  {
   "cell_type": "code",
   "execution_count": null,
   "metadata": {
    "ExecuteTime": {
     "start_time": "2023-04-01T16:01:10.683793Z",
     "end_time": "2023-04-01T16:01:11.205364Z"
    }
   },
   "outputs": [],
   "source": [
    "data_timeperiod = 'D'\n",
    "data = get_data('SPY', period=data_timeperiod, nrows=None)\n",
    "data = procdata_lite(data)"
   ]
  },
  {
   "cell_type": "code",
   "execution_count": null,
   "metadata": {
    "ExecuteTime": {
     "start_time": "2023-04-01T16:01:11.206360Z",
     "end_time": "2023-04-01T16:01:11.266812Z"
    }
   },
   "outputs": [],
   "source": [
    "# for inspectiion\n",
    "print(data.shape)\n",
    "data.head()"
   ]
  },
  {
   "cell_type": "code",
   "execution_count": null,
   "metadata": {
    "ExecuteTime": {
     "start_time": "2023-04-01T16:01:11.266812Z",
     "end_time": "2023-04-01T16:01:11.312995Z"
    }
   },
   "outputs": [],
   "source": [
    "system.train_set_end = 0.75 # percentage point specifying the training set end point (1.0 means all data is training set)\n",
    "system.val_set_end = 1.0   # percentage point specifying the validation set end point (1.0 means no test set)\n",
    "system.balance_data = 1\n",
    "system.scale_data = 1"
   ]
  },
  {
   "cell_type": "markdown",
   "metadata": {},
   "source": [
    "### ------------------------------------------------------------------------------------------------------------"
   ]
  },
  {
   "cell_type": "markdown",
   "metadata": {},
   "source": [
    "### Base classifier test"
   ]
  },
  {
   "cell_type": "code",
   "execution_count": null,
   "metadata": {
    "ExecuteTime": {
     "start_time": "2023-04-01T16:01:11.283077Z",
     "end_time": "2023-04-01T16:01:11.669044Z"
    }
   },
   "outputs": [],
   "source": [
    "# Train LogisticRegression classifier on train data\n",
    "clf, scaler = train_classifier(LogisticRegression, data)"
   ]
  },
  {
   "cell_type": "code",
   "execution_count": null,
   "metadata": {
    "ExecuteTime": {
     "start_time": "2023-04-01T16:01:11.519444Z",
     "end_time": "2023-04-01T16:01:12.212590Z"
    }
   },
   "outputs": [],
   "source": [
    "# Test on val data\n",
    "equity, pf, trades = qbacktest(clf, scaler, data)"
   ]
  },
  {
   "cell_type": "code",
   "execution_count": null,
   "metadata": {
    "ExecuteTime": {
     "start_time": "2023-04-01T16:01:12.213588Z",
     "end_time": "2023-04-01T16:01:12.273427Z"
    }
   },
   "outputs": [],
   "source": [
    "trades[0:10]"
   ]
  },
  {
   "cell_type": "markdown",
   "metadata": {},
   "source": [
    "### ------------------------------------------------------------------------------------------------------------"
   ]
  },
  {
   "cell_type": "markdown",
   "metadata": {},
   "source": [
    "### Neural Network Training"
   ]
  },
  {
   "cell_type": "code",
   "execution_count": null,
   "metadata": {
    "ExecuteTime": {
     "start_time": "2023-04-01T16:01:12.229545Z",
     "end_time": "2023-04-01T16:01:12.287390Z"
    }
   },
   "outputs": [],
   "source": [
    "X_train, y_train = get_clean_Xy(data.iloc[0:int(data.shape[0] * system.train_set_end)])\n",
    "clf = None"
   ]
  },
  {
   "cell_type": "code",
   "execution_count": null,
   "metadata": {
    "ExecuteTime": {
     "start_time": "2023-04-01T16:01:12.245504Z",
     "end_time": "2023-04-01T16:01:18.687782Z"
    }
   },
   "outputs": [],
   "source": [
    "clf, scaler = train_classifier(PyTorchClassifierWrapper, data, input_dim=X_train.shape[1], hidden_dim=32, n_epochs=30)"
   ]
  },
  {
   "cell_type": "code",
   "execution_count": null,
   "metadata": {
    "ExecuteTime": {
     "start_time": "2023-04-01T16:01:18.689778Z",
     "end_time": "2023-04-01T16:01:19.658818Z"
    }
   },
   "outputs": [],
   "source": [
    "# Test on val data\n",
    "equity, pf, trades = qbacktest(clf, scaler, data)"
   ]
  },
  {
   "cell_type": "code",
   "execution_count": null,
   "metadata": {
    "ExecuteTime": {
     "start_time": "2023-04-01T16:01:19.660815Z",
     "end_time": "2023-04-01T16:01:19.704806Z"
    }
   },
   "outputs": [],
   "source": [
    "trades.head()"
   ]
  },
  {
   "cell_type": "markdown",
   "metadata": {},
   "source": [
    "### ------------------------------------------------------------------------------------------------------------"
   ]
  },
  {
   "cell_type": "code",
   "execution_count": null,
   "metadata": {
    "ExecuteTime": {
     "start_time": "2023-04-01T16:01:19.675688Z",
     "end_time": "2023-04-01T16:01:19.704806Z"
    }
   },
   "outputs": [],
   "source": []
  },
  {
   "cell_type": "code",
   "execution_count": null,
   "metadata": {
    "ExecuteTime": {
     "start_time": "2023-04-01T16:01:19.691267Z",
     "end_time": "2023-04-01T16:01:19.735168Z"
    }
   },
   "outputs": [],
   "source": []
  },
  {
   "cell_type": "code",
   "execution_count": null,
   "metadata": {
    "ExecuteTime": {
     "start_time": "2023-04-01T16:01:19.706802Z",
     "end_time": "2023-04-01T16:01:19.757053Z"
    }
   },
   "outputs": [],
   "source": []
  },
  {
   "cell_type": "code",
   "execution_count": null,
   "metadata": {
    "ExecuteTime": {
     "start_time": "2023-04-01T16:01:19.721761Z",
     "end_time": "2023-04-01T16:01:19.765031Z"
    }
   },
   "outputs": [],
   "source": []
  },
  {
   "cell_type": "code",
   "execution_count": null,
   "metadata": {
    "ExecuteTime": {
     "start_time": "2023-04-01T16:01:19.737048Z",
     "end_time": "2023-04-01T16:01:19.765031Z"
    }
   },
   "outputs": [],
   "source": []
  },
  {
   "cell_type": "code",
   "execution_count": null,
   "metadata": {
    "ExecuteTime": {
     "start_time": "2023-04-01T16:01:19.753064Z",
     "end_time": "2023-04-01T16:01:19.775005Z"
    }
   },
   "outputs": [],
   "source": []
  }
 ],
 "metadata": {
  "colab": {
   "provenance": []
  },
  "kernelspec": {
   "display_name": "Python 3 (ipykernel)",
   "language": "python",
   "name": "python3"
  },
  "language_info": {
   "codemirror_mode": {
    "name": "ipython",
    "version": 3
   },
   "file_extension": ".py",
   "mimetype": "text/x-python",
   "name": "python",
   "nbconvert_exporter": "python",
   "pygments_lexer": "ipython3",
   "version": "3.8.10"
  },
  "pycharm": {
   "stem_cell": {
    "cell_type": "raw",
    "metadata": {
     "collapsed": false
    },
    "source": []
   }
  },
  "toc": {
   "base_numbering": 1,
   "nav_menu": {},
   "number_sections": true,
   "sideBar": true,
   "skip_h1_title": false,
   "title_cell": "Table of Contents",
   "title_sidebar": "Contents",
   "toc_cell": false,
   "toc_position": {
    "height": "calc(100% - 180px)",
    "left": "10px",
    "top": "150px",
    "width": "165px"
   },
   "toc_section_display": true,
   "toc_window_display": true
  }
 },
 "nbformat": 4,
 "nbformat_minor": 1
}
