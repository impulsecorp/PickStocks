{
 "cells": [
  {
   "cell_type": "markdown",
   "metadata": {},
   "source": [
    "### ------------------------------------------------------------------------------------------------------------"
   ]
  },
  {
   "cell_type": "code",
   "execution_count": null,
   "metadata": {
    "id": "LTSDSXZTURm5",
    "ExecuteTime": {
     "start_time": "2023-03-31T23:50:46.988449Z",
     "end_time": "2023-03-31T23:50:47.097158Z"
    }
   },
   "outputs": [],
   "source": [
    "import os\n",
    "\n",
    "if 'COLAB_GPU' in os.environ:\n",
    "    !git clone https://github.com/impulsecorp/PickStocks.git\n",
    "    !mv PickStocks/*.py .\n",
    "    !mv PickStocks/data .\n",
    "    !pip install -U -qq -r PickStocks/requirements.txt"
   ]
  },
  {
   "cell_type": "code",
   "execution_count": null,
   "metadata": {
    "id": "rqKDcXZB4tNG",
    "ExecuteTime": {
     "start_time": "2023-03-31T23:50:46.992439Z",
     "end_time": "2023-03-31T23:50:49.065247Z"
    }
   },
   "outputs": [],
   "source": [
    "import warnings\n",
    "warnings.filterwarnings(\"ignore\")\n",
    "import system\n",
    "from system import *\n",
    "# small hack to prevent Colab error\n",
    "try:\n",
    "    from datablock import *\n",
    "except:\n",
    "    from datablock import *\n",
    "from deap import base, creator, tools, algorithms\n",
    "seed"
   ]
  },
  {
   "cell_type": "code",
   "execution_count": null,
   "metadata": {
    "ExecuteTime": {
     "start_time": "2023-03-31T23:50:49.066243Z",
     "end_time": "2023-03-31T23:50:49.126084Z"
    }
   },
   "outputs": [],
   "source": [
    "%pylab inline"
   ]
  },
  {
   "cell_type": "markdown",
   "metadata": {},
   "source": [
    "### Setup"
   ]
  },
  {
   "cell_type": "code",
   "execution_count": null,
   "metadata": {
    "ExecuteTime": {
     "start_time": "2023-03-31T23:50:49.082202Z",
     "end_time": "2023-03-31T23:50:49.578028Z"
    }
   },
   "outputs": [],
   "source": [
    "data_timeperiod = 'D'\n",
    "data = get_data('SPY', period=data_timeperiod, nrows=None)\n",
    "data = procdata_lite(data)"
   ]
  },
  {
   "cell_type": "code",
   "execution_count": null,
   "metadata": {
    "ExecuteTime": {
     "start_time": "2023-03-31T23:50:49.579025Z",
     "end_time": "2023-03-31T23:50:49.625627Z"
    }
   },
   "outputs": [],
   "source": [
    "# for inspectiion\n",
    "print(data.shape)\n",
    "data.head()"
   ]
  },
  {
   "cell_type": "code",
   "execution_count": null,
   "metadata": {
    "ExecuteTime": {
     "start_time": "2023-03-31T23:50:49.625627Z",
     "end_time": "2023-03-31T23:50:49.688578Z"
    }
   },
   "outputs": [],
   "source": [
    "system.train_set_end = 0.5 # percentage point specifying the training set end point (1.0 means all data is training set)\n",
    "system.val_set_end = 0.75    # percentage point specifying the validation set end point (1.0 means no test set)\n",
    "system.balance_data = 1\n",
    "\n",
    "combine_method = 'and' # whether to combine the strategies with 'and' or 'or'\n",
    "multi_objective = 1 # whether to use multiple objectives (NSGA-2) or not\n",
    "\n",
    "nbins = 15 # number of bins for each feature (see FeatureMatrix for reference)\n",
    "individual_size = 3 # number of strategies to combine for each genome\n",
    "eval_min_trades = 100 # minumum number of trades to be eligible for reproduction"
   ]
  },
  {
   "cell_type": "code",
   "execution_count": null,
   "outputs": [],
   "source": [
    "# EA parameters\n",
    "pop_size = 128\n",
    "num_generations = 50\n",
    "crossover_prob = 0.8\n",
    "mutation_prob = 0.2\n",
    "mutation_prob_gene = 0.1\n",
    "elitism_size = 2"
   ],
   "metadata": {
    "collapsed": false,
    "ExecuteTime": {
     "start_time": "2023-03-31T23:50:51.439343Z",
     "end_time": "2023-03-31T23:50:51.495353Z"
    }
   }
  },
  {
   "cell_type": "markdown",
   "source": [
    "### ------------------------------------------------------------------------------------------------------------"
   ],
   "metadata": {
    "collapsed": false
   }
  },
  {
   "cell_type": "markdown",
   "source": [
    "### LogisticRegression base classifier"
   ],
   "metadata": {
    "collapsed": false
   }
  },
  {
   "cell_type": "code",
   "execution_count": null,
   "outputs": [],
   "source": [
    "# Train LogisticRegression classifier on train data\n",
    "clf, scaler = train_classifier(LogisticRegression, data)"
   ],
   "metadata": {
    "collapsed": false
   }
  },
  {
   "cell_type": "code",
   "execution_count": null,
   "outputs": [],
   "source": [
    "# Test on val data\n",
    "equity, pf, base_trades = qbacktest(clf, scaler, data)"
   ],
   "metadata": {
    "collapsed": false
   }
  },
  {
   "cell_type": "code",
   "execution_count": null,
   "outputs": [],
   "source": [
    "base_trades.head()"
   ],
   "metadata": {
    "collapsed": false
   }
  },
  {
   "cell_type": "markdown",
   "source": [
    "### ------------------------------------------------------------------------------------------------------------"
   ],
   "metadata": {
    "collapsed": false
   }
  },
  {
   "cell_type": "markdown",
   "source": [
    "### Obtain all individual startegies (genes) to combine and their stats"
   ],
   "metadata": {
    "collapsed": false
   }
  },
  {
   "cell_type": "code",
   "execution_count": null,
   "outputs": [],
   "source": [
    "min_pf = 0.1\n",
    "min_trades = 10\n",
    "max_trades = 10000"
   ],
   "metadata": {
    "collapsed": false
   }
  },
  {
   "cell_type": "code",
   "execution_count": null,
   "outputs": [],
   "source": [
    "feature_names = [featdeformat(x) for x in data.filter(like='X')]\n",
    "feature_ranges = []\n",
    "for fn in feature_names:\n",
    "    d = data[featformat(fn)].values\n",
    "    feature_ranges.append((np.min(d), np.max(d)))\n",
    "num_bins = nbins + 1\n",
    "feat_bins = []\n",
    "for fmin, fmax in feature_ranges:\n",
    "    feat_bins.append(np.linspace(fmin, fmax, num_bins))\n",
    "feat_bins = np.array(feat_bins)\n",
    "pf_matrix = []\n",
    "nt_matrix = []\n",
    "wn_matrix = []\n",
    "coords = []\n",
    "for row_idx, (fname, bins) in enumerate(zip(tqdm(feature_names), feat_bins)):\n",
    "    pfs = []\n",
    "    nts = []\n",
    "    wns = []\n",
    "    for col_idx in range(1,len(bins)):\n",
    "        if bins[col_idx-1] > bins[col_idx]:\n",
    "            bs = bins[col_idx], bins[col_idx-1]\n",
    "        else:\n",
    "            bs = bins[col_idx-1], bins[col_idx]\n",
    "        pf, ntrades = compute_stats(data, filter_trades_by_feature(base_trades, data, featformat(fname), min_value=bs[0], max_value=bs[1]))\n",
    "        if (pf != -1) and (len(ntrades) > 0):\n",
    "            pf_matrix.append(pf)\n",
    "            nt_matrix.append(len(ntrades))\n",
    "            wn_matrix.append(get_winner_pct(ntrades))\n",
    "            coords.append((row_idx, col_idx))\n",
    "zpd = sorted(list(zip(pf_matrix, nt_matrix, wn_matrix, coords)), key = lambda x: x[2], reverse=True)\n",
    "top_pfs = []\n",
    "top_nts = []\n",
    "top_wns = []\n",
    "all_coords = []\n",
    "for pf, nt, wn, coords in zpd:\n",
    "    if (nt >= min_trades) and (nt <= max_trades) and (pf >= min_pf):\n",
    "        top_pfs.append(pf)\n",
    "        top_nts.append(nt)\n",
    "        top_wns.append(wn)\n",
    "        all_coords.append( coords )\n",
    "pd.DataFrame(data=list(zip(top_pfs, top_nts, top_wns)), columns=['PF', 'Trades', ' % Winners'])"
   ],
   "metadata": {
    "collapsed": false
   }
  },
  {
   "cell_type": "markdown",
   "source": [
    "### Evolutionary algorithm setup"
   ],
   "metadata": {
    "collapsed": false
   }
  },
  {
   "cell_type": "code",
   "execution_count": null,
   "outputs": [],
   "source": [
    "def evaluate(coord_list):\n",
    "    alltrades = []\n",
    "    for i in range(len(coord_list)):\n",
    "        try:\n",
    "            r,c = coord_list[i]\n",
    "            _, mtrades = compute_stats(data,\n",
    "                                       filter_trades_by_feature(base_trades, data,\n",
    "                                                                featformat(feature_names[r]),\n",
    "                                                                min_value=feat_bins[r][c-1],\n",
    "                                                                max_value=feat_bins[r][c]))\n",
    "            alltrades.append(mtrades)\n",
    "        except Exception as ex:\n",
    "            print(ex)\n",
    "            print(i)\n",
    "            print(coord_list)\n",
    "    alltrades = combined_trades(alltrades, combine_method=combine_method)\n",
    "    if len(alltrades) >= eval_min_trades:\n",
    "        if multi_objective:\n",
    "            return float(get_winner_pct(alltrades)), float(get_profit_factor(alltrades)),\n",
    "        else:\n",
    "            return float(get_winner_pct(alltrades)),\n",
    "    else:\n",
    "        if multi_objective:\n",
    "            return 0.0, 0.0,\n",
    "        else:\n",
    "            return 0.0,"
   ],
   "metadata": {
    "collapsed": false
   }
  },
  {
   "cell_type": "code",
   "execution_count": null,
   "outputs": [],
   "source": [
    "creator.create(\"FitnessMax\", base.Fitness, weights=(1.0, 1.0) if multi_objective else (1.0,))\n",
    "creator.create(\"Individual\", list, fitness=creator.FitnessMax)\n",
    "def create_individual():\n",
    "    return rnd.sample(all_coords, individual_size)\n",
    "def create_population(n):\n",
    "    return [creator.Individual(create_individual()) for _ in range(n)]\n",
    "toolbox = base.Toolbox()\n",
    "# Register individual and population creation functions\n",
    "toolbox.register(\"individual\", create_individual)\n",
    "toolbox.register(\"population\", create_population)\n",
    "# Register genetic operators\n",
    "toolbox.register(\"mate\", tools.cxTwoPoint)\n",
    "def custom_mutation(individual):\n",
    "    for i in range(len(individual)):\n",
    "        if rnd.random() < mutation_prob_gene:\n",
    "            individual[i] = rnd.choice(all_coords)\n",
    "    return individual,\n",
    "toolbox.register(\"mutate\", custom_mutation)\n",
    "toolbox.register(\"select\", tools.selNSGA2 if multi_objective else tools.selBest)\n",
    "# Register the fitness function\n",
    "toolbox.register(\"evaluate\", lambda x: evaluate(x))"
   ],
   "metadata": {
    "collapsed": false
   }
  },
  {
   "cell_type": "markdown",
   "source": [
    "### Evolutionary algorithm"
   ],
   "metadata": {
    "collapsed": false
   }
  },
  {
   "cell_type": "code",
   "execution_count": null,
   "outputs": [],
   "source": [
    "# Create initial population\n",
    "pop = toolbox.population(n=pop_size)\n",
    "# Evaluate the initial population\n",
    "fitnesses = list(map(toolbox.evaluate, pop))\n",
    "for ind, fit in zip(pop, fitnesses):\n",
    "    ind.fitness.values = fit\n",
    "# Set up the statistics and logbook\n",
    "stats = tools.Statistics(lambda ind: ind.fitness.values)\n",
    "stats.register(\"avg\", np.mean)\n",
    "stats.register(\"std\", np.std)\n",
    "stats.register(\"min\", np.min)\n",
    "stats.register(\"max\", np.max)\n",
    "logbook = tools.Logbook()\n",
    "logbook.header = \"gen\", \"evals\", \"std\", \"min\", \"avg\", \"max\"\n",
    "# Record initial population statistics\n",
    "record = stats.compile(pop)\n",
    "logbook.record(gen=0, evals=len(pop), **record)\n",
    "print(logbook.stream)\n",
    "# Run the genetic algorithm\n",
    "for gen in range(1, num_generations + 1):\n",
    "    offspring = toolbox.select(pop, len(pop))\n",
    "    offspring = list(offspring)\n",
    "    # Apply crossover and mutation on the offspring\n",
    "    for child1, child2 in zip(offspring[::2], offspring[1::2]):\n",
    "        if rnd.random() < crossover_prob:\n",
    "            toolbox.mate(child1, child2)\n",
    "            del child1.fitness.values\n",
    "            del child2.fitness.values\n",
    "    for mutant in offspring:\n",
    "        if rnd.random() < mutation_prob:\n",
    "            toolbox.mutate(mutant)\n",
    "            del mutant.fitness.values\n",
    "    # Evaluate offspring\n",
    "    fitnesses = list(map(toolbox.evaluate, offspring))\n",
    "    for ind, fit in zip(offspring, fitnesses):\n",
    "        ind.fitness.values = fit\n",
    "    # Replace the old population with the offspring and the best individuals\n",
    "    top_individuals = tools.selBest(pop, elitism_size)\n",
    "    pop[:] = offspring + top_individuals\n",
    "    # Update the statistics and logbook\n",
    "    record = stats.compile(pop)\n",
    "    logbook.record(gen=gen, evals=len(pop), **record)\n",
    "    print(logbook.stream)\n",
    "# Get the best individual from the final population\n",
    "best_ind = tools.selBest(pop, 1)[0]\n",
    "print(\"\\nBest individual: {}\\nBest score: {}\".format(best_ind, best_ind.fitness.values[0]))"
   ],
   "metadata": {
    "collapsed": false,
    "ExecuteTime": {
     "start_time": "2023-03-31T23:50:51.457455Z",
     "end_time": "2023-03-31T23:51:13.690184Z"
    }
   }
  },
  {
   "cell_type": "code",
   "execution_count": null,
   "outputs": [],
   "source": [
    "best_coords = best_ind"
   ],
   "metadata": {
    "collapsed": false,
    "ExecuteTime": {
     "start_time": "2023-03-31T23:51:13.691182Z",
     "end_time": "2023-03-31T23:51:13.709807Z"
    }
   }
  },
  {
   "cell_type": "markdown",
   "source": [
    "### Test the best individual on val data"
   ],
   "metadata": {
    "collapsed": false
   }
  },
  {
   "cell_type": "code",
   "execution_count": null,
   "outputs": [],
   "source": [
    "alltrades = []\n",
    "for i in range(len(best_coords)):\n",
    "    r,c = best_coords[i]\n",
    "    _, mtrades = compute_stats(data,\n",
    "                               filter_trades_by_feature(base_trades, data,\n",
    "                                                        featformat(feature_names[r]),\n",
    "                                                        min_value=feat_bins[r][c-1],\n",
    "                                                        max_value=feat_bins[r][c]))\n",
    "    alltrades.append(mtrades)\n",
    "alltrades = combined_trades(alltrades, combine_method=combine_method)\n",
    "plt.plot(alltrades['profit'].cumsum())\n",
    "print(f'Profit factor: {get_profit_factor(alltrades):.5f}, Winners: {get_winner_pct(alltrades):.2f}%, Trades: {len(alltrades)}')"
   ],
   "metadata": {
    "collapsed": false,
    "ExecuteTime": {
     "start_time": "2023-03-31T23:51:13.707831Z",
     "end_time": "2023-03-31T23:51:13.892596Z"
    }
   }
  },
  {
   "cell_type": "markdown",
   "source": [
    "### Test the best individual on unseen data"
   ],
   "metadata": {
    "collapsed": false
   }
  },
  {
   "cell_type": "code",
   "execution_count": null,
   "outputs": [],
   "source": [
    "# Base test without the filter\n",
    "equity, _, test_trades = qbacktest(clf, scaler, data, skip_val=1, skip_test=0, quiet=1)"
   ],
   "metadata": {
    "collapsed": false,
    "ExecuteTime": {
     "start_time": "2023-03-31T23:51:13.893594Z",
     "end_time": "2023-03-31T23:51:14.377678Z"
    }
   }
  },
  {
   "cell_type": "code",
   "execution_count": null,
   "outputs": [],
   "source": [
    "# Test with the filter\n",
    "alltrades = []\n",
    "for r,c in best_coords:\n",
    "    _, mtrades = compute_stats(data, filter_trades_by_feature(test_trades, data, featformat(feature_names[r]), min_value=feat_bins[r,c-1], max_value=feat_bins[r,c]))\n",
    "    alltrades.append(mtrades)\n",
    "alltrades = combined_trades(alltrades, combine_method=combine_method)\n",
    "plt.plot(alltrades['profit'].cumsum())\n",
    "print(f'Profit factor: {get_profit_factor(alltrades):.5f}, Winners: {get_winner_pct(alltrades):.2f}%, Trades: {len(alltrades)}')"
   ],
   "metadata": {
    "collapsed": false,
    "ExecuteTime": {
     "start_time": "2023-03-31T23:51:14.377678Z",
     "end_time": "2023-03-31T23:51:14.489201Z"
    }
   }
  },
  {
   "cell_type": "code",
   "execution_count": null,
   "outputs": [],
   "source": [
    "alltrades[0:20]"
   ],
   "metadata": {
    "collapsed": false,
    "ExecuteTime": {
     "start_time": "2023-03-31T23:51:14.490200Z",
     "end_time": "2023-03-31T23:51:14.535487Z"
    }
   }
  },
  {
   "cell_type": "markdown",
   "source": [
    "### ------------------------------------------------------------------------------------------------------------"
   ],
   "metadata": {
    "collapsed": false
   }
  },
  {
   "cell_type": "code",
   "execution_count": null,
   "outputs": [],
   "source": [],
   "metadata": {
    "collapsed": false,
    "ExecuteTime": {
     "start_time": "2023-03-31T23:51:14.505708Z",
     "end_time": "2023-03-31T23:51:14.543437Z"
    }
   }
  },
  {
   "cell_type": "code",
   "execution_count": null,
   "outputs": [],
   "source": [],
   "metadata": {
    "collapsed": false,
    "ExecuteTime": {
     "start_time": "2023-03-31T23:51:14.521664Z",
     "end_time": "2023-03-31T23:51:14.566876Z"
    }
   }
  },
  {
   "cell_type": "code",
   "execution_count": null,
   "outputs": [],
   "source": [],
   "metadata": {
    "collapsed": false,
    "ExecuteTime": {
     "start_time": "2023-03-31T23:51:14.537454Z",
     "end_time": "2023-03-31T23:51:14.587882Z"
    }
   }
  },
  {
   "cell_type": "code",
   "execution_count": null,
   "outputs": [],
   "source": [],
   "metadata": {
    "collapsed": false,
    "ExecuteTime": {
     "start_time": "2023-03-31T23:51:14.553528Z",
     "end_time": "2023-03-31T23:51:14.596858Z"
    }
   }
  },
  {
   "cell_type": "code",
   "execution_count": null,
   "metadata": {
    "ExecuteTime": {
     "start_time": "2023-03-31T23:51:14.568873Z",
     "end_time": "2023-03-31T23:51:14.596858Z"
    }
   },
   "outputs": [],
   "source": []
  },
  {
   "cell_type": "code",
   "execution_count": null,
   "metadata": {
    "ExecuteTime": {
     "start_time": "2023-03-31T23:51:14.584891Z",
     "end_time": "2023-03-31T23:51:14.607829Z"
    }
   },
   "outputs": [],
   "source": []
  }
 ],
 "metadata": {
  "colab": {
   "provenance": []
  },
  "kernelspec": {
   "display_name": "Python 3 (ipykernel)",
   "language": "python",
   "name": "python3"
  },
  "language_info": {
   "codemirror_mode": {
    "name": "ipython",
    "version": 3
   },
   "file_extension": ".py",
   "mimetype": "text/x-python",
   "name": "python",
   "nbconvert_exporter": "python",
   "pygments_lexer": "ipython3",
   "version": "3.8.10"
  },
  "pycharm": {
   "stem_cell": {
    "cell_type": "raw",
    "metadata": {
     "collapsed": false
    },
    "source": []
   }
  },
  "toc": {
   "base_numbering": 1,
   "nav_menu": {},
   "number_sections": true,
   "sideBar": true,
   "skip_h1_title": false,
   "title_cell": "Table of Contents",
   "title_sidebar": "Contents",
   "toc_cell": false,
   "toc_position": {
    "height": "calc(100% - 180px)",
    "left": "10px",
    "top": "150px",
    "width": "165px"
   },
   "toc_section_display": true,
   "toc_window_display": true
  }
 },
 "nbformat": 4,
 "nbformat_minor": 1
}
