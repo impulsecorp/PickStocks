{
 "cells": [
  {
   "cell_type": "markdown",
   "metadata": {},
   "source": [
    "### ------------------------------------------------------------------------------------------------------------"
   ]
  },
  {
   "cell_type": "code",
   "execution_count": null,
   "metadata": {
    "id": "LTSDSXZTURm5",
    "ExecuteTime": {
     "start_time": "2023-04-01T02:39:16.957101Z",
     "end_time": "2023-04-01T02:39:17.173522Z"
    }
   },
   "outputs": [],
   "source": [
    "import os\n",
    "\n",
    "if 'COLAB_GPU' in os.environ:\n",
    "    !git clone https://github.com/impulsecorp/PickStocks.git\n",
    "    !mv PickStocks/*.py .\n",
    "    !mv PickStocks/data .\n",
    "    !pip install -U -qq -r PickStocks/requirements.txt"
   ]
  },
  {
   "cell_type": "code",
   "execution_count": null,
   "metadata": {
    "id": "rqKDcXZB4tNG",
    "ExecuteTime": {
     "start_time": "2023-04-01T02:39:16.976051Z",
     "end_time": "2023-04-01T02:39:19.434788Z"
    }
   },
   "outputs": [],
   "source": [
    "import warnings\n",
    "warnings.filterwarnings(\"ignore\")\n",
    "import system\n",
    "from system import *\n",
    "# small hack to prevent Colab error\n",
    "try:\n",
    "    from datablock import *\n",
    "except:\n",
    "    from datablock import *\n",
    "from deap import base, creator, tools, algorithms\n",
    "seed"
   ]
  },
  {
   "cell_type": "code",
   "execution_count": null,
   "metadata": {
    "ExecuteTime": {
     "start_time": "2023-04-01T02:39:19.435785Z",
     "end_time": "2023-04-01T02:39:19.481322Z"
    }
   },
   "outputs": [],
   "source": [
    "%pylab inline"
   ]
  },
  {
   "cell_type": "markdown",
   "metadata": {},
   "source": [
    "### Setup"
   ]
  },
  {
   "cell_type": "code",
   "execution_count": null,
   "metadata": {
    "ExecuteTime": {
     "start_time": "2023-04-01T02:34:46.538096Z",
     "end_time": "2023-04-01T02:34:47.058820Z"
    }
   },
   "outputs": [],
   "source": [
    "data_timeperiod = 'D'\n",
    "data = get_data('SPY', period=data_timeperiod, nrows=None)\n",
    "data = procdata_lite(data)"
   ]
  },
  {
   "cell_type": "code",
   "execution_count": null,
   "metadata": {
    "ExecuteTime": {
     "start_time": "2023-04-01T02:34:47.060331Z",
     "end_time": "2023-04-01T02:34:47.105643Z"
    }
   },
   "outputs": [],
   "source": [
    "# for inspectiion\n",
    "print(data.shape)\n",
    "data.head()"
   ]
  },
  {
   "cell_type": "markdown",
   "source": [
    "### ------------------------------------------------------------------------------------------------------------"
   ],
   "metadata": {
    "collapsed": false
   }
  },
  {
   "cell_type": "markdown",
   "source": [
    "### Parameters"
   ],
   "metadata": {
    "collapsed": false
   }
  },
  {
   "cell_type": "code",
   "execution_count": null,
   "metadata": {
    "ExecuteTime": {
     "start_time": "2023-04-01T02:34:47.106663Z",
     "end_time": "2023-04-01T02:34:47.151836Z"
    }
   },
   "outputs": [],
   "source": [
    "system.train_set_end = 0.5 # percentage point specifying the training set end point (1.0 means all data is training set)\n",
    "system.val_set_end = 0.75    # percentage point specifying the validation set end point (1.0 means no test set)\n",
    "system.balance_data = 1\n",
    "\n",
    "system.multiclass = 0\n",
    "system.multiclass_move_threshold = 1.0\n",
    "\n",
    "combine_method = 'and' # whether to combine the strategies with 'and' or 'or'\n",
    "multi_objective = 1 # whether to use multiple objectives (NSGA-2) or not\n",
    "\n",
    "individual_size = 3 # number of strategies to combine for each genome\n",
    "eval_min_trades = 50 # minumum number of trades to be eligible for reproduction"
   ]
  },
  {
   "cell_type": "code",
   "execution_count": null,
   "outputs": [],
   "source": [
    "# EA Parameters\n",
    "pop_size = 128\n",
    "num_generations = 20\n",
    "crossover_prob = 0.8\n",
    "mutation_prob = 0.2\n",
    "mutation_prob_gene = 0.25\n",
    "mutation_prob_gene_hard = 0.1\n",
    "elitism_size = 1\n",
    "\n",
    "winners_fitness_weight = 1.0\n",
    "pf_fitness_weight = 1.0"
   ],
   "metadata": {
    "collapsed": false,
    "ExecuteTime": {
     "start_time": "2023-04-01T02:34:47.121745Z",
     "end_time": "2023-04-01T02:34:47.183256Z"
    }
   }
  },
  {
   "cell_type": "markdown",
   "source": [
    "### ------------------------------------------------------------------------------------------------------------"
   ],
   "metadata": {
    "collapsed": false
   }
  },
  {
   "cell_type": "markdown",
   "source": [
    "### LogisticRegression base classifier"
   ],
   "metadata": {
    "collapsed": false
   }
  },
  {
   "cell_type": "code",
   "execution_count": null,
   "outputs": [],
   "source": [
    "# Train LogisticRegression classifier on train data\n",
    "clf, scaler = train_classifier(LogisticRegression, data)"
   ],
   "metadata": {
    "collapsed": false,
    "ExecuteTime": {
     "start_time": "2023-04-01T02:34:47.137874Z",
     "end_time": "2023-04-01T02:34:47.375280Z"
    }
   }
  },
  {
   "cell_type": "code",
   "execution_count": null,
   "outputs": [],
   "source": [
    "# Test on val data\n",
    "equity, pf, base_trades = qbacktest(clf, scaler, data)"
   ],
   "metadata": {
    "collapsed": false,
    "ExecuteTime": {
     "start_time": "2023-04-01T02:34:47.344825Z",
     "end_time": "2023-04-01T02:34:48.048904Z"
    }
   }
  },
  {
   "cell_type": "code",
   "execution_count": null,
   "outputs": [],
   "source": [
    "base_trades.head()"
   ],
   "metadata": {
    "collapsed": false,
    "ExecuteTime": {
     "start_time": "2023-04-01T02:34:48.049885Z",
     "end_time": "2023-04-01T02:34:48.094764Z"
    }
   }
  },
  {
   "cell_type": "markdown",
   "source": [
    "### ------------------------------------------------------------------------------------------------------------"
   ],
   "metadata": {
    "collapsed": false
   }
  },
  {
   "cell_type": "markdown",
   "source": [
    "### Obtain all individual startegies (genes) to combine and their stats"
   ],
   "metadata": {
    "collapsed": false
   }
  },
  {
   "cell_type": "code",
   "execution_count": null,
   "outputs": [],
   "source": [
    "all_coords, feature_names, feat_bins, df = compute_feature_matrix(data, base_trades,\n",
    "                                        min_pf=0.1,\n",
    "                                        min_trades=10,\n",
    "                                        max_trades=10000,\n",
    "                                        topn=None)\n",
    "df"
   ],
   "metadata": {
    "collapsed": false,
    "ExecuteTime": {
     "start_time": "2023-04-01T02:34:48.066840Z",
     "end_time": "2023-04-01T02:34:49.443501Z"
    }
   }
  },
  {
   "cell_type": "markdown",
   "source": [
    "### Evolutionary algorithm setup"
   ],
   "metadata": {
    "collapsed": false
   }
  },
  {
   "cell_type": "code",
   "execution_count": null,
   "outputs": [],
   "source": [
    "def evaluate(coord_list):\n",
    "    alltrades = []\n",
    "    for i in range(len(coord_list)):\n",
    "        try:\n",
    "            r,c = coord_list[i]\n",
    "            _, mtrades = compute_stats(data,\n",
    "                                       filter_trades_by_feature(base_trades, data,\n",
    "                                                                featformat(feature_names[r]),\n",
    "                                                                min_value=feat_bins[r][c-1],\n",
    "                                                                max_value=feat_bins[r][c]))\n",
    "            alltrades.append(mtrades)\n",
    "        except Exception as ex:\n",
    "            print(ex)\n",
    "            print(i)\n",
    "            print(coord_list)\n",
    "    alltrades = combined_trades(alltrades, combine_method=combine_method)\n",
    "    if len(alltrades) >= eval_min_trades:\n",
    "        if multi_objective:\n",
    "            return float(get_winner_pct(alltrades)), float(get_profit_factor(alltrades)),\n",
    "        else:\n",
    "            return float(get_winner_pct(alltrades)),\n",
    "    else:\n",
    "        if multi_objective:\n",
    "            return 0.0, 0.0,\n",
    "        else:\n",
    "            return 0.0,"
   ],
   "metadata": {
    "collapsed": false,
    "ExecuteTime": {
     "start_time": "2023-04-01T02:34:49.446492Z",
     "end_time": "2023-04-01T02:34:49.463447Z"
    }
   }
  },
  {
   "cell_type": "code",
   "execution_count": null,
   "outputs": [],
   "source": [
    "def create_individual():\n",
    "    return rnd.sample(all_coords, individual_size)\n",
    "\n",
    "def create_population(n):\n",
    "    return [creator.Individual(create_individual()) for _ in range(n)]\n",
    "\n",
    "def custom_mutation(individual):\n",
    "    for i in range(len(individual)):\n",
    "        if rnd.random() < mutation_prob_gene:\n",
    "            if rnd.random() < mutation_prob_gene_hard:\n",
    "                individual[i] = rnd.choice(all_coords)\n",
    "            else:\n",
    "                gene_row, gene_col = individual[i]\n",
    "                if rnd.random() < 0.5:\n",
    "                    gene_col = gene_col + 1\n",
    "                else:\n",
    "                    gene_col = gene_col - 1\n",
    "                gene_col = np.clip(gene_col, 0, len(feat_bins[gene_row])-1)\n",
    "                individual[i] = (gene_row, gene_col)\n",
    "\n",
    "    return individual,\n",
    "\n",
    "creator.create(\"FitnessMax\", base.Fitness, weights=(winners_fitness_weight, pf_fitness_weight) if multi_objective else (winners_fitness_weight,))\n",
    "creator.create(\"Individual\", list, fitness=creator.FitnessMax)\n",
    "toolbox = base.Toolbox()\n",
    "# Register individual and population creation functions\n",
    "toolbox.register(\"individual\", create_individual)\n",
    "toolbox.register(\"population\", create_population)\n",
    "# Register genetic operators\n",
    "toolbox.register(\"mate\", tools.cxTwoPoint)\n",
    "toolbox.register(\"mutate\", custom_mutation)\n",
    "toolbox.register(\"select\", tools.selNSGA2 if multi_objective else tools.selBest)\n",
    "# Register the fitness function\n",
    "toolbox.register(\"evaluate\", lambda x: evaluate(x))"
   ],
   "metadata": {
    "collapsed": false,
    "ExecuteTime": {
     "start_time": "2023-04-01T02:34:49.464444Z",
     "end_time": "2023-04-01T02:34:49.489594Z"
    }
   }
  },
  {
   "cell_type": "markdown",
   "source": [
    "### ------------------------------------------------------------------------------------------------------------"
   ],
   "metadata": {
    "collapsed": false
   }
  },
  {
   "cell_type": "markdown",
   "source": [
    "### Evolutionary algorithm"
   ],
   "metadata": {
    "collapsed": false
   }
  },
  {
   "cell_type": "code",
   "execution_count": null,
   "outputs": [],
   "source": [
    "# Create initial population\n",
    "pop = toolbox.population(n=pop_size)\n",
    "# Evaluate the initial population\n",
    "fitnesses = list(map(toolbox.evaluate, pop))\n",
    "for ind, fit in zip(pop, fitnesses):\n",
    "    ind.fitness.values = fit\n",
    "# Set up the statistics and logbook\n",
    "stats = tools.Statistics(lambda ind: np.sum(ind.fitness.values))\n",
    "stats.register(\"avg\", np.mean)\n",
    "stats.register(\"std\", np.std)\n",
    "stats.register(\"min\", np.min)\n",
    "stats.register(\"max\", np.max)\n",
    "logbook = tools.Logbook()\n",
    "logbook.header = \"gen\", \"evals\", \"std\", \"min\", \"avg\", \"max\"\n",
    "# Record initial population statistics\n",
    "record = stats.compile(pop)\n",
    "logbook.record(gen=0, evals=len(pop), **record)\n",
    "print(logbook.stream)\n",
    "# Run the genetic algorithm\n",
    "best_ever = 0.0\n",
    "cbest = None\n",
    "for gen in range(1, num_generations + 1):\n",
    "\n",
    "    offspring = toolbox.select(pop, len(pop))\n",
    "    offspring = list(offspring)\n",
    "    # Apply crossover and mutation on the offspring\n",
    "    for child1, child2 in zip(offspring[::2], offspring[1::2]):\n",
    "        if rnd.random() < crossover_prob:\n",
    "            toolbox.mate(child1, child2)\n",
    "            del child1.fitness.values\n",
    "            del child2.fitness.values\n",
    "    for mutant in offspring:\n",
    "        if rnd.random() < mutation_prob:\n",
    "            toolbox.mutate(mutant)\n",
    "            del mutant.fitness.values\n",
    "    # Evaluate offspring\n",
    "    fitnesses = list(map(toolbox.evaluate, offspring))\n",
    "    for ind, fit in zip(offspring, fitnesses):\n",
    "        ind.fitness.values = fit\n",
    "    # keep the best ever found\n",
    "    ctop = tools.selBest(pop, 1)[0]\n",
    "    if np.sum(ctop.fitness.values) > best_ever:\n",
    "        print('NEW RECORD:', np.sum(ctop.fitness.values))\n",
    "        cbest = deepcopy(ctop)\n",
    "        best_ever = np.sum(ctop.fitness.values)\n",
    "    # Replace the old population with the offspring and the best individuals\n",
    "    pop[:] = offspring\n",
    "    # Update the statistics and logbook\n",
    "    record = stats.compile(pop)\n",
    "    logbook.record(gen=gen, evals=len(pop), **record)\n",
    "    print(logbook.stream)\n",
    "\n",
    "# the best individual found\n",
    "best_ind = cbest\n",
    "print(\"\\nBest individual: {}\\nBest score: {}\".format(best_ind, np.sum(best_ind.fitness.values)))"
   ],
   "metadata": {
    "collapsed": false,
    "ExecuteTime": {
     "start_time": "2023-04-01T02:34:49.480592Z",
     "end_time": "2023-04-01T02:35:12.737259Z"
    }
   }
  },
  {
   "cell_type": "code",
   "execution_count": null,
   "outputs": [],
   "source": [
    "# Description of the best strategy (feature name [ range where it can trade ])\n",
    "for i in range(len(best_ind)):\n",
    "    r,c = best_ind[i]\n",
    "    print(feature_names[r], f'[{feat_bins[r][c-1]:.5f} .. {feat_bins[r][c]:.5f}]')"
   ],
   "metadata": {
    "collapsed": false,
    "ExecuteTime": {
     "start_time": "2023-04-01T02:35:12.739254Z",
     "end_time": "2023-04-01T02:35:12.783212Z"
    }
   }
  },
  {
   "cell_type": "code",
   "execution_count": null,
   "outputs": [],
   "source": [
    "best_coords = best_ind"
   ],
   "metadata": {
    "collapsed": false,
    "ExecuteTime": {
     "start_time": "2023-04-01T02:35:12.754289Z",
     "end_time": "2023-04-01T02:35:12.788198Z"
    }
   }
  },
  {
   "cell_type": "markdown",
   "source": [
    "### ------------------------------------------------------------------------------------------------------------"
   ],
   "metadata": {
    "collapsed": false
   }
  },
  {
   "cell_type": "markdown",
   "source": [
    "### Test the best individual on val data"
   ],
   "metadata": {
    "collapsed": false
   }
  },
  {
   "cell_type": "code",
   "execution_count": null,
   "outputs": [],
   "source": [
    "alltrades = []\n",
    "for i in range(len(best_coords)):\n",
    "    r,c = best_coords[i]\n",
    "    _, mtrades = compute_stats(data,\n",
    "                               filter_trades_by_feature(base_trades, data,\n",
    "                                                        featformat(feature_names[r]),\n",
    "                                                        min_value=feat_bins[r][c-1],\n",
    "                                                        max_value=feat_bins[r][c]))\n",
    "    alltrades.append(mtrades)\n",
    "alltrades = combined_trades(alltrades, combine_method=combine_method)\n",
    "plt.plot(alltrades['profit'].cumsum())\n",
    "print(f'Profit factor: {get_profit_factor(alltrades):.5f}, Winners: {get_winner_pct(alltrades):.2f}%, Trades: {len(alltrades)}')"
   ],
   "metadata": {
    "collapsed": false,
    "ExecuteTime": {
     "start_time": "2023-04-01T02:35:12.771254Z",
     "end_time": "2023-04-01T02:35:12.989200Z"
    }
   }
  },
  {
   "cell_type": "markdown",
   "source": [
    "### Test the best individual on unseen data"
   ],
   "metadata": {
    "collapsed": false
   }
  },
  {
   "cell_type": "code",
   "execution_count": null,
   "outputs": [],
   "source": [
    "# Base test without the filter\n",
    "equity, _, test_trades = qbacktest(clf, scaler, data, skip_val=1, skip_test=0, quiet=1)"
   ],
   "metadata": {
    "collapsed": false,
    "ExecuteTime": {
     "start_time": "2023-04-01T02:35:12.960310Z",
     "end_time": "2023-04-01T02:35:13.464016Z"
    }
   }
  },
  {
   "cell_type": "code",
   "execution_count": null,
   "outputs": [],
   "source": [
    "# Test with the filter\n",
    "alltrades = []\n",
    "for r,c in best_coords:\n",
    "    _, mtrades = compute_stats(data,\n",
    "                               filter_trades_by_feature(test_trades, data,\n",
    "                                                        featformat(feature_names[r]),\n",
    "                                                        min_value=feat_bins[r][c-1],\n",
    "                                                        max_value=feat_bins[r][c]))\n",
    "    alltrades.append(mtrades)\n",
    "alltrades = combined_trades(alltrades, combine_method=combine_method)\n",
    "plt.plot(alltrades['profit'].cumsum())\n",
    "print(f'Profit factor: {get_profit_factor(alltrades):.5f}, Winners: {get_winner_pct(alltrades):.2f}%, Trades: {len(alltrades)}')"
   ],
   "metadata": {
    "collapsed": false,
    "ExecuteTime": {
     "start_time": "2023-04-01T02:35:13.464016Z",
     "end_time": "2023-04-01T02:35:13.573829Z"
    }
   }
  },
  {
   "cell_type": "code",
   "execution_count": null,
   "outputs": [],
   "source": [
    "alltrades[0:20]"
   ],
   "metadata": {
    "collapsed": false,
    "ExecuteTime": {
     "start_time": "2023-04-01T02:35:13.574826Z",
     "end_time": "2023-04-01T02:35:13.619176Z"
    }
   }
  },
  {
   "cell_type": "markdown",
   "source": [
    "### ------------------------------------------------------------------------------------------------------------"
   ],
   "metadata": {
    "collapsed": false
   }
  },
  {
   "cell_type": "code",
   "execution_count": null,
   "outputs": [],
   "source": [],
   "metadata": {
    "collapsed": false,
    "ExecuteTime": {
     "start_time": "2023-04-01T02:35:13.589842Z",
     "end_time": "2023-04-01T02:35:13.619176Z"
    }
   }
  },
  {
   "cell_type": "code",
   "execution_count": null,
   "outputs": [],
   "source": [],
   "metadata": {
    "collapsed": false,
    "ExecuteTime": {
     "start_time": "2023-04-01T02:35:13.605798Z",
     "end_time": "2023-04-01T02:35:13.648989Z"
    }
   }
  },
  {
   "cell_type": "code",
   "execution_count": null,
   "outputs": [],
   "source": [],
   "metadata": {
    "collapsed": false,
    "ExecuteTime": {
     "start_time": "2023-04-01T02:35:13.621171Z",
     "end_time": "2023-04-01T02:35:13.675881Z"
    }
   }
  },
  {
   "cell_type": "code",
   "execution_count": null,
   "outputs": [],
   "source": [],
   "metadata": {
    "collapsed": false,
    "ExecuteTime": {
     "start_time": "2023-04-01T02:35:13.636131Z",
     "end_time": "2023-04-01T02:35:13.688847Z"
    }
   }
  },
  {
   "cell_type": "code",
   "execution_count": null,
   "metadata": {
    "ExecuteTime": {
     "start_time": "2023-04-01T02:35:13.649951Z",
     "end_time": "2023-04-01T02:35:13.688847Z"
    }
   },
   "outputs": [],
   "source": []
  },
  {
   "cell_type": "code",
   "execution_count": null,
   "metadata": {
    "ExecuteTime": {
     "start_time": "2023-04-01T02:35:13.664911Z",
     "end_time": "2023-04-01T02:35:13.690841Z"
    }
   },
   "outputs": [],
   "source": []
  }
 ],
 "metadata": {
  "colab": {
   "provenance": []
  },
  "kernelspec": {
   "display_name": "Python 3 (ipykernel)",
   "language": "python",
   "name": "python3"
  },
  "language_info": {
   "codemirror_mode": {
    "name": "ipython",
    "version": 3
   },
   "file_extension": ".py",
   "mimetype": "text/x-python",
   "name": "python",
   "nbconvert_exporter": "python",
   "pygments_lexer": "ipython3",
   "version": "3.8.10"
  },
  "pycharm": {
   "stem_cell": {
    "cell_type": "raw",
    "metadata": {
     "collapsed": false
    },
    "source": []
   }
  },
  "toc": {
   "base_numbering": 1,
   "nav_menu": {},
   "number_sections": true,
   "sideBar": true,
   "skip_h1_title": false,
   "title_cell": "Table of Contents",
   "title_sidebar": "Contents",
   "toc_cell": false,
   "toc_position": {
    "height": "calc(100% - 180px)",
    "left": "10px",
    "top": "150px",
    "width": "165px"
   },
   "toc_section_display": true,
   "toc_window_display": true
  }
 },
 "nbformat": 4,
 "nbformat_minor": 1
}
