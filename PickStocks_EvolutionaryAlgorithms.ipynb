{
 "cells": [
  {
   "cell_type": "markdown",
   "metadata": {},
   "source": [
    "### ------------------------------------------------------------------------------------------------------------"
   ]
  },
  {
   "cell_type": "code",
   "execution_count": null,
   "metadata": {
    "id": "LTSDSXZTURm5",
    "ExecuteTime": {
     "start_time": "2023-04-01T05:30:24.110957Z",
     "end_time": "2023-04-01T05:30:24.340344Z"
    }
   },
   "outputs": [],
   "source": [
    "import os\n",
    "\n",
    "if 'COLAB_GPU' in os.environ:\n",
    "    !git clone https://github.com/impulsecorp/PickStocks.git\n",
    "    !mv PickStocks/*.py .\n",
    "    !mv PickStocks/data .\n",
    "    !pip install -U -qq -r PickStocks/requirements.txt"
   ]
  },
  {
   "cell_type": "code",
   "execution_count": null,
   "metadata": {
    "id": "rqKDcXZB4tNG",
    "ExecuteTime": {
     "start_time": "2023-04-01T05:30:24.115945Z",
     "end_time": "2023-04-01T05:30:26.582230Z"
    }
   },
   "outputs": [],
   "source": [
    "import warnings\n",
    "warnings.filterwarnings(\"ignore\")\n",
    "import system\n",
    "from system import *\n",
    "# small hack to prevent Colab error\n",
    "try:\n",
    "    from datablock import *\n",
    "except:\n",
    "    from datablock import *\n",
    "seed"
   ]
  },
  {
   "cell_type": "code",
   "execution_count": null,
   "metadata": {
    "ExecuteTime": {
     "start_time": "2023-04-01T05:30:26.584226Z",
     "end_time": "2023-04-01T05:30:26.607270Z"
    }
   },
   "outputs": [],
   "source": [
    "%pylab inline"
   ]
  },
  {
   "cell_type": "markdown",
   "metadata": {},
   "source": [
    "### Setup"
   ]
  },
  {
   "cell_type": "code",
   "execution_count": null,
   "metadata": {
    "ExecuteTime": {
     "start_time": "2023-04-01T05:30:26.600316Z",
     "end_time": "2023-04-01T05:30:27.493898Z"
    }
   },
   "outputs": [],
   "source": [
    "data_timeperiod = 'D'\n",
    "data = get_data('SPY', period=data_timeperiod, nrows=None)\n",
    "data = procdata_lite(data)"
   ]
  },
  {
   "cell_type": "code",
   "execution_count": null,
   "metadata": {
    "ExecuteTime": {
     "start_time": "2023-04-01T05:30:27.119900Z",
     "end_time": "2023-04-01T05:30:27.493898Z"
    }
   },
   "outputs": [],
   "source": [
    "# for inspectiion\n",
    "print(data.shape)\n",
    "data.head()"
   ]
  },
  {
   "cell_type": "markdown",
   "source": [
    "### ------------------------------------------------------------------------------------------------------------"
   ],
   "metadata": {
    "collapsed": false
   }
  },
  {
   "cell_type": "markdown",
   "source": [
    "### Parameters"
   ],
   "metadata": {
    "collapsed": false
   }
  },
  {
   "cell_type": "code",
   "execution_count": null,
   "metadata": {
    "ExecuteTime": {
     "start_time": "2023-04-01T05:30:27.167771Z",
     "end_time": "2023-04-01T05:30:27.493898Z"
    }
   },
   "outputs": [],
   "source": [
    "system.train_set_end = 0.5 # percentage point specifying the training set end point (1.0 means all data is training set)\n",
    "system.val_set_end = 0.75    # percentage point specifying the validation set end point (1.0 means no test set)\n",
    "system.balance_data = 1\n",
    "\n",
    "system.multiclass = 0\n",
    "system.multiclass_move_threshold = 1.0\n",
    "\n",
    "combine_method = 'and' # whether to combine the strategies with 'and' or 'or'\n",
    "multi_objective = 1 # whether to use multiple objectives (NSGA-2) or not\n",
    "\n",
    "individual_size = 3 # number of strategies to combine for each genome\n",
    "eval_min_trades = 50 # minumum number of trades to be eligible for reproduction"
   ]
  },
  {
   "cell_type": "code",
   "execution_count": null,
   "outputs": [],
   "source": [
    "# EA Parameters\n",
    "pop_size = 128\n",
    "num_generations = 250\n",
    "crossover_prob = 0.8\n",
    "mutation_prob = 0.2\n",
    "mutation_prob_gene = 0.2\n",
    "mutation_prob_gene_hard = 0.05\n",
    "\n",
    "avg_profit_fitness_weight = 1.0\n",
    "winners_fitness_weight = 1.0\n",
    "pf_fitness_weight = 1.0"
   ],
   "metadata": {
    "collapsed": false,
    "ExecuteTime": {
     "start_time": "2023-04-01T05:30:27.183729Z",
     "end_time": "2023-04-01T05:30:27.493898Z"
    }
   }
  },
  {
   "cell_type": "markdown",
   "source": [
    "### ------------------------------------------------------------------------------------------------------------"
   ],
   "metadata": {
    "collapsed": false
   }
  },
  {
   "cell_type": "markdown",
   "source": [
    "### LGBMClassifier base classifier"
   ],
   "metadata": {
    "collapsed": false
   }
  },
  {
   "cell_type": "code",
   "execution_count": null,
   "outputs": [],
   "source": [
    "# Train LogisticRegression classifier on train data\n",
    "clf, scaler = train_classifier(LGBMClassifier, data)"
   ],
   "metadata": {
    "collapsed": false,
    "ExecuteTime": {
     "start_time": "2023-04-01T05:30:27.198688Z",
     "end_time": "2023-04-01T05:30:27.567701Z"
    }
   }
  },
  {
   "cell_type": "code",
   "execution_count": null,
   "outputs": [],
   "source": [
    "# Test on val data\n",
    "equity, pf, base_trades = qbacktest(clf, scaler, data)"
   ],
   "metadata": {
    "collapsed": false,
    "ExecuteTime": {
     "start_time": "2023-04-01T05:30:27.514842Z",
     "end_time": "2023-04-01T05:30:28.550076Z"
    }
   }
  },
  {
   "cell_type": "code",
   "execution_count": null,
   "outputs": [],
   "source": [
    "base_trades.head()"
   ],
   "metadata": {
    "collapsed": false,
    "ExecuteTime": {
     "start_time": "2023-04-01T05:30:28.550076Z",
     "end_time": "2023-04-01T05:30:28.584982Z"
    }
   }
  },
  {
   "cell_type": "markdown",
   "source": [
    "### ------------------------------------------------------------------------------------------------------------"
   ],
   "metadata": {
    "collapsed": false
   }
  },
  {
   "cell_type": "markdown",
   "source": [
    "### Obtain all individual startegies (genes) to combine and their stats"
   ],
   "metadata": {
    "collapsed": false
   }
  },
  {
   "cell_type": "code",
   "execution_count": null,
   "outputs": [],
   "source": [
    "all_coords, feature_names, feat_bins, df = compute_feature_matrix(data, base_trades,\n",
    "                                        min_pf=0.1,\n",
    "                                        min_trades=10,\n",
    "                                        max_trades=10000,\n",
    "                                        topn=None)\n",
    "df"
   ],
   "metadata": {
    "collapsed": false,
    "ExecuteTime": {
     "start_time": "2023-04-01T05:30:28.568029Z",
     "end_time": "2023-04-01T05:30:29.872568Z"
    }
   }
  },
  {
   "cell_type": "markdown",
   "source": [
    "### Evolutionary algorithm setup"
   ],
   "metadata": {
    "collapsed": false
   }
  },
  {
   "cell_type": "code",
   "execution_count": null,
   "outputs": [],
   "source": [
    "worst_possible_fitness = -999999.0"
   ],
   "metadata": {
    "collapsed": false,
    "ExecuteTime": {
     "start_time": "2023-04-01T05:30:29.873573Z",
     "end_time": "2023-04-01T05:30:29.892486Z"
    }
   }
  },
  {
   "cell_type": "code",
   "execution_count": null,
   "outputs": [],
   "source": [
    "def evaluate(genome):\n",
    "    return fitness_function(get_genome_alltrades_binned(data, genome, base_trades, feature_names, feat_bins, combine_method=combine_method),\n",
    "                            eval_min_trades=eval_min_trades, multi_objective=multi_objective, worst_possible_fitness=worst_possible_fitness)"
   ],
   "metadata": {
    "collapsed": false,
    "ExecuteTime": {
     "start_time": "2023-04-01T05:30:29.890492Z",
     "end_time": "2023-04-01T05:30:29.933377Z"
    }
   }
  },
  {
   "cell_type": "code",
   "execution_count": null,
   "outputs": [],
   "source": [
    "def create_individual():\n",
    "    return rnd.sample(all_coords, individual_size)\n",
    "\n",
    "def create_population(n):\n",
    "    return [creator.Individual(create_individual()) for _ in range(n)]\n",
    "\n",
    "def custom_mutation(individual):\n",
    "    for i in range(len(individual)):\n",
    "        if rnd.random() < mutation_prob_gene:\n",
    "            if rnd.random() < mutation_prob_gene_hard:\n",
    "                individual[i] = rnd.choice(all_coords)\n",
    "            else:\n",
    "                gene_row, gene_col = individual[i]\n",
    "                if rnd.random() < 0.5:\n",
    "                    gene_col = gene_col + 1\n",
    "                else:\n",
    "                    gene_col = gene_col - 1\n",
    "                gene_col = np.clip(gene_col, 1, len(feat_bins[gene_row])-1)\n",
    "                individual[i] = (gene_row, gene_col)\n",
    "\n",
    "    return individual,\n",
    "\n",
    "weights = (avg_profit_fitness_weight, winners_fitness_weight, pf_fitness_weight) if multi_objective else (avg_profit_fitness_weight,)\n",
    "creator.create(\"FitnessMax\", base.Fitness, weights=weights)\n",
    "creator.create(\"Individual\", list, fitness=creator.FitnessMax)\n",
    "toolbox = base.Toolbox()\n",
    "# Register individual and population creation functions\n",
    "toolbox.register(\"individual\", create_individual)\n",
    "toolbox.register(\"population\", create_population)\n",
    "# Register genetic operators\n",
    "toolbox.register(\"mate\", tools.cxTwoPoint)\n",
    "toolbox.register(\"mutate\", custom_mutation)\n",
    "toolbox.register(\"select\", tools.selNSGA2 if multi_objective else tools.selBest)\n",
    "# Register the fitness function\n",
    "toolbox.register(\"evaluate\", lambda x: evaluate(x))"
   ],
   "metadata": {
    "collapsed": false,
    "ExecuteTime": {
     "start_time": "2023-04-01T05:30:29.964293Z",
     "end_time": "2023-04-01T05:30:29.986236Z"
    }
   }
  },
  {
   "cell_type": "markdown",
   "source": [
    "### ------------------------------------------------------------------------------------------------------------"
   ],
   "metadata": {
    "collapsed": false
   }
  },
  {
   "cell_type": "markdown",
   "source": [
    "### Evolutionary algorithm"
   ],
   "metadata": {
    "collapsed": false
   }
  },
  {
   "cell_type": "code",
   "execution_count": null,
   "outputs": [],
   "source": [
    "best_ind = run_evolution(pop_size, toolbox, num_generations, crossover_prob, mutation_prob, weights, worst_possible_fitness)"
   ],
   "metadata": {
    "collapsed": false,
    "ExecuteTime": {
     "start_time": "2023-04-01T05:30:29.984241Z",
     "end_time": "2023-04-01T05:31:11.431427Z"
    }
   }
  },
  {
   "cell_type": "code",
   "execution_count": null,
   "outputs": [],
   "source": [
    "# Description of the best strategy (feature name [ range where it can trade ])\n",
    "for i in range(len(best_ind)):\n",
    "    r,c = best_ind[i]\n",
    "    print(feature_names[r], f'[{feat_bins[r][c-1]:.5f} .. {feat_bins[r][c]:.5f}]')"
   ],
   "metadata": {
    "collapsed": false,
    "ExecuteTime": {
     "start_time": "2023-04-01T05:31:11.431427Z",
     "end_time": "2023-04-01T05:31:11.447384Z"
    }
   }
  },
  {
   "cell_type": "markdown",
   "source": [
    "### ------------------------------------------------------------------------------------------------------------"
   ],
   "metadata": {
    "collapsed": false
   }
  },
  {
   "cell_type": "markdown",
   "source": [
    "### Test the best individual on val data"
   ],
   "metadata": {
    "collapsed": false
   }
  },
  {
   "cell_type": "code",
   "execution_count": null,
   "outputs": [],
   "source": [
    "alltrades = get_genome_alltrades_binned(data, best_ind, base_trades, feature_names, feat_bins, combine_method=combine_method)\n",
    "plt.plot(alltrades['profit'].cumsum())\n",
    "print(f'Profit factor: {get_profit_factor(alltrades):.5f}, Winners: {get_winner_pct(alltrades):.2f}%, Trades: {len(alltrades)}')"
   ],
   "metadata": {
    "collapsed": false,
    "ExecuteTime": {
     "start_time": "2023-04-01T05:31:11.449379Z",
     "end_time": "2023-04-01T05:31:11.578035Z"
    }
   }
  },
  {
   "cell_type": "markdown",
   "source": [
    "### Test the best individual on unseen data"
   ],
   "metadata": {
    "collapsed": false
   }
  },
  {
   "cell_type": "code",
   "execution_count": null,
   "outputs": [],
   "source": [
    "# Base test without the filter\n",
    "*_, test_trades = qbacktest(clf, scaler, data, skip_val=1, skip_test=0, quiet=1)"
   ],
   "metadata": {
    "collapsed": false,
    "ExecuteTime": {
     "start_time": "2023-04-01T05:31:11.573048Z",
     "end_time": "2023-04-01T05:31:12.410809Z"
    }
   }
  },
  {
   "cell_type": "code",
   "execution_count": null,
   "outputs": [],
   "source": [
    "# Test with the filter\n",
    "alltrades = get_genome_alltrades_binned(data, best_ind, test_trades, feature_names, feat_bins, combine_method=combine_method)\n",
    "plt.plot(alltrades['profit'].cumsum())\n",
    "print(f'Profit factor: {get_profit_factor(alltrades):.5f}, Winners: {get_winner_pct(alltrades):.2f}%, Trades: {len(alltrades)}')"
   ],
   "metadata": {
    "collapsed": false,
    "ExecuteTime": {
     "start_time": "2023-04-01T05:31:12.412803Z",
     "end_time": "2023-04-01T05:31:12.556419Z"
    }
   }
  },
  {
   "cell_type": "code",
   "execution_count": null,
   "outputs": [],
   "source": [
    "alltrades[0:20]"
   ],
   "metadata": {
    "collapsed": false,
    "ExecuteTime": {
     "start_time": "2023-04-01T05:31:12.551433Z",
     "end_time": "2023-04-01T05:31:12.597332Z"
    }
   }
  },
  {
   "cell_type": "markdown",
   "source": [
    "### ------------------------------------------------------------------------------------------------------------"
   ],
   "metadata": {
    "collapsed": false
   }
  },
  {
   "cell_type": "code",
   "execution_count": null,
   "outputs": [],
   "source": [],
   "metadata": {
    "collapsed": false,
    "ExecuteTime": {
     "start_time": "2023-04-01T05:31:12.567390Z",
     "end_time": "2023-04-01T05:31:12.597332Z"
    }
   }
  },
  {
   "cell_type": "code",
   "execution_count": null,
   "outputs": [],
   "source": [],
   "metadata": {
    "collapsed": false,
    "ExecuteTime": {
     "start_time": "2023-04-01T05:31:12.583349Z",
     "end_time": "2023-04-01T05:31:12.627258Z"
    }
   }
  },
  {
   "cell_type": "code",
   "execution_count": null,
   "outputs": [],
   "source": [],
   "metadata": {
    "collapsed": false,
    "ExecuteTime": {
     "start_time": "2023-04-01T05:31:12.599351Z",
     "end_time": "2023-04-01T05:31:12.658149Z"
    }
   }
  },
  {
   "cell_type": "code",
   "execution_count": null,
   "outputs": [],
   "source": [],
   "metadata": {
    "collapsed": false,
    "ExecuteTime": {
     "start_time": "2023-04-01T05:31:12.614265Z",
     "end_time": "2023-04-01T05:31:12.669119Z"
    }
   }
  },
  {
   "cell_type": "code",
   "execution_count": null,
   "metadata": {
    "ExecuteTime": {
     "start_time": "2023-04-01T05:31:12.629226Z",
     "end_time": "2023-04-01T05:31:12.669119Z"
    }
   },
   "outputs": [],
   "source": []
  },
  {
   "cell_type": "code",
   "execution_count": null,
   "metadata": {
    "ExecuteTime": {
     "start_time": "2023-04-01T05:31:12.645184Z",
     "end_time": "2023-04-01T05:31:12.671114Z"
    }
   },
   "outputs": [],
   "source": []
  }
 ],
 "metadata": {
  "colab": {
   "provenance": []
  },
  "kernelspec": {
   "display_name": "Python 3 (ipykernel)",
   "language": "python",
   "name": "python3"
  },
  "language_info": {
   "codemirror_mode": {
    "name": "ipython",
    "version": 3
   },
   "file_extension": ".py",
   "mimetype": "text/x-python",
   "name": "python",
   "nbconvert_exporter": "python",
   "pygments_lexer": "ipython3",
   "version": "3.8.10"
  },
  "pycharm": {
   "stem_cell": {
    "cell_type": "raw",
    "metadata": {
     "collapsed": false
    },
    "source": []
   }
  },
  "toc": {
   "base_numbering": 1,
   "nav_menu": {},
   "number_sections": true,
   "sideBar": true,
   "skip_h1_title": false,
   "title_cell": "Table of Contents",
   "title_sidebar": "Contents",
   "toc_cell": false,
   "toc_position": {
    "height": "calc(100% - 180px)",
    "left": "10px",
    "top": "150px",
    "width": "165px"
   },
   "toc_section_display": true,
   "toc_window_display": true
  }
 },
 "nbformat": 4,
 "nbformat_minor": 1
}
