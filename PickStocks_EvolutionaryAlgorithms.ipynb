{
 "cells": [
  {
   "cell_type": "markdown",
   "metadata": {},
   "source": [
    "### ------------------------------------------------------------------------------------------------------------"
   ]
  },
  {
   "cell_type": "code",
   "execution_count": null,
   "metadata": {
    "id": "LTSDSXZTURm5",
    "ExecuteTime": {
     "start_time": "2023-04-01T03:29:15.778257Z",
     "end_time": "2023-04-01T03:29:16.034588Z"
    }
   },
   "outputs": [],
   "source": [
    "import os\n",
    "\n",
    "if 'COLAB_GPU' in os.environ:\n",
    "    !git clone https://github.com/impulsecorp/PickStocks.git\n",
    "    !mv PickStocks/*.py .\n",
    "    !mv PickStocks/data .\n",
    "    !pip install -U -qq -r PickStocks/requirements.txt"
   ]
  },
  {
   "cell_type": "code",
   "execution_count": null,
   "metadata": {
    "id": "rqKDcXZB4tNG",
    "ExecuteTime": {
     "start_time": "2023-04-01T03:29:15.789228Z",
     "end_time": "2023-04-01T03:29:18.160342Z"
    }
   },
   "outputs": [],
   "source": [
    "import warnings\n",
    "warnings.filterwarnings(\"ignore\")\n",
    "import system\n",
    "from system import *\n",
    "# small hack to prevent Colab error\n",
    "try:\n",
    "    from datablock import *\n",
    "except:\n",
    "    from datablock import *\n",
    "from deap import base, creator, tools, algorithms\n",
    "seed"
   ]
  },
  {
   "cell_type": "code",
   "execution_count": null,
   "metadata": {
    "ExecuteTime": {
     "start_time": "2023-04-01T03:29:18.161339Z",
     "end_time": "2023-04-01T03:29:18.206232Z"
    }
   },
   "outputs": [],
   "source": [
    "%pylab inline"
   ]
  },
  {
   "cell_type": "markdown",
   "metadata": {},
   "source": [
    "### Setup"
   ]
  },
  {
   "cell_type": "code",
   "execution_count": null,
   "metadata": {
    "ExecuteTime": {
     "start_time": "2023-04-01T03:29:18.177338Z",
     "end_time": "2023-04-01T03:29:18.677755Z"
    }
   },
   "outputs": [],
   "source": [
    "data_timeperiod = 'D'\n",
    "data = get_data('SPY', period=data_timeperiod, nrows=None)\n",
    "data = procdata_lite(data)"
   ]
  },
  {
   "cell_type": "code",
   "execution_count": null,
   "metadata": {
    "ExecuteTime": {
     "start_time": "2023-04-01T03:29:18.678751Z",
     "end_time": "2023-04-01T03:29:18.751557Z"
    }
   },
   "outputs": [],
   "source": [
    "# for inspectiion\n",
    "print(data.shape)\n",
    "data.head()"
   ]
  },
  {
   "cell_type": "markdown",
   "source": [
    "### ------------------------------------------------------------------------------------------------------------"
   ],
   "metadata": {
    "collapsed": false
   }
  },
  {
   "cell_type": "markdown",
   "source": [
    "### Parameters"
   ],
   "metadata": {
    "collapsed": false
   }
  },
  {
   "cell_type": "code",
   "execution_count": null,
   "metadata": {
    "ExecuteTime": {
     "start_time": "2023-04-01T03:29:18.747540Z",
     "end_time": "2023-04-01T03:29:18.752553Z"
    }
   },
   "outputs": [],
   "source": [
    "system.train_set_end = 0.5 # percentage point specifying the training set end point (1.0 means all data is training set)\n",
    "system.val_set_end = 0.75    # percentage point specifying the validation set end point (1.0 means no test set)\n",
    "system.balance_data = 1\n",
    "\n",
    "system.multiclass = 0\n",
    "system.multiclass_move_threshold = 1.0\n",
    "\n",
    "combine_method = 'and' # whether to combine the strategies with 'and' or 'or'\n",
    "multi_objective = 1 # whether to use multiple objectives (NSGA-2) or not\n",
    "\n",
    "individual_size = 3 # number of strategies to combine for each genome\n",
    "eval_min_trades = 50 # minumum number of trades to be eligible for reproduction"
   ]
  },
  {
   "cell_type": "code",
   "execution_count": null,
   "outputs": [],
   "source": [
    "# EA Parameters\n",
    "pop_size = 128\n",
    "num_generations = 250\n",
    "crossover_prob = 0.8\n",
    "mutation_prob = 0.2\n",
    "mutation_prob_gene = 0.2\n",
    "mutation_prob_gene_hard = 0.05\n",
    "\n",
    "avg_profit_fitness_weight = 1.0\n",
    "winners_fitness_weight = 1.0\n",
    "pf_fitness_weight = 3.0"
   ],
   "metadata": {
    "collapsed": false,
    "ExecuteTime": {
     "start_time": "2023-04-01T03:29:18.747540Z",
     "end_time": "2023-04-01T03:29:18.757546Z"
    }
   }
  },
  {
   "cell_type": "markdown",
   "source": [
    "### ------------------------------------------------------------------------------------------------------------"
   ],
   "metadata": {
    "collapsed": false
   }
  },
  {
   "cell_type": "markdown",
   "source": [
    "### LGBMClassifier base classifier"
   ],
   "metadata": {
    "collapsed": false
   }
  },
  {
   "cell_type": "code",
   "execution_count": null,
   "outputs": [],
   "source": [
    "# Train LogisticRegression classifier on train data\n",
    "clf, scaler = train_classifier(LGBMClassifier, data)"
   ],
   "metadata": {
    "collapsed": false,
    "ExecuteTime": {
     "start_time": "2023-04-01T03:29:18.758539Z",
     "end_time": "2023-04-01T03:29:19.136500Z"
    }
   }
  },
  {
   "cell_type": "code",
   "execution_count": null,
   "outputs": [],
   "source": [
    "# Test on val data\n",
    "equity, pf, base_trades = qbacktest(clf, scaler, data)"
   ],
   "metadata": {
    "collapsed": false,
    "ExecuteTime": {
     "start_time": "2023-04-01T03:29:19.074664Z",
     "end_time": "2023-04-01T03:29:20.408108Z"
    }
   }
  },
  {
   "cell_type": "code",
   "execution_count": null,
   "outputs": [],
   "source": [
    "base_trades.head()"
   ],
   "metadata": {
    "collapsed": false,
    "ExecuteTime": {
     "start_time": "2023-04-01T03:29:20.409106Z",
     "end_time": "2023-04-01T03:29:20.469290Z"
    }
   }
  },
  {
   "cell_type": "markdown",
   "source": [
    "### ------------------------------------------------------------------------------------------------------------"
   ],
   "metadata": {
    "collapsed": false
   }
  },
  {
   "cell_type": "markdown",
   "source": [
    "### Obtain all individual startegies (genes) to combine and their stats"
   ],
   "metadata": {
    "collapsed": false
   }
  },
  {
   "cell_type": "code",
   "execution_count": null,
   "outputs": [],
   "source": [
    "all_coords, feature_names, feat_bins, df = compute_feature_matrix(data, base_trades,\n",
    "                                        min_pf=0.1,\n",
    "                                        min_trades=10,\n",
    "                                        max_trades=10000,\n",
    "                                        topn=None)\n",
    "df"
   ],
   "metadata": {
    "collapsed": false,
    "ExecuteTime": {
     "start_time": "2023-04-01T03:29:20.425066Z",
     "end_time": "2023-04-01T03:29:21.854053Z"
    }
   }
  },
  {
   "cell_type": "markdown",
   "source": [
    "### Evolutionary algorithm setup"
   ],
   "metadata": {
    "collapsed": false
   }
  },
  {
   "cell_type": "code",
   "execution_count": null,
   "outputs": [],
   "source": [
    "worst_possible_fitness = -999999.0"
   ],
   "metadata": {
    "collapsed": false,
    "ExecuteTime": {
     "start_time": "2023-04-01T03:29:21.855051Z",
     "end_time": "2023-04-01T03:29:21.874050Z"
    }
   }
  },
  {
   "cell_type": "code",
   "execution_count": null,
   "outputs": [],
   "source": [
    "def evaluate(coord_list):\n",
    "    alltrades = []\n",
    "    for i in range(len(coord_list)):\n",
    "        try:\n",
    "            r,c = coord_list[i]\n",
    "            _, mtrades = compute_stats(data,\n",
    "                                       filter_trades_by_feature(base_trades, data,\n",
    "                                                                featformat(feature_names[r]),\n",
    "                                                                min_value=feat_bins[r][c-1],\n",
    "                                                                max_value=feat_bins[r][c]))\n",
    "            alltrades.append(mtrades)\n",
    "        except Exception as ex:\n",
    "            print(ex)\n",
    "            print(i)\n",
    "            print(coord_list)\n",
    "    alltrades = combined_trades(alltrades, combine_method=combine_method)\n",
    "    if len(alltrades) >= eval_min_trades:\n",
    "        if multi_objective:\n",
    "            return float(np.mean(alltrades['profit'].values)), float(get_winner_pct(alltrades)), float(get_profit_factor(alltrades)),\n",
    "        else:\n",
    "            return float(np.mean(alltrades['profit'].values)),\n",
    "    else:\n",
    "        if multi_objective:\n",
    "            return worst_possible_fitness, worst_possible_fitness, worst_possible_fitness\n",
    "        else:\n",
    "            return worst_possible_fitness,"
   ],
   "metadata": {
    "collapsed": false,
    "ExecuteTime": {
     "start_time": "2023-04-01T03:29:21.873053Z",
     "end_time": "2023-04-01T03:29:21.894995Z"
    }
   }
  },
  {
   "cell_type": "code",
   "execution_count": null,
   "outputs": [],
   "source": [
    "def create_individual():\n",
    "    return rnd.sample(all_coords, individual_size)\n",
    "\n",
    "def create_population(n):\n",
    "    return [creator.Individual(create_individual()) for _ in range(n)]\n",
    "\n",
    "def custom_mutation(individual):\n",
    "    for i in range(len(individual)):\n",
    "        if rnd.random() < mutation_prob_gene:\n",
    "            if rnd.random() < mutation_prob_gene_hard:\n",
    "                individual[i] = rnd.choice(all_coords)\n",
    "            else:\n",
    "                gene_row, gene_col = individual[i]\n",
    "                if rnd.random() < 0.5:\n",
    "                    gene_col = gene_col + 1\n",
    "                else:\n",
    "                    gene_col = gene_col - 1\n",
    "                gene_col = np.clip(gene_col, 1, len(feat_bins[gene_row])-1)\n",
    "                individual[i] = (gene_row, gene_col)\n",
    "\n",
    "    return individual,\n",
    "\n",
    "weights = (avg_profit_fitness_weight, winners_fitness_weight, pf_fitness_weight) if multi_objective else (avg_profit_fitness_weight,)\n",
    "creator.create(\"FitnessMax\", base.Fitness, weights=weights)\n",
    "creator.create(\"Individual\", list, fitness=creator.FitnessMax)\n",
    "toolbox = base.Toolbox()\n",
    "# Register individual and population creation functions\n",
    "toolbox.register(\"individual\", create_individual)\n",
    "toolbox.register(\"population\", create_population)\n",
    "# Register genetic operators\n",
    "toolbox.register(\"mate\", tools.cxTwoPoint)\n",
    "toolbox.register(\"mutate\", custom_mutation)\n",
    "toolbox.register(\"select\", tools.selNSGA2 if multi_objective else tools.selBest)\n",
    "# Register the fitness function\n",
    "toolbox.register(\"evaluate\", lambda x: evaluate(x))"
   ],
   "metadata": {
    "collapsed": false,
    "ExecuteTime": {
     "start_time": "2023-04-01T03:29:21.891005Z",
     "end_time": "2023-04-01T03:29:21.954863Z"
    }
   }
  },
  {
   "cell_type": "markdown",
   "source": [
    "### ------------------------------------------------------------------------------------------------------------"
   ],
   "metadata": {
    "collapsed": false
   }
  },
  {
   "cell_type": "markdown",
   "source": [
    "### Evolutionary algorithm"
   ],
   "metadata": {
    "collapsed": false
   }
  },
  {
   "cell_type": "code",
   "execution_count": null,
   "outputs": [],
   "source": [
    "# Create initial population\n",
    "pop = toolbox.population(n=pop_size)\n",
    "# Evaluate the initial population\n",
    "fitnesses = list(map(toolbox.evaluate, pop))\n",
    "for ind, fit in zip(pop, fitnesses):\n",
    "    ind.fitness.values = fit\n",
    "# Set up the statistics and logbook\n",
    "stats = tools.Statistics(lambda ind: np.dot(weights, ind.fitness.values))\n",
    "stats.register(\"min\", np.min)\n",
    "stats.register(\"max\", np.max)\n",
    "logbook = tools.Logbook()\n",
    "logbook.header = \"gen\", \"evals\", \"min\", \"max\"\n",
    "# Record initial population statistics\n",
    "record = stats.compile(pop)\n",
    "logbook.record(gen=0, evals=len(pop), **record)\n",
    "print(logbook.stream)\n",
    "# Run the genetic algorithm\n",
    "best_ever = worst_possible_fitness\n",
    "cbest = None\n",
    "try:\n",
    "    for gen in range(1, num_generations + 1):\n",
    "\n",
    "        offspring = toolbox.select(pop, len(pop))\n",
    "        offspring = list(offspring)\n",
    "        # Apply crossover and mutation on the offspring\n",
    "        for child1, child2 in zip(offspring[::2], offspring[1::2]):\n",
    "            if rnd.random() < crossover_prob:\n",
    "                toolbox.mate(child1, child2)\n",
    "                del child1.fitness.values\n",
    "                del child2.fitness.values\n",
    "        for mutant in offspring:\n",
    "            if rnd.random() < mutation_prob:\n",
    "                toolbox.mutate(mutant)\n",
    "                del mutant.fitness.values\n",
    "        # Evaluate offspring\n",
    "        fitnesses = list(map(toolbox.evaluate, offspring))\n",
    "        for ind, fit in zip(offspring, fitnesses):\n",
    "            ind.fitness.values = fit\n",
    "        # keep the best ever found\n",
    "        ctop = tools.selBest(pop, 1)[0]\n",
    "        ctf = np.dot(weights, ctop.fitness.values)\n",
    "        if ctf > best_ever:\n",
    "            print('NEW RECORD:', ctf)\n",
    "            cbest = deepcopy(ctop)\n",
    "            best_ever = ctf\n",
    "        # Replace the old population with the offspring and the best individuals\n",
    "        pop[:] = offspring\n",
    "        # Update the statistics and logbook\n",
    "        record = stats.compile(pop)\n",
    "        logbook.record(gen=gen, evals=len(pop), **record)\n",
    "        print(logbook.stream)\n",
    "except KeyboardInterrupt:\n",
    "    print('Interrupted.')\n",
    "\n",
    "# the best individual found\n",
    "best_ind = cbest\n",
    "print(\"\\nBest score: {}\".format(np.dot(weights, best_ind.fitness.values)))"
   ],
   "metadata": {
    "collapsed": false,
    "ExecuteTime": {
     "start_time": "2023-04-01T03:29:21.905966Z",
     "end_time": "2023-04-01T03:29:49.129147Z"
    }
   }
  },
  {
   "cell_type": "code",
   "execution_count": null,
   "outputs": [],
   "source": [
    "# Description of the best strategy (feature name [ range where it can trade ])\n",
    "for i in range(len(best_ind)):\n",
    "    r,c = best_ind[i]\n",
    "    print(feature_names[r], f'[{feat_bins[r][c-1]:.5f} .. {feat_bins[r][c]:.5f}]')"
   ],
   "metadata": {
    "collapsed": false,
    "ExecuteTime": {
     "start_time": "2023-04-01T03:29:49.130176Z",
     "end_time": "2023-04-01T03:29:49.174580Z"
    }
   }
  },
  {
   "cell_type": "code",
   "execution_count": null,
   "outputs": [],
   "source": [
    "best_coords = best_ind"
   ],
   "metadata": {
    "collapsed": false,
    "ExecuteTime": {
     "start_time": "2023-04-01T03:29:49.145653Z",
     "end_time": "2023-04-01T03:29:49.179567Z"
    }
   }
  },
  {
   "cell_type": "markdown",
   "source": [
    "### ------------------------------------------------------------------------------------------------------------"
   ],
   "metadata": {
    "collapsed": false
   }
  },
  {
   "cell_type": "markdown",
   "source": [
    "### Test the best individual on val data"
   ],
   "metadata": {
    "collapsed": false
   }
  },
  {
   "cell_type": "code",
   "execution_count": null,
   "outputs": [],
   "source": [
    "alltrades = []\n",
    "for i in range(len(best_coords)):\n",
    "    r,c = best_coords[i]\n",
    "    _, mtrades = compute_stats(data,\n",
    "                               filter_trades_by_feature(base_trades, data,\n",
    "                                                        featformat(feature_names[r]),\n",
    "                                                        min_value=feat_bins[r][c-1],\n",
    "                                                        max_value=feat_bins[r][c]))\n",
    "    alltrades.append(mtrades)\n",
    "alltrades = combined_trades(alltrades, combine_method=combine_method)\n",
    "plt.plot(alltrades['profit'].cumsum())\n",
    "print(f'Profit factor: {get_profit_factor(alltrades):.5f}, Winners: {get_winner_pct(alltrades):.2f}%, Trades: {len(alltrades)}')"
   ],
   "metadata": {
    "collapsed": false,
    "ExecuteTime": {
     "start_time": "2023-04-01T03:29:49.162116Z",
     "end_time": "2023-04-01T03:29:49.300057Z"
    }
   }
  },
  {
   "cell_type": "markdown",
   "source": [
    "### Test the best individual on unseen data"
   ],
   "metadata": {
    "collapsed": false
   }
  },
  {
   "cell_type": "code",
   "execution_count": null,
   "outputs": [],
   "source": [
    "# Base test without the filter\n",
    "*_, test_trades = qbacktest(clf, scaler, data, skip_val=1, skip_test=0, quiet=1)"
   ],
   "metadata": {
    "collapsed": false,
    "ExecuteTime": {
     "start_time": "2023-04-01T03:29:49.301091Z",
     "end_time": "2023-04-01T03:29:50.169731Z"
    }
   }
  },
  {
   "cell_type": "code",
   "execution_count": null,
   "outputs": [],
   "source": [
    "# Test with the filter\n",
    "alltrades = []\n",
    "for r,c in best_coords:\n",
    "    _, mtrades = compute_stats(data,\n",
    "                               filter_trades_by_feature(test_trades, data,\n",
    "                                                        featformat(feature_names[r]),\n",
    "                                                        min_value=feat_bins[r][c-1],\n",
    "                                                        max_value=feat_bins[r][c]))\n",
    "    alltrades.append(mtrades)\n",
    "alltrades = combined_trades(alltrades, combine_method=combine_method)\n",
    "plt.plot(alltrades['profit'].cumsum())\n",
    "print(f'Profit factor: {get_profit_factor(alltrades):.5f}, Winners: {get_winner_pct(alltrades):.2f}%, Trades: {len(alltrades)}')"
   ],
   "metadata": {
    "collapsed": false,
    "ExecuteTime": {
     "start_time": "2023-04-01T03:29:50.172723Z",
     "end_time": "2023-04-01T03:29:50.329066Z"
    }
   }
  },
  {
   "cell_type": "code",
   "execution_count": null,
   "outputs": [],
   "source": [
    "alltrades[0:20]"
   ],
   "metadata": {
    "collapsed": false,
    "ExecuteTime": {
     "start_time": "2023-04-01T03:29:50.330047Z",
     "end_time": "2023-04-01T03:29:50.375435Z"
    }
   }
  },
  {
   "cell_type": "markdown",
   "source": [
    "### ------------------------------------------------------------------------------------------------------------"
   ],
   "metadata": {
    "collapsed": false
   }
  },
  {
   "cell_type": "code",
   "execution_count": null,
   "outputs": [],
   "source": [],
   "metadata": {
    "collapsed": false,
    "ExecuteTime": {
     "start_time": "2023-04-01T03:29:50.345522Z",
     "end_time": "2023-04-01T03:29:50.375435Z"
    }
   }
  },
  {
   "cell_type": "code",
   "execution_count": null,
   "outputs": [],
   "source": [],
   "metadata": {
    "collapsed": false,
    "ExecuteTime": {
     "start_time": "2023-04-01T03:29:50.361473Z",
     "end_time": "2023-04-01T03:29:50.405421Z"
    }
   }
  },
  {
   "cell_type": "code",
   "execution_count": null,
   "outputs": [],
   "source": [],
   "metadata": {
    "collapsed": false,
    "ExecuteTime": {
     "start_time": "2023-04-01T03:29:50.377430Z",
     "end_time": "2023-04-01T03:29:50.437761Z"
    }
   }
  },
  {
   "cell_type": "code",
   "execution_count": null,
   "outputs": [],
   "source": [],
   "metadata": {
    "collapsed": false,
    "ExecuteTime": {
     "start_time": "2023-04-01T03:29:50.392390Z",
     "end_time": "2023-04-01T03:29:50.448732Z"
    }
   }
  },
  {
   "cell_type": "code",
   "execution_count": null,
   "metadata": {
    "ExecuteTime": {
     "start_time": "2023-04-01T03:29:50.407276Z",
     "end_time": "2023-04-01T03:29:50.448732Z"
    }
   },
   "outputs": [],
   "source": []
  },
  {
   "cell_type": "code",
   "execution_count": null,
   "metadata": {
    "ExecuteTime": {
     "start_time": "2023-04-01T03:29:50.423294Z",
     "end_time": "2023-04-01T03:29:50.450726Z"
    }
   },
   "outputs": [],
   "source": []
  }
 ],
 "metadata": {
  "colab": {
   "provenance": []
  },
  "kernelspec": {
   "display_name": "Python 3 (ipykernel)",
   "language": "python",
   "name": "python3"
  },
  "language_info": {
   "codemirror_mode": {
    "name": "ipython",
    "version": 3
   },
   "file_extension": ".py",
   "mimetype": "text/x-python",
   "name": "python",
   "nbconvert_exporter": "python",
   "pygments_lexer": "ipython3",
   "version": "3.8.10"
  },
  "pycharm": {
   "stem_cell": {
    "cell_type": "raw",
    "metadata": {
     "collapsed": false
    },
    "source": []
   }
  },
  "toc": {
   "base_numbering": 1,
   "nav_menu": {},
   "number_sections": true,
   "sideBar": true,
   "skip_h1_title": false,
   "title_cell": "Table of Contents",
   "title_sidebar": "Contents",
   "toc_cell": false,
   "toc_position": {
    "height": "calc(100% - 180px)",
    "left": "10px",
    "top": "150px",
    "width": "165px"
   },
   "toc_section_display": true,
   "toc_window_display": true
  }
 },
 "nbformat": 4,
 "nbformat_minor": 1
}
