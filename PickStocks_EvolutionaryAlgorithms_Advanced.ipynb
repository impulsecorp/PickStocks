{
 "cells": [
  {
   "cell_type": "markdown",
   "metadata": {},
   "source": [
    "### ------------------------------------------------------------------------------------------------------------"
   ]
  },
  {
   "cell_type": "code",
   "execution_count": null,
   "metadata": {
    "id": "LTSDSXZTURm5",
    "ExecuteTime": {
     "start_time": "2023-04-01T03:59:51.127536Z",
     "end_time": "2023-04-01T03:59:51.439702Z"
    }
   },
   "outputs": [],
   "source": [
    "import os\n",
    "\n",
    "import numpy as np\n",
    "\n",
    "if 'COLAB_GPU' in os.environ:\n",
    "    !git clone https://github.com/impulsecorp/PickStocks.git\n",
    "    !mv PickStocks/*.py .\n",
    "    !mv PickStocks/data .\n",
    "    !pip install -U -qq -r PickStocks/requirements.txt"
   ]
  },
  {
   "cell_type": "code",
   "execution_count": null,
   "metadata": {
    "id": "rqKDcXZB4tNG",
    "ExecuteTime": {
     "start_time": "2023-04-01T03:59:51.211313Z",
     "end_time": "2023-04-01T03:59:53.570986Z"
    }
   },
   "outputs": [],
   "source": [
    "import warnings\n",
    "warnings.filterwarnings(\"ignore\")\n",
    "import system\n",
    "from system import *\n",
    "# small hack to prevent Colab error\n",
    "try:\n",
    "    from datablock import *\n",
    "except:\n",
    "    from datablock import *\n",
    "from deap import base, creator, tools, algorithms\n",
    "seed"
   ]
  },
  {
   "cell_type": "code",
   "execution_count": null,
   "metadata": {
    "ExecuteTime": {
     "start_time": "2023-04-01T03:59:53.572029Z",
     "end_time": "2023-04-01T03:59:53.617900Z"
    }
   },
   "outputs": [],
   "source": [
    "%pylab inline"
   ]
  },
  {
   "cell_type": "markdown",
   "metadata": {},
   "source": [
    "### Setup"
   ]
  },
  {
   "cell_type": "code",
   "execution_count": null,
   "metadata": {
    "ExecuteTime": {
     "start_time": "2023-04-01T03:59:53.587952Z",
     "end_time": "2023-04-01T03:59:54.095378Z"
    }
   },
   "outputs": [],
   "source": [
    "data_timeperiod = 'D'\n",
    "data = get_data('SPY', period=data_timeperiod, nrows=None)\n",
    "data = procdata_lite(data)"
   ]
  },
  {
   "cell_type": "code",
   "execution_count": null,
   "metadata": {
    "ExecuteTime": {
     "start_time": "2023-04-01T03:59:54.097374Z",
     "end_time": "2023-04-01T03:59:54.143456Z"
    }
   },
   "outputs": [],
   "source": [
    "# for inspectiion\n",
    "print(data.shape)\n",
    "data.head()"
   ]
  },
  {
   "cell_type": "markdown",
   "source": [
    "### ------------------------------------------------------------------------------------------------------------"
   ],
   "metadata": {
    "collapsed": false
   }
  },
  {
   "cell_type": "code",
   "execution_count": null,
   "outputs": [],
   "source": [
    "#### This version of the notebook evolves more complex genomes that use thresholds instead of bins"
   ],
   "metadata": {
    "collapsed": false
   }
  },
  {
   "cell_type": "markdown",
   "source": [
    "### Parameters"
   ],
   "metadata": {
    "collapsed": false
   }
  },
  {
   "cell_type": "code",
   "execution_count": null,
   "metadata": {
    "ExecuteTime": {
     "start_time": "2023-04-01T03:59:54.145424Z",
     "end_time": "2023-04-01T03:59:54.188572Z"
    }
   },
   "outputs": [],
   "source": [
    "system.train_set_end = 0.5 # percentage point specifying the training set end point (1.0 means all data is training set)\n",
    "system.val_set_end = 0.75    # percentage point specifying the validation set end point (1.0 means no test set)\n",
    "system.balance_data = 1\n",
    "\n",
    "system.multiclass = 0\n",
    "system.multiclass_move_threshold = 1.0\n",
    "\n",
    "combine_method = 'and' # whether to combine the strategies with 'and' or 'or'\n",
    "multi_objective = 1 # whether to use multiple objectives (NSGA-2) or not\n",
    "\n",
    "individual_size = 5 # number of strategies to combine for each genome\n",
    "eval_min_trades = 100 # minumum number of trades to be eligible for reproduction"
   ]
  },
  {
   "cell_type": "code",
   "execution_count": null,
   "outputs": [],
   "source": [
    "# EA Parameters\n",
    "pop_size = 128\n",
    "num_generations = 200\n",
    "crossover_prob = 0.8\n",
    "\n",
    "mutation_prob = 0.2\n",
    "mutation_prob_gene = 0.2\n",
    "mutation_prob_gene_hard = 0.05\n",
    "mutation_prob_gene_c = 0.5\n",
    "mutation_prob_gene_d = 0.25\n",
    "mutation_prob_gene_a = 0.1\n",
    "mutation_power = 0.33\n",
    "\n",
    "avg_profit_fitness_weight = 1.0\n",
    "winners_fitness_weight = 1.0\n",
    "pf_fitness_weight = 1.0"
   ],
   "metadata": {
    "collapsed": false,
    "ExecuteTime": {
     "start_time": "2023-04-01T03:59:54.160421Z",
     "end_time": "2023-04-01T03:59:54.219399Z"
    }
   }
  },
  {
   "cell_type": "markdown",
   "source": [
    "### ------------------------------------------------------------------------------------------------------------"
   ],
   "metadata": {
    "collapsed": false
   }
  },
  {
   "cell_type": "code",
   "execution_count": null,
   "outputs": [],
   "source": [],
   "metadata": {
    "collapsed": false,
    "ExecuteTime": {
     "start_time": "2023-04-01T03:59:54.175382Z",
     "end_time": "2023-04-01T03:59:54.241340Z"
    }
   }
  },
  {
   "cell_type": "code",
   "execution_count": null,
   "outputs": [],
   "source": [],
   "metadata": {
    "collapsed": false,
    "ExecuteTime": {
     "start_time": "2023-04-01T03:59:54.190445Z",
     "end_time": "2023-04-01T03:59:54.256300Z"
    }
   }
  },
  {
   "cell_type": "markdown",
   "source": [
    "### LGBMClassifier base classifier"
   ],
   "metadata": {
    "collapsed": false
   }
  },
  {
   "cell_type": "code",
   "execution_count": null,
   "outputs": [],
   "source": [
    "# Train LogisticRegression classifier on train data\n",
    "clf, scaler = train_classifier(LGBMClassifier, data)"
   ],
   "metadata": {
    "collapsed": false,
    "ExecuteTime": {
     "start_time": "2023-04-01T03:59:54.205437Z",
     "end_time": "2023-04-01T03:59:54.837159Z"
    }
   }
  },
  {
   "cell_type": "code",
   "execution_count": null,
   "outputs": [],
   "source": [
    "# Test on val data\n",
    "equity, pf, base_trades = qbacktest(clf, scaler, data)"
   ],
   "metadata": {
    "collapsed": false,
    "ExecuteTime": {
     "start_time": "2023-04-01T03:59:54.568862Z",
     "end_time": "2023-04-01T03:59:55.716360Z"
    }
   }
  },
  {
   "cell_type": "code",
   "execution_count": null,
   "outputs": [],
   "source": [
    "base_trades.head()"
   ],
   "metadata": {
    "collapsed": false,
    "ExecuteTime": {
     "start_time": "2023-04-01T03:59:55.717358Z",
     "end_time": "2023-04-01T03:59:55.778451Z"
    }
   }
  },
  {
   "cell_type": "markdown",
   "source": [
    "### ------------------------------------------------------------------------------------------------------------"
   ],
   "metadata": {
    "collapsed": false
   }
  },
  {
   "cell_type": "markdown",
   "source": [
    "### Obtain all individual startegies (genes) to combine and their stats"
   ],
   "metadata": {
    "collapsed": false
   }
  },
  {
   "cell_type": "code",
   "execution_count": null,
   "outputs": [],
   "source": [
    "min_pf = 0.1\n",
    "min_trades = 10\n",
    "max_trades = 10000"
   ],
   "metadata": {
    "collapsed": false,
    "ExecuteTime": {
     "start_time": "2023-04-01T03:59:55.733314Z",
     "end_time": "2023-04-01T03:59:55.780419Z"
    }
   }
  },
  {
   "cell_type": "code",
   "execution_count": null,
   "outputs": [],
   "source": [
    "feature_names, centers = compute_centers(data)\n",
    "list(zip(feature_names, centers))"
   ],
   "metadata": {
    "collapsed": false,
    "ExecuteTime": {
     "start_time": "2023-04-01T03:59:55.751266Z",
     "end_time": "2023-04-01T03:59:55.820435Z"
    }
   }
  },
  {
   "cell_type": "markdown",
   "source": [
    "### Evolutionary algorithm setup"
   ],
   "metadata": {
    "collapsed": false
   }
  },
  {
   "cell_type": "code",
   "execution_count": null,
   "outputs": [],
   "source": [
    "worst_possible_fitness = -999999.0"
   ],
   "metadata": {
    "collapsed": false,
    "ExecuteTime": {
     "start_time": "2023-04-01T03:59:55.763739Z",
     "end_time": "2023-04-01T03:59:55.820435Z"
    }
   }
  },
  {
   "cell_type": "code",
   "execution_count": null,
   "outputs": [],
   "source": [
    "def evaluate(genome):\n",
    "    alltrades = []\n",
    "    for i in range(len(genome)):\n",
    "        try:\n",
    "            r,c,d,a = genome[i]\n",
    "            if d == 'above':\n",
    "                _, mtrades = compute_stats(data,\n",
    "                                           filter_trades_by_feature(base_trades, data,\n",
    "                                                                    featformat(feature_names[r]),\n",
    "                                                                    min_value=c,\n",
    "                                                                    use_abs=a))\n",
    "            elif d == 'below':\n",
    "                _, mtrades = compute_stats(data,\n",
    "                                           filter_trades_by_feature(base_trades, data,\n",
    "                                                                    featformat(feature_names[r]),\n",
    "                                                                    max_value=c,\n",
    "                                                                    use_abs=a))\n",
    "            else:\n",
    "                _, mtrades = compute_stats(data,\n",
    "                                           filter_trades_by_feature(base_trades, data,\n",
    "                                                                    featformat(feature_names[r]),\n",
    "                                                                    exact_value=c,\n",
    "                                                                    use_abs=a))\n",
    "            alltrades.append(mtrades)\n",
    "        except Exception as ex:\n",
    "            print(ex)\n",
    "            print(i)\n",
    "            print(genome)\n",
    "    alltrades = combined_trades(alltrades, combine_method=combine_method)\n",
    "    if len(alltrades) >= eval_min_trades:\n",
    "        if multi_objective:\n",
    "            return float(np.mean(alltrades['profit'].values)), float(get_winner_pct(alltrades)), float(get_profit_factor(alltrades)),\n",
    "        else:\n",
    "            return float(np.mean(alltrades['profit'].values)),\n",
    "    else:\n",
    "        if multi_objective:\n",
    "            return worst_possible_fitness, worst_possible_fitness, worst_possible_fitness\n",
    "        else:\n",
    "            return worst_possible_fitness,"
   ],
   "metadata": {
    "collapsed": false,
    "ExecuteTime": {
     "start_time": "2023-04-01T03:59:55.783411Z",
     "end_time": "2023-04-01T03:59:55.832403Z"
    }
   }
  },
  {
   "cell_type": "code",
   "execution_count": null,
   "outputs": [],
   "source": [
    "def rand_gene():\n",
    "    # make new gene\n",
    "    r = rnd.randint(0, len(feature_names)-1)\n",
    "    c = rnd.uniform(centers[r][0], centers[r][1])\n",
    "    d = rnd.choice(['above','below','exact'])\n",
    "    a = rnd.choice([True, False])\n",
    "\n",
    "    return r,c,d,a\n",
    "\n",
    "def create_individual():\n",
    "    ind = []\n",
    "    for i in range(individual_size):\n",
    "        ind.append(rand_gene())\n",
    "    return ind\n",
    "\n",
    "def create_population(n):\n",
    "    return [creator.Individual(create_individual()) for _ in range(n)]\n",
    "\n",
    "def custom_mutation(individual):\n",
    "    for i in range(len(individual)):\n",
    "        if rnd.random() < mutation_prob_gene:\n",
    "            if rnd.random() < mutation_prob_gene_hard:\n",
    "                individual[i] = rand_gene()\n",
    "            else:\n",
    "                gene_r, gene_c, gene_d, gene_a = individual[i]\n",
    "\n",
    "                mag = (centers[gene_r][1]-centers[gene_r][0])*mutation_power\n",
    "                if rnd.random() < mutation_prob_gene_c:\n",
    "                    gene_c += rnd.uniform(-mag, mag)\n",
    "                if rnd.random() < mutation_prob_gene_d:\n",
    "                    gene_d = rnd.choice(['above','below','exact'])\n",
    "                if rnd.random() < mutation_prob_gene_a:\n",
    "                    gene_a = rnd.choice([True, False])\n",
    "                individual[i] = (gene_r, gene_c, gene_d, gene_a)\n",
    "    return individual,\n",
    "\n",
    "creator.create(\"FitnessMax\", base.Fitness, weights=(avg_profit_fitness_weight, winners_fitness_weight, pf_fitness_weight)\n",
    "                                                   if multi_objective else (avg_profit_fitness_weight,))\n",
    "creator.create(\"Individual\", list, fitness=creator.FitnessMax)\n",
    "toolbox = base.Toolbox()\n",
    "# Register individual and population creation functions\n",
    "toolbox.register(\"individual\", create_individual)\n",
    "toolbox.register(\"population\", create_population)\n",
    "# Register genetic operators\n",
    "toolbox.register(\"mate\", tools.cxTwoPoint)\n",
    "toolbox.register(\"mutate\", custom_mutation)\n",
    "toolbox.register(\"select\", tools.selNSGA2 if multi_objective else tools.selBest)\n",
    "# Register the fitness function\n",
    "toolbox.register(\"evaluate\", lambda x: evaluate(x))"
   ],
   "metadata": {
    "collapsed": false,
    "ExecuteTime": {
     "start_time": "2023-04-01T03:59:55.794712Z",
     "end_time": "2023-04-01T03:59:55.855341Z"
    }
   }
  },
  {
   "cell_type": "markdown",
   "source": [
    "### ------------------------------------------------------------------------------------------------------------"
   ],
   "metadata": {
    "collapsed": false
   }
  },
  {
   "cell_type": "markdown",
   "source": [
    "### Evolutionary algorithm"
   ],
   "metadata": {
    "collapsed": false
   }
  },
  {
   "cell_type": "code",
   "execution_count": null,
   "outputs": [],
   "source": [
    "# Create initial population\n",
    "pop = toolbox.population(n=pop_size)\n",
    "# Evaluate the initial population\n",
    "fitnesses = list(map(toolbox.evaluate, pop))\n",
    "for ind, fit in zip(pop, fitnesses):\n",
    "    ind.fitness.values = fit\n",
    "# Set up the statistics and logbook\n",
    "stats = tools.Statistics(lambda ind: np.sum(ind.fitness.values))\n",
    "stats.register(\"avg\", np.mean)\n",
    "stats.register(\"std\", np.std)\n",
    "stats.register(\"min\", np.min)\n",
    "stats.register(\"max\", np.max)\n",
    "logbook = tools.Logbook()\n",
    "logbook.header = \"gen\", \"evals\", \"std\", \"min\", \"avg\", \"max\"\n",
    "# Record initial population statistics\n",
    "record = stats.compile(pop)\n",
    "logbook.record(gen=0, evals=len(pop), **record)\n",
    "print(logbook.stream)\n",
    "# Run the genetic algorithm\n",
    "best_ever = worst_possible_fitness\n",
    "cbest = None\n",
    "try:\n",
    "    for gen in range(1, num_generations + 1):\n",
    "\n",
    "        offspring = toolbox.select(pop, len(pop))\n",
    "        offspring = list(offspring)\n",
    "        # Apply crossover and mutation on the offspring\n",
    "        for child1, child2 in zip(offspring[::2], offspring[1::2]):\n",
    "            if rnd.random() < crossover_prob:\n",
    "                toolbox.mate(child1, child2)\n",
    "                del child1.fitness.values\n",
    "                del child2.fitness.values\n",
    "        for mutant in offspring:\n",
    "            if rnd.random() < mutation_prob:\n",
    "                toolbox.mutate(mutant)\n",
    "                del mutant.fitness.values\n",
    "        # Evaluate offspring\n",
    "        fitnesses = list(map(toolbox.evaluate, offspring))\n",
    "        for ind, fit in zip(offspring, fitnesses):\n",
    "            ind.fitness.values = fit\n",
    "        # keep the best ever found\n",
    "        ctop = tools.selBest(pop, 1)[0]\n",
    "        if np.sum(ctop.fitness.values) > best_ever:\n",
    "            print('NEW RECORD:', np.sum(ctop.fitness.values))\n",
    "            cbest = deepcopy(ctop)\n",
    "            best_ever = np.sum(ctop.fitness.values)\n",
    "        # Replace the old population with the offspring and the best individuals\n",
    "        pop[:] = offspring\n",
    "        # Update the statistics and logbook\n",
    "        record = stats.compile(pop)\n",
    "        logbook.record(gen=gen, evals=len(pop), **record)\n",
    "        print(logbook.stream)\n",
    "except KeyboardInterrupt:\n",
    "    print('Interrupted.')\n",
    "\n",
    "# the best individual found\n",
    "best_ind = cbest\n",
    "print(\"\\nBest individual: {}\\nBest score: {}\".format(best_ind, np.sum(best_ind.fitness.values)))"
   ],
   "metadata": {
    "collapsed": false,
    "ExecuteTime": {
     "start_time": "2023-04-01T03:59:55.809491Z",
     "end_time": "2023-04-01T04:00:22.952086Z"
    }
   }
  },
  {
   "cell_type": "code",
   "execution_count": null,
   "outputs": [],
   "source": [
    "# Description of the best strategy (feature name [ range where it can trade ])\n",
    "for i in range(len(best_ind)):\n",
    "    r,c,d,a = best_ind[i]\n",
    "    print(feature_names[r], d, f'{c:.5f} abs: {a}')"
   ],
   "metadata": {
    "collapsed": false,
    "ExecuteTime": {
     "start_time": "2023-04-01T04:00:22.954082Z",
     "end_time": "2023-04-01T04:00:22.972394Z"
    }
   }
  },
  {
   "cell_type": "code",
   "execution_count": null,
   "outputs": [],
   "source": [
    "best_genome = best_ind"
   ],
   "metadata": {
    "collapsed": false,
    "ExecuteTime": {
     "start_time": "2023-04-01T04:00:22.969402Z",
     "end_time": "2023-04-01T04:00:23.015463Z"
    }
   }
  },
  {
   "cell_type": "markdown",
   "source": [
    "### ------------------------------------------------------------------------------------------------------------"
   ],
   "metadata": {
    "collapsed": false
   }
  },
  {
   "cell_type": "markdown",
   "source": [
    "### Test the best individual on val data"
   ],
   "metadata": {
    "collapsed": false
   }
  },
  {
   "cell_type": "code",
   "execution_count": null,
   "outputs": [],
   "source": [
    "alltrades = []\n",
    "for i in range(len(best_genome)):\n",
    "    try:\n",
    "        r,c,d,a = best_genome[i]\n",
    "        if d == 'above':\n",
    "            _, mtrades = compute_stats(data,\n",
    "                                       filter_trades_by_feature(base_trades, data,\n",
    "                                                                featformat(feature_names[r]),\n",
    "                                                                min_value=c,\n",
    "                                                                use_abs=a))\n",
    "        elif d == 'below':\n",
    "            _, mtrades = compute_stats(data,\n",
    "                                       filter_trades_by_feature(base_trades, data,\n",
    "                                                                featformat(feature_names[r]),\n",
    "                                                                max_value=c,\n",
    "                                                                use_abs=a))\n",
    "        else:\n",
    "            _, mtrades = compute_stats(data,\n",
    "                                       filter_trades_by_feature(base_trades, data,\n",
    "                                                                featformat(feature_names[r]),\n",
    "                                                                exact_value=c,\n",
    "                                                                use_abs=a))\n",
    "        alltrades.append(mtrades)\n",
    "    except Exception as ex:\n",
    "        print(ex)\n",
    "        print(i)\n",
    "        print(best_genome)\n",
    "alltrades = combined_trades(alltrades, combine_method=combine_method)\n",
    "plt.plot(alltrades['profit'].cumsum())\n",
    "print(f'Profit factor: {get_profit_factor(alltrades):.5f}, Winners: {get_winner_pct(alltrades):.2f}%, Trades: {len(alltrades)}')"
   ],
   "metadata": {
    "collapsed": false,
    "ExecuteTime": {
     "start_time": "2023-04-01T04:00:22.987510Z",
     "end_time": "2023-04-01T04:00:23.125228Z"
    }
   }
  },
  {
   "cell_type": "markdown",
   "source": [
    "### Test the best individual on unseen data"
   ],
   "metadata": {
    "collapsed": false
   }
  },
  {
   "cell_type": "code",
   "execution_count": null,
   "outputs": [],
   "source": [
    "# Base test without the filter\n",
    "equity, _, test_trades = qbacktest(clf, scaler, data, skip_val=1, skip_test=0, quiet=1)"
   ],
   "metadata": {
    "collapsed": false,
    "ExecuteTime": {
     "start_time": "2023-04-01T04:00:23.126225Z",
     "end_time": "2023-04-01T04:00:23.996419Z"
    }
   }
  },
  {
   "cell_type": "code",
   "execution_count": null,
   "outputs": [],
   "source": [
    "# Test with the filter\n",
    "alltrades = []\n",
    "for i in range(len(best_genome)):\n",
    "    try:\n",
    "        r,c,d,a = best_genome[i]\n",
    "        if d == 'above':\n",
    "            _, mtrades = compute_stats(data,\n",
    "                                       filter_trades_by_feature(test_trades, data,\n",
    "                                                                featformat(feature_names[r]),\n",
    "                                                                min_value=c,\n",
    "                                                                use_abs=a))\n",
    "        elif d == 'below':\n",
    "            _, mtrades = compute_stats(data,\n",
    "                                       filter_trades_by_feature(test_trades, data,\n",
    "                                                                featformat(feature_names[r]),\n",
    "                                                                max_value=c,\n",
    "                                                                use_abs=a))\n",
    "        else:\n",
    "            _, mtrades = compute_stats(data,\n",
    "                                       filter_trades_by_feature(test_trades, data,\n",
    "                                                                featformat(feature_names[r]),\n",
    "                                                                exact_value=c,\n",
    "                                                                use_abs=a))\n",
    "        alltrades.append(mtrades)\n",
    "    except Exception as ex:\n",
    "        print(ex)\n",
    "        print(i)\n",
    "        print(best_genome)\n",
    "alltrades = combined_trades(alltrades, combine_method=combine_method)\n",
    "plt.plot(alltrades['profit'].cumsum())\n",
    "print(f'Profit factor: {get_profit_factor(alltrades):.5f}, Winners: {get_winner_pct(alltrades):.2f}%, Trades: {len(alltrades)}')"
   ],
   "metadata": {
    "collapsed": false,
    "ExecuteTime": {
     "start_time": "2023-04-01T04:00:23.990434Z",
     "end_time": "2023-04-01T04:00:24.166532Z"
    }
   }
  },
  {
   "cell_type": "code",
   "execution_count": null,
   "outputs": [],
   "source": [
    "alltrades[0:20]"
   ],
   "metadata": {
    "collapsed": false,
    "ExecuteTime": {
     "start_time": "2023-04-01T04:00:24.157548Z",
     "end_time": "2023-04-01T04:00:24.201183Z"
    }
   }
  },
  {
   "cell_type": "markdown",
   "source": [
    "### ------------------------------------------------------------------------------------------------------------"
   ],
   "metadata": {
    "collapsed": false
   }
  },
  {
   "cell_type": "code",
   "execution_count": null,
   "outputs": [],
   "source": [],
   "metadata": {
    "collapsed": false,
    "ExecuteTime": {
     "start_time": "2023-04-01T04:00:24.171512Z",
     "end_time": "2023-04-01T04:00:24.214150Z"
    }
   }
  },
  {
   "cell_type": "code",
   "execution_count": null,
   "outputs": [],
   "source": [],
   "metadata": {
    "collapsed": false,
    "ExecuteTime": {
     "start_time": "2023-04-01T04:00:24.187467Z",
     "end_time": "2023-04-01T04:00:24.232146Z"
    }
   }
  },
  {
   "cell_type": "code",
   "execution_count": null,
   "outputs": [],
   "source": [],
   "metadata": {
    "collapsed": false,
    "ExecuteTime": {
     "start_time": "2023-04-01T04:00:24.204178Z",
     "end_time": "2023-04-01T04:00:24.257620Z"
    }
   }
  },
  {
   "cell_type": "code",
   "execution_count": null,
   "outputs": [],
   "source": [],
   "metadata": {
    "collapsed": false,
    "ExecuteTime": {
     "start_time": "2023-04-01T04:00:24.218139Z",
     "end_time": "2023-04-01T04:00:24.275572Z"
    }
   }
  },
  {
   "cell_type": "code",
   "execution_count": null,
   "metadata": {
    "ExecuteTime": {
     "start_time": "2023-04-01T04:00:24.234138Z",
     "end_time": "2023-04-01T04:00:24.275572Z"
    }
   },
   "outputs": [],
   "source": []
  },
  {
   "cell_type": "code",
   "execution_count": null,
   "metadata": {
    "ExecuteTime": {
     "start_time": "2023-04-01T04:00:24.250094Z",
     "end_time": "2023-04-01T04:00:24.276569Z"
    }
   },
   "outputs": [],
   "source": []
  }
 ],
 "metadata": {
  "colab": {
   "provenance": []
  },
  "kernelspec": {
   "display_name": "Python 3 (ipykernel)",
   "language": "python",
   "name": "python3"
  },
  "language_info": {
   "codemirror_mode": {
    "name": "ipython",
    "version": 3
   },
   "file_extension": ".py",
   "mimetype": "text/x-python",
   "name": "python",
   "nbconvert_exporter": "python",
   "pygments_lexer": "ipython3",
   "version": "3.8.10"
  },
  "pycharm": {
   "stem_cell": {
    "cell_type": "raw",
    "metadata": {
     "collapsed": false
    },
    "source": []
   }
  },
  "toc": {
   "base_numbering": 1,
   "nav_menu": {},
   "number_sections": true,
   "sideBar": true,
   "skip_h1_title": false,
   "title_cell": "Table of Contents",
   "title_sidebar": "Contents",
   "toc_cell": false,
   "toc_position": {
    "height": "calc(100% - 180px)",
    "left": "10px",
    "top": "150px",
    "width": "165px"
   },
   "toc_section_display": true,
   "toc_window_display": true
  }
 },
 "nbformat": 4,
 "nbformat_minor": 1
}
